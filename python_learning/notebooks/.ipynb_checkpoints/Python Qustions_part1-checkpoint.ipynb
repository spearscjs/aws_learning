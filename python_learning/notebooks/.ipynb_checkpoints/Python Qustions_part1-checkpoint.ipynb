{
 "cells": [
  {
   "cell_type": "markdown",
   "metadata": {},
   "source": [
    "<h1 style= 'font-size:3rem'><u><center>Python Qustions</center></u></h1>\n",
    "\n",
    "\n",
    "\n",
    "# 1.How would you confirm that 2 strings have the same identity?\n",
    "# 2.How would you check if each word in a string begins with a capital letter?\n",
    "# 3.What is an f-string and how do you use it?\n",
    "# 4.Reverse the string “hello world”.\n",
    "# 5.Word location in String\n",
    "# 6.Test if string is subset of another\n",
    "# 7.Python program to interchange first and last elements in a list\n",
    "# 8.Python program to swap two elements in a list\n",
    "# 9.Python program to count positive and negative numbers in a list\n",
    "# 10.Python Program to remove empty tuples from a list\n",
    "# 11.Program to print duplicates from a list of integers\n",
    "# 12.Program to count unique values inside a list\n",
    "# 13.Python Program to Retain records with N occurrences of K\n",
    "# 14.Find the size of a Dictionary in Python\n",
    "# 15.Python Program to Merge two Dictionaries\n",
    "# 16.Program to Group Similar items to Dictionary Values List\n",
    "# 17.Program Extract values of Particular Key in Nested Values\n",
    "# 18.Program to Reverse Dictionary Keys Order\n",
    "# 19.Program to Sort Nested keys by Value\n",
    "# 20.Python program to check if a given number is an Armstrong number\n",
    "# 21.Write a program in Python to display the Factorial of a number.\n",
    "# 22.Write a program in Python to reverse a word using loop.\n",
    "# 23.Write a program to fetch only even values from a dictionary using loop.\n",
    "# 24.Python program to find the power of a number using recursion.\n",
    "# 25.Write a program to print twin primes less than 1000. If two consecutive odd numbers are both prime then they are known as twin primes\n",
    "# 26.Write a function that inputs a number and returns the product of digits of that number.\n",
    "# 27.Get last N elements from given list in Python\n",
    "# 28.Check if two given Strings are Isomorphic to each other\n",
    "# 29.Python Program to Remove Consecutive K element records\n",
    "# 30.Python program to find the Strongest Neighbour\n"
   ]
  },
  {
   "cell_type": "markdown",
   "metadata": {},
   "source": []
  }
 ],
 "metadata": {
  "kernelspec": {
   "display_name": "Python 3",
   "language": "python",
   "name": "python3"
  },
  "language_info": {
   "codemirror_mode": {
    "name": "ipython",
    "version": 3
   },
   "file_extension": ".py",
   "mimetype": "text/x-python",
   "name": "python",
   "nbconvert_exporter": "python",
   "pygments_lexer": "ipython3",
   "version": "3.7.7"
  }
 },
 "nbformat": 4,
 "nbformat_minor": 5
}
