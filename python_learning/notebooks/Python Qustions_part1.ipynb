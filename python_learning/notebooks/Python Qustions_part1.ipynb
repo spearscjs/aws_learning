{
 "cells": [
  {
   "attachments": {},
   "cell_type": "markdown",
   "id": "35cd1774",
   "metadata": {},
   "source": [
    "<h1 style= 'font-size:3rem'><u><center>Python Qustions</center></u></h1>\n",
    "\n"
   ]
  },
  {
   "cell_type": "code",
   "execution_count": 4,
   "id": "f278d5e2",
   "metadata": {},
   "outputs": [
    {
     "name": "stdout",
     "output_type": "stream",
     "text": [
      "True\n",
      "True\n",
      "False\n"
     ]
    }
   ],
   "source": [
    "# 1.How would you confirm that 2 strings have the same identity?\n",
    "\n",
    "str1 = 'asd'\n",
    "str2 = 'asd'\n",
    "str3 = 'Asd'\n",
    "\n",
    "print(str1 == str2)\n",
    "print(str1 == str1)\n",
    "print(str1 == str3)"
   ]
  },
  {
   "cell_type": "code",
   "execution_count": null,
   "id": "b64f4b52",
   "metadata": {},
   "outputs": [],
   "source": []
  },
  {
   "cell_type": "code",
   "execution_count": 24,
   "id": "8e69bb03",
   "metadata": {},
   "outputs": [
    {
     "data": {
      "text/plain": [
       "True"
      ]
     },
     "execution_count": 24,
     "metadata": {},
     "output_type": "execute_result"
    }
   ],
   "source": [
    "# 2.How would you check if each word in a string begins with a capital letter?\n",
    "str1 = \"Every letter is NOT capital\"\n",
    "str2 = \"Every Letter Is Capital\"\n",
    "\n",
    "tokens = str2.split()\n",
    "\n",
    "ans = False\n",
    "for t in tokens:\n",
    "    if(t[0].isupper()):\n",
    "        ans = True\n",
    "    else:\n",
    "        ans = False\n",
    "        break\n",
    "\n",
    "ans\n",
    "\n",
    "\n",
    "\n"
   ]
  },
  {
   "cell_type": "code",
   "execution_count": 26,
   "id": "47f1aba4",
   "metadata": {},
   "outputs": [
    {
     "name": "stdout",
     "output_type": "stream",
     "text": [
      "Hello, my name is curtis\n"
     ]
    }
   ],
   "source": [
    "# 3.What is an f-string and how do you use it?\n",
    "# a format string, used to include variables in a string\n",
    "str1 = 'name'\n",
    "str2 = 'curtis'\n",
    "print(f'Hello, my {str1} is {str2}')"
   ]
  },
  {
   "cell_type": "code",
   "execution_count": 28,
   "id": "291efb36",
   "metadata": {},
   "outputs": [
    {
     "name": "stdout",
     "output_type": "stream",
     "text": [
      "dlrow olleh\n"
     ]
    }
   ],
   "source": [
    "# 4.Reverse the string “hello world”.\n",
    "str1 = 'hello world'\n",
    "str2 = str1[::-1]\n",
    "print(str2)\n"
   ]
  },
  {
   "cell_type": "code",
   "execution_count": 30,
   "id": "0874ee60",
   "metadata": {},
   "outputs": [
    {
     "data": {
      "text/plain": [
       "10"
      ]
     },
     "execution_count": 30,
     "metadata": {},
     "output_type": "execute_result"
    }
   ],
   "source": [
    "# 5.Word location in String\n",
    "str1 = 'Hello, my name is curtis'\n",
    "str1.find('name')"
   ]
  },
  {
   "cell_type": "code",
   "execution_count": 38,
   "id": "503865f8",
   "metadata": {},
   "outputs": [
    {
     "name": "stdout",
     "output_type": "stream",
     "text": [
      "False\n"
     ]
    }
   ],
   "source": [
    "# 6.Test if string is subset of another\n",
    "str1 = 'Hello, my name is curtis'\n",
    "str2 = 'Hello, my name is'\n",
    "if(str1.find(str2)):\n",
    "    print(True)\n",
    "else: print(False)\n"
   ]
  },
  {
   "cell_type": "code",
   "execution_count": 48,
   "id": "7ad67e27",
   "metadata": {},
   "outputs": [
    {
     "data": {
      "text/plain": [
       "[9, 1, 2, 3, 4, 5, 6, 7, 8, 0]"
      ]
     },
     "execution_count": 48,
     "metadata": {},
     "output_type": "execute_result"
    }
   ],
   "source": [
    "# 7.Python program to interchange first and last elements in a list\n",
    "lst = [*range(10)]\n",
    "\n",
    "def swap_first_last(lst : list):\n",
    "    tmp = lst[0]\n",
    "    lst[0] = lst[-1]\n",
    "    lst[-1] = tmp\n",
    "    return lst\n",
    "    \n",
    "swap_first_last(lst)"
   ]
  },
  {
   "cell_type": "code",
   "execution_count": 64,
   "id": "d7083e04",
   "metadata": {},
   "outputs": [
    {
     "name": "stdout",
     "output_type": "stream",
     "text": [
      "(0, -1): [9, 1, 2, 3, 4, 5, 6, 7, 8, 0]\n",
      "(1, 2): [0, 2, 1, 3, 4, 5, 6, 7, 8, 9]\n",
      "(-2, -2): None\n",
      "(1, 4): [0, 4, 2, 3, 1, 5, 6, 7, 8, 9]\n",
      "(8, 3): [0, 1, 2, 8, 4, 5, 6, 7, 3, 9]\n",
      "(20, 50): None\n"
     ]
    }
   ],
   "source": [
    "# 8.Python program to swap two elements in a list\n",
    "lst = [*range(10)]\n",
    "\n",
    "def swap_element(lst : list, i : int, j: int):\n",
    "    # allow -1 for last index\n",
    "    if(i == -1): i = len(lst) - 1\n",
    "    if(j == -1): j = len(lst) - 1\n",
    "    # \n",
    "    if(i >= len(lst) or i < 0 or j>= len(lst) or j<0):\n",
    "        return None\n",
    "    tmp = lst[i]\n",
    "    lst[i] = lst[j]\n",
    "    lst[j] = tmp\n",
    "    return lst\n",
    "\n",
    "test_values = ((0,-1), (1,2), (-2,-2), (1,4),  (8,3), (20, 50))\n",
    "for i,j in test_values:\n",
    "    lst = [*range(10)]\n",
    "    print(f'({i}, {j}): {swap_element(lst, i, j)}')"
   ]
  },
  {
   "cell_type": "code",
   "execution_count": 116,
   "id": "b509a992",
   "metadata": {},
   "outputs": [
    {
     "name": "stdout",
     "output_type": "stream",
     "text": [
      "Number of postive: 3\n",
      "Number of negative: 4\n"
     ]
    }
   ],
   "source": [
    "# 9.Python program to count positive and negative numbers in a list\n",
    "\n",
    "\n",
    "def count_signs(lst:list):\n",
    "    pos = 0\n",
    "    neg = 0\n",
    "    for ele in lst:\n",
    "        try:\n",
    "            if(ele > 0): pos += 1\n",
    "            if(ele < 0): neg += 1\n",
    "        except TypeError:\n",
    "            continue\n",
    "    return (pos, neg)\n",
    "\n",
    "lst = [*range(-4, 4)]\n",
    "lst.append(\"ASDSAD\")\n",
    "\n",
    "ans = count_signs(lst)\n",
    "print(f'Number of postive: {ans[0]}\\n' +\n",
    "        f'Number of negative: {ans[1]}')\n"
   ]
  },
  {
   "cell_type": "code",
   "execution_count": 132,
   "id": "9de7493d",
   "metadata": {},
   "outputs": [
    {
     "name": "stdout",
     "output_type": "stream",
     "text": [
      "[(), 4, (2, 12), (), (4, 14), (5, 15), (6, 16), (7, 17), (8, 18), ()]\n"
     ]
    },
    {
     "data": {
      "text/plain": [
       "[4, (2, 12), (4, 14), (5, 15), (6, 16), (7, 17), (8, 18)]"
      ]
     },
     "execution_count": 132,
     "metadata": {},
     "output_type": "execute_result"
    }
   ],
   "source": [
    "# 10.Python Program to remove empty tuples from a list\n",
    "lst = [(e, e+10) for e in range(10)]\n",
    "lst[0] = ()\n",
    "lst[3] = ()\n",
    "lst[-1] = ()\n",
    "lst[1] = 4\n",
    "\n",
    "def remove_empty_tuples(lst:list):\n",
    "    print(lst)\n",
    "    for e in list(lst):\n",
    "        if(type(e) is tuple and not e):\n",
    "             lst.remove(e)  \n",
    "    return lst\n",
    "\n",
    "remove_empty_tuples(lst)\n"
   ]
  },
  {
   "cell_type": "code",
   "execution_count": 144,
   "id": "42723062",
   "metadata": {},
   "outputs": [
    {
     "data": {
      "text/plain": [
       "[1, 5]"
      ]
     },
     "execution_count": 144,
     "metadata": {},
     "output_type": "execute_result"
    }
   ],
   "source": [
    "# 11.Program to print duplicates from a list of integers\n",
    "lst = [1, 154, 123, 5, 1, 2, 54, 12, 4, 5]\n",
    "\n",
    "dd = {}\n",
    "\n",
    "def count_occurences(lst:list):\n",
    "    for ele in lst:\n",
    "        if(ele in dd):\n",
    "            dd[ele] += 1\n",
    "        else:\n",
    "            dd[ele] = 1\n",
    "    return dd\n",
    "\n",
    "occ = count_occurences(lst)\n",
    "[k for k,v in occ.items() if v > 1]\n"
   ]
  },
  {
   "cell_type": "code",
   "execution_count": 6,
   "id": "07207d46",
   "metadata": {},
   "outputs": [
    {
     "name": "stdout",
     "output_type": "stream",
     "text": [
      "[154, 123, 5, 2, 54, 12, 4, 5]\n"
     ]
    },
    {
     "data": {
      "text/plain": [
       "[154, 123, 2, 54, 12, 4]"
      ]
     },
     "execution_count": 6,
     "metadata": {},
     "output_type": "execute_result"
    }
   ],
   "source": [
    "# 12.Program to count unique values inside a list\n",
    "lst = [1, 154, 123, 5, 1, 2, 54, 12, 4, 5]\n",
    "lst2 = [2, 154, 123, 5, 2, 54, 12, 4, 5]\n",
    "\n",
    "print([v for v in lst if v in lst2])\n",
    "dd = {}\n",
    "\n",
    "def count_occurences(lst:list):\n",
    "    for ele in lst:\n",
    "        if(ele in dd):\n",
    "            dd[ele] += 1\n",
    "        else:\n",
    "            dd[ele] = 1\n",
    "    return dd\n",
    "\n",
    "occ = count_occurences(lst)\n",
    "[k for k,v in occ.items() if v == 1]\n",
    "\n",
    "\n",
    "\n",
    "\n",
    "\n"
   ]
  },
  {
   "cell_type": "code",
   "execution_count": 149,
   "id": "fbc0cfcc",
   "metadata": {},
   "outputs": [],
   "source": [
    "# 13.Python Program to Retain records with N occurrences of K\n"
   ]
  },
  {
   "cell_type": "code",
   "execution_count": 156,
   "id": "e5e54d33",
   "metadata": {},
   "outputs": [
    {
     "name": "stdout",
     "output_type": "stream",
     "text": [
      "len: 8\n",
      "getsizeof: 360 bytes\n"
     ]
    }
   ],
   "source": [
    "# 14.Find the size of a Dictionary in Python\n",
    "lst = [*range(-4, 4)]\n",
    "d = dict(enumerate(lst))\n",
    "print(f'len: {len(d)}')\n",
    "print(f'getsizeof: {sys.getsizeof(d)} bytes')"
   ]
  },
  {
   "cell_type": "code",
   "execution_count": 177,
   "id": "b8857cbb",
   "metadata": {},
   "outputs": [
    {
     "name": "stdout",
     "output_type": "stream",
     "text": [
      "{0: 2, 1: 3, 2: 4, 3: 5, 4: 6, 5: 7, 6: 8, 7: 9, -4: 2, -3: 3, -2: 4, -1: 5}\n"
     ]
    }
   ],
   "source": [
    "# 15.Python Program to Merge two Dictionaries\n",
    "lst = [*range(2, 10)]\n",
    "d1 = dict(enumerate(lst))\n",
    "\n",
    "lst = [*range(-4, 4)]\n",
    "d2 = {-4: 2, -3: 3, -2: 4, -1: 5, 4: 6, 5: 7, 6: 8, 7: 9}\n",
    "\n",
    "d = d1.copy()\n",
    "d.update(d2)\n",
    "print(d)"
   ]
  },
  {
   "cell_type": "code",
   "execution_count": 25,
   "id": "884cfbf7",
   "metadata": {},
   "outputs": [
    {
     "data": {
      "text/plain": [
       "{'a': '1', 'b': '2', 'c': '3', 'd': '4', 'e': '5', 'f': '6', 'g': '7'}"
      ]
     },
     "execution_count": 25,
     "metadata": {},
     "output_type": "execute_result"
    }
   ],
   "source": [
    "# 16.Program to Group Similar items to Dictionary Values List\n",
    "\n",
    "\n"
   ]
  },
  {
   "cell_type": "code",
   "execution_count": null,
   "id": "5581abf1",
   "metadata": {},
   "outputs": [],
   "source": [
    "# 17.Program Extract values of Particular Key in Nested Values\n"
   ]
  },
  {
   "cell_type": "code",
   "execution_count": 180,
   "id": "ff87f39c",
   "metadata": {},
   "outputs": [
    {
     "data": {
      "text/plain": [
       "{7: 9, 6: 8, 5: 7, 4: 6, -1: 5, -2: 4, -3: 3, -4: 2}"
      ]
     },
     "execution_count": 180,
     "metadata": {},
     "output_type": "execute_result"
    }
   ],
   "source": [
    "# 18.Program to Reverse Dictionary Keys Order\n",
    "# question: do dictionaries have an order? \n",
    "def reverse_dict(d : dict):\n",
    "    return dict(reversed(list(d.items())))\n",
    "\n",
    "d = {-4: 2, -3: 3, -2: 4, -1: 5, 4: 6, 5: 7, 6: 8, 7: 9}\n",
    "reverse_dict(d)"
   ]
  },
  {
   "cell_type": "code",
   "execution_count": null,
   "id": "848a76fe",
   "metadata": {},
   "outputs": [],
   "source": [
    "# 19.Program to Sort Nested keys by Value\n"
   ]
  },
  {
   "cell_type": "code",
   "execution_count": null,
   "id": "80b6b83f",
   "metadata": {},
   "outputs": [],
   "source": [
    "# 20.Python program to check if a given number is an Armstrong number\n"
   ]
  },
  {
   "cell_type": "code",
   "execution_count": 3,
   "id": "c082ff1f",
   "metadata": {},
   "outputs": [
    {
     "data": {
      "text/plain": [
       "120"
      ]
     },
     "execution_count": 3,
     "metadata": {},
     "output_type": "execute_result"
    }
   ],
   "source": [
    "# 21.Write a program in Python to display the Factorial of a number.\n",
    "def fact(n : int):\n",
    "    if n<= 0: return None\n",
    "    if(n==1): return 1\n",
    "    return n * fact(n-1)\n",
    "\n",
    "fact(5)\n"
   ]
  },
  {
   "cell_type": "code",
   "execution_count": 19,
   "id": "a9f08524",
   "metadata": {},
   "outputs": [
    {
     "data": {
      "text/plain": [
       "'drow'"
      ]
     },
     "execution_count": 19,
     "metadata": {},
     "output_type": "execute_result"
    }
   ],
   "source": [
    "# 22.Write a program in Python to reverse a word using loop.\n",
    "str1 = 'word'\n",
    "str2=''\n",
    "\n",
    "def reverse_str(str1 : str):\n",
    "    rev = ''\n",
    "    for i in range(len(str1))[::-1]:\n",
    "        rev += str1[i]\n",
    "    return rev\n",
    "\n",
    "reverse_str(str1)"
   ]
  },
  {
   "cell_type": "code",
   "execution_count": 36,
   "id": "49e17074",
   "metadata": {},
   "outputs": [
    {
     "ename": "ValueError",
     "evalue": "invalid literal for int() with base 10: 'd'",
     "output_type": "error",
     "traceback": [
      "\u001b[1;31m---------------------------------------------------------------------------\u001b[0m",
      "\u001b[1;31mValueError\u001b[0m                                Traceback (most recent call last)",
      "Cell \u001b[1;32mIn[36], line 14\u001b[0m\n\u001b[0;32m     11\u001b[0m             ret\u001b[39m.\u001b[39mappend(v)\n\u001b[0;32m     12\u001b[0m     \u001b[39mreturn\u001b[39;00m ret\n\u001b[1;32m---> 14\u001b[0m fetch_evens(d)\n",
      "Cell \u001b[1;32mIn[36], line 10\u001b[0m, in \u001b[0;36mfetch_evens\u001b[1;34m(d)\u001b[0m\n\u001b[0;32m      8\u001b[0m ret \u001b[39m=\u001b[39m []\n\u001b[0;32m      9\u001b[0m \u001b[39mfor\u001b[39;00m k, v \u001b[39min\u001b[39;00m d\u001b[39m.\u001b[39mitems():\n\u001b[1;32m---> 10\u001b[0m     \u001b[39mif\u001b[39;00m(\u001b[39mint\u001b[39;49m(v) \u001b[39m%\u001b[39m \u001b[39m2\u001b[39m \u001b[39m==\u001b[39m \u001b[39m0\u001b[39m):\n\u001b[0;32m     11\u001b[0m         ret\u001b[39m.\u001b[39mappend(v)\n\u001b[0;32m     12\u001b[0m \u001b[39mreturn\u001b[39;00m ret\n",
      "\u001b[1;31mValueError\u001b[0m: invalid literal for int() with base 10: 'd'"
     ]
    }
   ],
   "source": [
    "# 23.Write a program to fetch only even values from a dictionary using loop.\n",
    "str1 = 'abcdefg'\n",
    "str2 = '1234567'\n",
    "\n",
    "d = dict(zip(str1, str2))\n",
    "\n",
    "def fetch_evens(d : dict):\n",
    "    ret = []\n",
    "    for k, v in d.items():\n",
    "        if(int(v) % 2 == 0):\n",
    "            ret.append(v)\n",
    "    return ret\n",
    "\n",
    "fetch_evens(d)\n",
    "\n",
    "\n"
   ]
  },
  {
   "cell_type": "code",
   "execution_count": null,
   "id": "296ed85b",
   "metadata": {},
   "outputs": [],
   "source": [
    "# 24.Python program to find the power of a number using recursion.\n",
    "# 25.Write a program to print twin primes less than 1000. If two consecutive odd numbers are both prime then they are known as twin primes\n",
    "# 26.Write a function that inputs a number and returns the product of digits of that number.\n",
    "# 27.Get last N elements from given list in Python\n",
    "# 28.Check if two given Strings are Isomorphic to each other\n",
    "# 29.Python Program to Remove Consecutive K element records\n",
    "# 30.Python program to find the Strongest Neighbour\n"
   ]
  },
  {
   "cell_type": "code",
   "execution_count": 23,
   "id": "fe52741b",
   "metadata": {},
   "outputs": [
    {
     "data": {
      "text/plain": [
       "16"
      ]
     },
     "execution_count": 23,
     "metadata": {},
     "output_type": "execute_result"
    }
   ],
   "source": [
    "def divisible(n : int):\n",
    "    if(n % 2 == 0):\n",
    "        return n\n",
    "    else: return None\n",
    "\n",
    "\n",
    "def square(x : int):\n",
    "    if(divisible(x)):\n",
    "        return x * x\n",
    "\n",
    "square(4)"
   ]
  },
  {
   "cell_type": "code",
   "execution_count": null,
   "id": "0f489ae8",
   "metadata": {},
   "outputs": [],
   "source": [
    "# 13, 29\n",
    "\n",
    "\n",
    "# 2, 2, 2, 2 -- only 3 times"
   ]
  },
  {
   "cell_type": "code",
   "execution_count": null,
   "id": "d6254c92",
   "metadata": {},
   "outputs": [],
   "source": [
    "# PROJECT QUESTION DO IN PYTHON NOT SQL FOR NULL STUFF\n",
    "# create another table with sql or python\n",
    "# # load data to new table ... compare record count etc\n",
    "\n",
    "# null check write function(column) check if null value\n",
    "\n",
    " \n",
    "# fetch data, create data frame\n",
    "\n",
    "\n",
    "# can use pandas if wanted\n",
    "# import pandas as pd\n",
    "# index data column = data frame\n",
    "\n",
    "# import numpy as np\n",
    "\n",
    "\n",
    "\n",
    "# this i called sourcing the data, once igested do transformation\n",
    "\n",
    "# ETL = extract, transform, load\n",
    "# \n",
    "\n",
    "# can create table iwht python or in workbench, one python to laod from table 1 to table 2\n",
    "\n",
    "\n",
    "\n",
    "# https://realpython.com/pandas-dataframe/"
   ]
  },
  {
   "cell_type": "code",
   "execution_count": null,
   "id": "5a0d377b",
   "metadata": {},
   "outputs": [],
   "source": []
  },
  {
   "cell_type": "code",
   "execution_count": null,
   "id": "a4ed0e18",
   "metadata": {},
   "outputs": [],
   "source": []
  },
  {
   "cell_type": "code",
   "execution_count": 27,
   "id": "555d3a47",
   "metadata": {},
   "outputs": [],
   "source": [
    "\n",
    "lst=['mike','ram','mike','bro','ram','mike']\n",
    "d1={}\n",
    "\n",
    "\n",
    "lst=['mike','ram','mike','bro','ram','mike']\n",
    "d1 = {}\n",
    "for i in lst:\n",
    "    if i not in d1:\n",
    "        d1[i] = 1\n",
    "    else:\n",
    "        d1[i] += 1\n",
    "\n",
    "\n",
    "\n",
    "\n",
    "\n",
    "\n",
    "\n"
   ]
  },
  {
   "cell_type": "code",
   "execution_count": 19,
   "id": "e497e3c2",
   "metadata": {},
   "outputs": [
    {
     "name": "stdout",
     "output_type": "stream",
     "text": [
      "1\n"
     ]
    }
   ],
   "source": [
    "def exists(lst : list, v):\n",
    "    if(v in lst):\n",
    "        return v\n",
    "    else: return None\n",
    "\n",
    "\n",
    "def listIsEmpty(lst : list):\n",
    "    if(lst):\n",
    "        return len(lst)\n",
    "    else: return None\n",
    "\n",
    "print(listIsEmpty([1]))\n"
   ]
  },
  {
   "cell_type": "code",
   "execution_count": 14,
   "id": "0288ee6c",
   "metadata": {},
   "outputs": [
    {
     "name": "stdout",
     "output_type": "stream",
     "text": [
      "{40, 20, 30}\n"
     ]
    },
    {
     "data": {
      "text/plain": [
       "{20, 30, 40}"
      ]
     },
     "execution_count": 14,
     "metadata": {},
     "output_type": "execute_result"
    }
   ],
   "source": [
    "lst=[10,20,40,50,40,40,20,30,50,10,10,20]\n",
    "lst1=[30,40,60,60,40,20,30,20,30,30]\n",
    " \n",
    "# create dictionary -- faster \n",
    "d = dict(zip(lst, lst))\n",
    "d1 = dict(zip(lst1, lst1))\n",
    "\n",
    "print(d.keys() & d1.keys())\n",
    "\n",
    "\n",
    "# or just use sets\n",
    "s = set(lst)\n",
    "s1 = set(lst1)\n",
    "\n",
    "s & s1"
   ]
  },
  {
   "cell_type": "markdown",
   "metadata": {},
   "source": []
  }
 ],
 "metadata": {
  "kernelspec": {
   "display_name": "Python 3",
   "language": "python",
   "name": "python3"
  },
  "language_info": {
   "codemirror_mode": {
    "name": "ipython",
    "version": 3
   },
   "file_extension": ".py",
   "mimetype": "text/x-python",
   "name": "python",
   "nbconvert_exporter": "python",
   "pygments_lexer": "ipython3",
   "version": "3.9.12"
  },
  "vscode": {
   "interpreter": {
    "hash": "30cf0e1abb529a22bc607410d8585599c1f1527cc04e9da2f800037aa994db87"
   }
  }
 },
 "nbformat": 4,
 "nbformat_minor": 5
}
