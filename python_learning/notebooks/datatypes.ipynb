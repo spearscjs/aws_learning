{
 "cells": [
  {
   "cell_type": "markdown",
   "metadata": {},
   "source": [
    "# Python Data Types\n",
    "\n",
    "There are different types of data types in Python. Some built-in Python data types are:\n",
    "\n",
    "Numeric data types: int, float, complex\n",
    "String data types: str\n",
    "Sequence types: list, tuple, range\n",
    "Binary types: bytes, bytearray, memoryview\n",
    "Mapping data type: dict\n",
    "Boolean type: bool\n",
    "Set data types: set, frozenset"
   ]
  },
  {
   "cell_type": "markdown",
   "metadata": {},
   "source": [
    "## 1. Python Numeric Data Type\n",
    "\n",
    "Python numeric data type is used to hold numeric values like;\n",
    "\n",
    "int - holds signed integers of non-limited length.\n",
    "long- holds long integers(exists in Python 2.x, deprecated in Python 3.x).\n",
    "float- holds floating precision numbers and it’s accurate up to 15 decimal places.\n",
    "complex- holds complex numbers."
   ]
  },
  {
   "cell_type": "code",
   "execution_count": 1,
   "metadata": {},
   "outputs": [
    {
     "name": "stdout",
     "output_type": "stream",
     "text": [
      "The type of variable having value 100  is  <class 'int'>\n",
      "The type of variable having value 10.2345  is  <class 'float'>\n",
      "The type of variable having value (100+3j)  is  <class 'complex'>\n"
     ]
    }
   ],
   "source": [
    "#create a variable with integer value.\n",
    "a=100\n",
    "print(\"The type of variable having value\", a, \" is \", type(a))\n",
    "\n",
    "#create a variable with float value.\n",
    "b=10.2345\n",
    "print(\"The type of variable having value\", b, \" is \", type(b))\n",
    "\n",
    "#create a variable with complex value.\n",
    "c=100+3j\n",
    "print(\"The type of variable having value\", c, \" is \", type(c))"
   ]
  },
  {
   "cell_type": "code",
   "execution_count": null,
   "metadata": {},
   "outputs": [],
   "source": []
  },
  {
   "cell_type": "markdown",
   "metadata": {},
   "source": [
    "## 2. Python String Data Type"
   ]
  },
  {
   "cell_type": "code",
   "execution_count": 2,
   "metadata": {},
   "outputs": [
    {
     "name": "stdout",
     "output_type": "stream",
     "text": [
      "string in a double quote\n",
      "string in a single quote\n",
      "string in a double quote concatenated with string in a single quote\n",
      "string in a double quote concated with string in a single quote\n"
     ]
    }
   ],
   "source": [
    "a = \"string in a double quote\"\n",
    "b= 'string in a single quote'\n",
    "print(a)\n",
    "print(b)\n",
    "\n",
    "# using ',' to concatenate the two or several strings\n",
    "print(a,\"concatenated with\",b)\n",
    "\n",
    "#using '+' to concate the two or several strings\n",
    "print(a+\" concated with \"+b)"
   ]
  },
  {
   "cell_type": "code",
   "execution_count": null,
   "metadata": {},
   "outputs": [],
   "source": []
  },
  {
   "cell_type": "markdown",
   "metadata": {},
   "source": [
    "## 3. Python List Data Type\n",
    "The list is a versatile data type exclusive in Python. In a sense, it is the same as the array in C/C++. But the interesting thing about the list in Python is it can simultaneously hold different types of data. Formally list is an ordered sequence of some data written using square brackets([]) and commas(,)."
   ]
  },
  {
   "cell_type": "code",
   "execution_count": 3,
   "metadata": {},
   "outputs": [
    {
     "name": "stdout",
     "output_type": "stream",
     "text": [
      "[1, 2, 3, 4, 5, 6]\n",
      "['hello', 'john', 'reese']\n",
      "['hey', 'you', 1, 2, 3, 'go']\n",
      "you\n"
     ]
    }
   ],
   "source": [
    "#list of having only integers\n",
    "a= [1,2,3,4,5,6]\n",
    "print(a)\n",
    "\n",
    "#list of having only strings\n",
    "b=[\"hello\",\"john\",\"reese\"]\n",
    "print(b)\n",
    "\n",
    "#list of having both integers and strings\n",
    "c= [\"hey\",\"you\",1,2,3,\"go\"]\n",
    "print(c)\n",
    "\n",
    "#index are 0 based. this will print a single character\n",
    "print(c[1]) #this will print \"you\" in list c"
   ]
  },
  {
   "cell_type": "markdown",
   "metadata": {},
   "source": [
    "# 4. Python Tuple\n",
    "The tuple is another data type which is a sequence of data similar to a list. But it is immutable. That means data in a tuple is write-protected. Data in a tuple is written using parenthesis and commas."
   ]
  },
  {
   "cell_type": "code",
   "execution_count": 4,
   "metadata": {},
   "outputs": [
    {
     "name": "stdout",
     "output_type": "stream",
     "text": [
      "(1, 2, 3, 4)\n",
      "('hello', 1, 2, 3, 'go')\n",
      "go\n"
     ]
    }
   ],
   "source": [
    "#tuple having only integer type of data.\n",
    "a=(1,2,3,4)\n",
    "print(a) #prints the whole tuple\n",
    "\n",
    "#tuple having multiple type of data.\n",
    "b=(\"hello\", 1,2,3,\"go\")\n",
    "print(b) #prints the whole tuple\n",
    "\n",
    "#index of tuples are also 0 based.\n",
    "\n",
    "print(b[4]) #this prints a single element in a tuple, in this case \"go\""
   ]
  },
  {
   "cell_type": "markdown",
   "metadata": {},
   "source": [
    "# 5. Python Dictionary\n",
    "Python Dictionary is an unordered sequence of data of key-value pair form. It is similar to the hash table type. Dictionaries are written within curly braces in the form key:value. It is very useful to retrieve data in an optimized way among a large amount of data."
   ]
  },
  {
   "cell_type": "code",
   "execution_count": 5,
   "metadata": {},
   "outputs": [
    {
     "name": "stdout",
     "output_type": "stream",
     "text": [
      "first name\n",
      "last name\n",
      "33\n"
     ]
    }
   ],
   "source": [
    "#a sample dictionary variable\n",
    "\n",
    "a = {1:\"first name\",2:\"last name\", \"age\":33}\n",
    "\n",
    "#print value having key=1\n",
    "print(a[1])\n",
    "#print value having key=2\n",
    "print(a[2])\n",
    "#print value having key=\"age\"\n",
    "print(a[\"age\"])"
   ]
  },
  {
   "cell_type": "markdown",
   "metadata": {},
   "source": [
    "### Reference: Python Documentation for Data Types"
   ]
  },
  {
   "cell_type": "code",
   "execution_count": null,
   "metadata": {},
   "outputs": [],
   "source": []
  }
 ],
 "metadata": {
  "kernelspec": {
   "display_name": "Python 3",
   "language": "python",
   "name": "python3"
  },
  "language_info": {
   "codemirror_mode": {
    "name": "ipython",
    "version": 3
   },
   "file_extension": ".py",
   "mimetype": "text/x-python",
   "name": "python",
   "nbconvert_exporter": "python",
   "pygments_lexer": "ipython3",
   "version": "3.7.7"
  }
 },
 "nbformat": 4,
 "nbformat_minor": 4
}
