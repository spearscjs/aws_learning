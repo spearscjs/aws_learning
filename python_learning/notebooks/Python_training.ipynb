{
 "cells": [
  {
   "cell_type": "markdown",
   "metadata": {},
   "source": [
    "<h1 style= 'font-size:3rem'><u>Lambda Expression</u></h1>"
   ]
  },
  {
   "cell_type": "markdown",
   "metadata": {},
   "source": [
    "A lambda function is a small anonymous function. A lambda function can take any number of arguments, but can only have one expression.\n",
    "An lamdba function behaves normally when raising issues of arguments. Therefore, a lambda parameter can be initialized with a default value. For instance, the python lambda function could have written as lambda n=x: print(n) since that would have had the same result."
   ]
  },
  {
   "cell_type": "markdown",
   "metadata": {},
   "source": [
    "## Example"
   ]
  },
  {
   "cell_type": "code",
   "execution_count": 1,
   "metadata": {},
   "outputs": [
    {
     "name": "stdout",
     "output_type": "stream",
     "text": [
      "13\n"
     ]
    }
   ],
   "source": [
    "x = lambda a, b, c: a + b + c\n",
    "print(x(5, 6, 2))"
   ]
  },
  {
   "cell_type": "markdown",
   "metadata": {},
   "source": [
    "<h1 style= 'font-size:3rem',color=\"red\"><u>Lambda Expressions-actions</u></h1>"
   ]
  },
  {
   "cell_type": "markdown",
   "metadata": {},
   "source": [
    "In Python programming, Lambda is a function having no name and very few lines. It is similar to a normal function, but has fewer and a smaller number of arguments, as well as a unique property of one expression."
   ]
  },
  {
   "cell_type": "markdown",
   "metadata": {},
   "source": [
    "In Python, lambda expressions (or lambda forms) are utilized to construct anonymous functions. To do so, you will use the lambda keyword (just as you use def to define normal functions). Every anonymous function you define in Python will have 3 essential parts:"
   ]
  },
  {
   "cell_type": "markdown",
   "metadata": {},
   "source": [
    "<ul>The lambda keyword</ul>\n",
    "<ul>The parameters (or bound variables)</ul>\n",
    "<ul>The function body</ul>"
   ]
  },
  {
   "cell_type": "markdown",
   "metadata": {},
   "source": [
    "A lambda operate can have any number of parameters, but the operate body can only acquire one word.furthermore, a lambda is written in a single line of code and can additionally be invoked instantly.you'll see all this in action in the approaching examples."
   ]
  },
  {
   "cell_type": "markdown",
   "metadata": {},
   "source": [
    "## Syntax and Examples"
   ]
  },
  {
   "cell_type": "markdown",
   "metadata": {},
   "source": [
    "lambda p1, p2: expression"
   ]
  },
  {
   "cell_type": "markdown",
   "metadata": {},
   "source": [
    "### Example 1"
   ]
  },
  {
   "cell_type": "code",
   "execution_count": 5,
   "metadata": {},
   "outputs": [
    {
     "name": "stdout",
     "output_type": "stream",
     "text": [
      "3\n"
     ]
    }
   ],
   "source": [
    "adder = lambda x, y: x + y\n",
    "print (adder (1, 2))"
   ]
  },
  {
   "cell_type": "markdown",
   "metadata": {},
   "source": [
    "### Example 2"
   ]
  },
  {
   "cell_type": "code",
   "execution_count": 6,
   "metadata": {},
   "outputs": [
    {
     "name": "stdout",
     "output_type": "stream",
     "text": [
      "<function <lambda> at 0x00000182072CB160>\n"
     ]
    }
   ],
   "source": [
    "#What a lambda returns\n",
    "string='some kind of a useless lambda'\n",
    "print(lambda string : print(string))"
   ]
  },
  {
   "cell_type": "markdown",
   "metadata": {},
   "source": [
    "<h1 style= 'font-size:3rem'><u>Methods and Packages</u></h1>"
   ]
  },
  {
   "cell_type": "markdown",
   "metadata": {},
   "source": [
    "# Methods"
   ]
  },
  {
   "cell_type": "markdown",
   "metadata": {},
   "source": [
    "n Object-Oriented Programming, we have(drum roll please) objects.These objects made up of properties and behavior.in addition, properties of the thing are defined by the attributes and the behavior is defined utilizing methods.These methods are defined inside a course.These methods are the reusable piece of code that could be invoked / titled at any point in the program.Python provides numerous types of these methods.These are imperative to fitting an effective programmer and as a result are handy for a information science professional."
   ]
  },
  {
   "cell_type": "markdown",
   "metadata": {},
   "source": [
    "## Types of Methods in Python"
   ]
  },
  {
   "cell_type": "markdown",
   "metadata": {},
   "source": [
    "There are basically three types of methods in Python:"
   ]
  },
  {
   "cell_type": "markdown",
   "metadata": {},
   "source": [
    "<ul>Instance Method1</ul>\n",
    "<ul>Class Method</ul>\n",
    "<ul>Static Method</ul>"
   ]
  },
  {
   "cell_type": "markdown",
   "metadata": {},
   "source": [
    "###  Instance Methods"
   ]
  },
  {
   "cell_type": "markdown",
   "metadata": {},
   "source": [
    "The objective of instance methods is to set or get explains about instances(objects) , and therefore they’re known as instance methods.they're the greatest current write of methods utilized in a Python course.They have one default parameter- self, which points to an instance of the lesson.but you don’t need to pass that any time.you might replace the surname of this parameter but it's greater to stick to the conference i.e self.Any system you build inside a course is an instance manner until you particularly specify Python or.Let’s see how to build an instance manner: science professional."
   ]
  },
  {
   "cell_type": "code",
   "execution_count": 8,
   "metadata": {},
   "outputs": [],
   "source": [
    "class My_class:\n",
    "  def instance_method(self):\n",
    "    return \"This is an instance method.\""
   ]
  },
  {
   "cell_type": "markdown",
   "metadata": {},
   "source": [
    "In order to call an instance method, you’ve to create an object/instance of the class. With the help of this object, you can access any method of the class."
   ]
  },
  {
   "cell_type": "code",
   "execution_count": 9,
   "metadata": {},
   "outputs": [
    {
     "data": {
      "text/plain": [
       "'This is an instance method.'"
      ]
     },
     "execution_count": 9,
     "metadata": {},
     "output_type": "execute_result"
    }
   ],
   "source": [
    "obj = My_class()\n",
    "obj.instance_method()"
   ]
  },
  {
   "cell_type": "markdown",
   "metadata": {},
   "source": [
    "### Class Methods"
   ]
  },
  {
   "cell_type": "markdown",
   "metadata": {},
   "source": [
    "The purpose of the class methods is to set or get the details (status) of the class. That is why they are known as class methods. They can’t access or modify specific instance data. They are bound to the class instead of their objects. Two important things about class methods:"
   ]
  },
  {
   "cell_type": "markdown",
   "metadata": {},
   "source": [
    "<ul>In order to define a class method, you have to specify that it is a class method with the help of the @classmethod decorator</ul>\n",
    "<ul>Class methods also take one default parameter- cls, which points to the class<ul>\n",
    "<ul>Again, this not mandatory to name the default parameter “cls”. But it is always better to go with the conventions</ul>\n",
    "<ul>Now let’s look at how to create class methods:</ul>"
   ]
  },
  {
   "cell_type": "code",
   "execution_count": 10,
   "metadata": {},
   "outputs": [],
   "source": [
    "class My_class:\n",
    "\n",
    "  @classmethod\n",
    "  def class_method(cls):\n",
    "    return \"This is a class method.\""
   ]
  },
  {
   "cell_type": "code",
   "execution_count": 11,
   "metadata": {},
   "outputs": [
    {
     "data": {
      "text/plain": [
       "'This is a class method.'"
      ]
     },
     "execution_count": 11,
     "metadata": {},
     "output_type": "execute_result"
    }
   ],
   "source": [
    "obj = My_class()\n",
    "obj.class_method()"
   ]
  },
  {
   "cell_type": "code",
   "execution_count": 12,
   "metadata": {},
   "outputs": [
    {
     "data": {
      "text/plain": [
       "'This is a class method.'"
      ]
     },
     "execution_count": 12,
     "metadata": {},
     "output_type": "execute_result"
    }
   ],
   "source": [
    "My_class.class_method()"
   ]
  },
  {
   "cell_type": "markdown",
   "metadata": {},
   "source": [
    "### Static Methods"
   ]
  },
  {
   "cell_type": "markdown",
   "metadata": {},
   "source": [
    "Static methods cannot permission the lesson information.in short, they don't have to permission the course information.they're self-sufficient and can work on their own.Since they're not attached to any lesson impute, they cannot get or set the instance assert or course assert.to clarify a static system, we may use the @staticmethod decorator(in a lookalike way we utilized @classmethod decorator) .disparate instance methods and lesson methods, we don't have to pass any exceptional or default parameters.Let’s look at the implementation:"
   ]
  },
  {
   "cell_type": "code",
   "execution_count": 13,
   "metadata": {},
   "outputs": [],
   "source": [
    "class My_class:\n",
    "\n",
    "  @staticmethod\n",
    "  def static_method():\n",
    "    return \"This is a static method.\""
   ]
  },
  {
   "cell_type": "code",
   "execution_count": 14,
   "metadata": {},
   "outputs": [
    {
     "data": {
      "text/plain": [
       "'This is a static method.'"
      ]
     },
     "execution_count": 14,
     "metadata": {},
     "output_type": "execute_result"
    }
   ],
   "source": [
    "obj = My_class()\n",
    "obj.static_method()"
   ]
  },
  {
   "cell_type": "code",
   "execution_count": 15,
   "metadata": {},
   "outputs": [
    {
     "data": {
      "text/plain": [
       "'This is a static method.'"
      ]
     },
     "execution_count": 15,
     "metadata": {},
     "output_type": "execute_result"
    }
   ],
   "source": [
    "My_class.static_method()"
   ]
  },
  {
   "cell_type": "markdown",
   "metadata": {},
   "source": [
    "# Packages"
   ]
  },
  {
   "cell_type": "markdown",
   "metadata": {},
   "source": [
    "We generally organize our files in various folders and subfolders as said by several conditions, in such a way that they have the ability to be coped seamlessly and efficiently.for instance, we maintain all our games in a Games folder and we might even subcategorize according to the genre of the game or something like this.similar analogy is followed by the Python package.A Python module may acquire numerous classes, functioning, variables, etc.while a Python package can contains various module.In simpler terms a package is folder that contains numerous modules as files.\n",
    "A python package is a collection of modules.Modules that are narrated to one another are largely put in similar package.When a module from an outside package is needd in a program, that package might be imported and its modules might be put to use.\n",
    "A package is a directory of Python modules that contains an extrainit.py file, which differentiates a package from a directory that is imagined to acquire numerous Python scripts.Packages might be nested to various depths if each corresponding directory contains its owninit.py file."
   ]
  },
  {
   "cell_type": "markdown",
   "metadata": {},
   "source": [
    "## Example"
   ]
  },
  {
   "cell_type": "code",
   "execution_count": 16,
   "metadata": {},
   "outputs": [
    {
     "name": "stdout",
     "output_type": "stream",
     "text": [
      "2022-11-27\n"
     ]
    }
   ],
   "source": [
    "from datetime import date\n",
    "print (date.today())"
   ]
  },
  {
   "cell_type": "markdown",
   "metadata": {},
   "source": [
    "<h1 style= 'font-size:3rem'>__name__ and __main__</h1>"
   ]
  },
  {
   "cell_type": "markdown",
   "metadata": {},
   "source": [
    "# __name__"
   ]
  },
  {
   "cell_type": "markdown",
   "metadata": {},
   "source": [
    "The __name__ variable (two underscores before and after) is a special Python variable. It gets its value depending on how we execute the containing script.\n",
    "Sometimes you write a script with functions that might be useful in other scripts as well. In Python, you can import that script as a module in another script.\n",
    "Thanks to this special variable, you can decide whether you want to run the script. Or that you want to import the functions defined in the script."
   ]
  },
  {
   "cell_type": "markdown",
   "metadata": {},
   "source": [
    "Python has a built-in variable called __name__ that records the name of the currently running module or script. The __name__ variable merely holds the name of the module or script unless the current module is executing, in which case the value __main__ is set to it.\n",
    "Therefore, if a Python script is imported into another Python script, its __name__ variable should always have the value __main__ when that Python script is running. Otherwise, it would have the name of the module."
   ]
  },
  {
   "cell_type": "markdown",
   "metadata": {},
   "source": [
    "## Example :"
   ]
  },
  {
   "cell_type": "code",
   "execution_count": 18,
   "metadata": {},
   "outputs": [
    {
     "name": "stdout",
     "output_type": "stream",
     "text": [
      "Value of the __name__ :  __main__\n"
     ]
    }
   ],
   "source": [
    "# Code to define a function  \n",
    "def anything():  \n",
    "    print('Value of the __name__ : ', __name__)  \n",
    "      \n",
    "anything()  "
   ]
  },
  {
   "cell_type": "code",
   "execution_count": 20,
   "metadata": {},
   "outputs": [
    {
     "name": "stdout",
     "output_type": "stream",
     "text": [
      "It is a function in the ScriptP1.\n",
      "Called from the ScriptP1.\n"
     ]
    }
   ],
   "source": [
    "# defining a function  \n",
    "def anything():  \n",
    "    print('It is a function in the ScriptP1.')  \n",
    "      \n",
    "if __name__=='__main__':  \n",
    "    anything()  \n",
    "    print('Called from the ScriptP1.')  \n",
    "else:  \n",
    "    print('ScriptP1 is imported into another file.')  \n"
   ]
  },
  {
   "cell_type": "markdown",
   "metadata": {},
   "source": [
    "#  __main__"
   ]
  },
  {
   "cell_type": "markdown",
   "metadata": {},
   "source": [
    "Main function is like the entry point of a program. However, Python interpreter runs the code right from the first line. The execution of the code starts from the starting line and goes line by line. It does not matter where the main function is present or it is present or not.\n",
    "Since there is no main() function in Python, when the command to run a Python program is given to the interpreter, the code that is at level 0 indentation is to be executed. However, before doing that, it will define a few special variables. __name__ is one such special variable. If the source file is executed as the main program, the interpreter sets the __name__ variable to have a value __main__. If this file is being imported from another module, __name__ will be set to the module’s name.\n",
    "__name__ is a built-in variable which evaluates to the name of the current module."
   ]
  },
  {
   "cell_type": "markdown",
   "metadata": {},
   "source": [
    "## Example:"
   ]
  },
  {
   "cell_type": "code",
   "execution_count": 26,
   "metadata": {},
   "outputs": [
    {
     "name": "stdout",
     "output_type": "stream",
     "text": [
      "Hello\n",
      "hey there\n"
     ]
    }
   ],
   "source": [
    "# Python program to demonstrate\n",
    "# main() function\n",
    "\n",
    "print(\"Hello\")\n",
    "\n",
    "# Defining main function\n",
    "def main():\n",
    "    print(\"hey there\")\n",
    "\n",
    "# Using the special variable\n",
    "# __name__\n",
    "if __name__==\"__main__\":\n",
    "    main()"
   ]
  },
  {
   "cell_type": "code",
   "execution_count": 25,
   "metadata": {},
   "outputs": [
    {
     "name": "stdout",
     "output_type": "stream",
     "text": [
      "File1 __name__ = __main__\n",
      "File1 is being run directly\n"
     ]
    }
   ],
   "source": [
    "# File1.py\n",
    "print(\"File1 __name__ = %s\" %__name__)\n",
    "if __name__ == \"__main__\":\n",
    "    print(\"File1 is being run directly\")\n",
    "else:\n",
    "    print(\"File1 is being imported\")"
   ]
  },
  {
   "cell_type": "markdown",
   "metadata": {},
   "source": [
    "<h1 style= 'font-size:3rem'><u>Errors and Exceptions handling</u></h1>"
   ]
  },
  {
   "cell_type": "markdown",
   "metadata": {},
   "source": [
    "Errors are the problems in a program due to which the program will stop the execution. On the other hand, exceptions are raised when some internal events occur which changes the normal flow of the program. \n",
    "Two types of Error occurs in python. "
   ]
  },
  {
   "cell_type": "markdown",
   "metadata": {},
   "source": [
    "<ul>1.Syntax errors</ul>\n",
    "<ul>2.Logical errors (Exceptions)</ul> "
   ]
  },
  {
   "cell_type": "markdown",
   "metadata": {},
   "source": [
    "# Syntax errors"
   ]
  },
  {
   "cell_type": "code",
   "execution_count": 2,
   "metadata": {},
   "outputs": [
    {
     "name": "stdout",
     "output_type": "stream",
     "text": [
      "You are eligible to purchase Dsa Self Paced\n"
     ]
    }
   ],
   "source": [
    "# initialize the amount variable\n",
    "amount = 10000\n",
    "# check that You are eligible to\n",
    "# purchase Dsa Self Paced or not\n",
    "if(amount>2999):\n",
    "    print(\"You are eligible to purchase Dsa Self Paced\")\n"
   ]
  },
  {
   "cell_type": "markdown",
   "metadata": {},
   "source": [
    "It returns a syntax error message because after the if statement a colon: is missing. We can fix this by writing the correct syntax."
   ]
  },
  {
   "cell_type": "markdown",
   "metadata": {},
   "source": [
    "# logical errors(Exception)"
   ]
  },
  {
   "cell_type": "markdown",
   "metadata": {},
   "source": [
    "When in the runtime an error that occurs after passing the syntax test is called exception or logical type. For example, when we divide any number by zero then the ZeroDivisionError exception is raised, or when we import a module that does not exist then ImportError is raised."
   ]
  },
  {
   "cell_type": "code",
   "execution_count": 4,
   "metadata": {},
   "outputs": [
    {
     "ename": "ZeroDivisionError",
     "evalue": "division by zero",
     "output_type": "error",
     "traceback": [
      "\u001b[1;31m---------------------------------------------------------------------------\u001b[0m",
      "\u001b[1;31mZeroDivisionError\u001b[0m                         Traceback (most recent call last)",
      "\u001b[1;32m~\\AppData\\Local\\Temp\\ipykernel_24640\\1914533360.py\u001b[0m in \u001b[0;36m<module>\u001b[1;34m\u001b[0m\n\u001b[0;32m      3\u001b[0m \u001b[1;33m\u001b[0m\u001b[0m\n\u001b[0;32m      4\u001b[0m \u001b[1;31m# perform division with 0\u001b[0m\u001b[1;33m\u001b[0m\u001b[1;33m\u001b[0m\u001b[0m\n\u001b[1;32m----> 5\u001b[1;33m \u001b[0ma\u001b[0m \u001b[1;33m=\u001b[0m \u001b[0mmarks\u001b[0m\u001b[1;33m/\u001b[0m \u001b[1;36m0\u001b[0m\u001b[1;33m\u001b[0m\u001b[1;33m\u001b[0m\u001b[0m\n\u001b[0m\u001b[0;32m      6\u001b[0m \u001b[0mprint\u001b[0m\u001b[1;33m(\u001b[0m\u001b[0ma\u001b[0m\u001b[1;33m)\u001b[0m\u001b[1;33m\u001b[0m\u001b[1;33m\u001b[0m\u001b[0m\n",
      "\u001b[1;31mZeroDivisionError\u001b[0m: division by zero"
     ]
    }
   ],
   "source": [
    "# initialize the amount variable\n",
    "marks = 10000\n",
    "\n",
    "# perform division with 0\n",
    "a = marks/ 0\n",
    "print(a)"
   ]
  },
  {
   "cell_type": "markdown",
   "metadata": {},
   "source": [
    "In the above example the ZeroDivisionError as we are trying to divide a number by 0."
   ]
  },
  {
   "cell_type": "markdown",
   "metadata": {},
   "source": [
    "Example 2: When indentation is not correct. "
   ]
  },
  {
   "cell_type": "code",
   "execution_count": 7,
   "metadata": {},
   "outputs": [
    {
     "ename": "IndentationError",
     "evalue": "expected an indented block (2821481602.py, line 3)",
     "output_type": "error",
     "traceback": [
      "\u001b[1;36m  File \u001b[1;32m\"C:\\Users\\AIT\\AppData\\Local\\Temp\\ipykernel_24640\\2821481602.py\"\u001b[1;36m, line \u001b[1;32m3\u001b[0m\n\u001b[1;33m    print(\"gfg\")\u001b[0m\n\u001b[1;37m    ^\u001b[0m\n\u001b[1;31mIndentationError\u001b[0m\u001b[1;31m:\u001b[0m expected an indented block\n"
     ]
    }
   ],
   "source": [
    "a = 2\n",
    "if(a<3):\n",
    "print(\"gfg\")"
   ]
  },
  {
   "cell_type": "markdown",
   "metadata": {},
   "source": [
    "## Error Handling"
   ]
  },
  {
   "cell_type": "markdown",
   "metadata": {},
   "source": [
    "#When an error and an exception are raised then we handle that with the help of the Handling method.\n",
    "### 1.Handling Exceptions with Try/Except/Finally\n",
    "We can handle errors by the Try/Except/Finally method. we write unsafe code in the try, fall back code in except and final code in finally block. Example:"
   ]
  },
  {
   "cell_type": "code",
   "execution_count": 5,
   "metadata": {},
   "outputs": [
    {
     "name": "stdout",
     "output_type": "stream",
     "text": [
      "code start\n",
      "an error occurs\n",
      "This is Test\n"
     ]
    }
   ],
   "source": [
    "# put unsafe operation in try block\n",
    "try:\n",
    "    print(\"code start\")\n",
    "# unsafe operation perform\n",
    "    print(1 / 0)\n",
    "\n",
    "# if error occur the it goes in except block\n",
    "except:\n",
    "    print(\"an error occurs\")\n",
    "\n",
    "# final code in finally block\n",
    "finally:\n",
    "    print(\"This is Test\")"
   ]
  },
  {
   "cell_type": "markdown",
   "metadata": {},
   "source": [
    "### 2.Raising exceptions for a predefined condition \n",
    "When we want to code for the limitation of certain conditions then we can raise an exception. \n",
    "Example "
   ]
  },
  {
   "cell_type": "code",
   "execution_count": 8,
   "metadata": {},
   "outputs": [
    {
     "name": "stdout",
     "output_type": "stream",
     "text": [
      "please add money in your account\n"
     ]
    }
   ],
   "source": [
    "# try for unsafe code\n",
    "try:\n",
    "    amount = 1999\n",
    "    if amount < 2999:\n",
    "# raise the ValueError\n",
    "        raise ValueError(\"please add money in your account\")\n",
    "    else:\n",
    "        print(\"You are eligible to purchase DSA Self Paced course\")\n",
    "# if false then raise the value error\n",
    "except ValueError as e:\n",
    "        print(e)"
   ]
  },
  {
   "cell_type": "markdown",
   "metadata": {},
   "source": [
    "<h1 style= 'font-size:3rem'><u>Unit Testing the code</u></h1>"
   ]
  },
  {
   "cell_type": "markdown",
   "metadata": {},
   "source": [
    "Unit Testing is the first level of software testing where the smallest testable parts of a software are tested. This is used to validate that each unit of the software performs as designed.<br>\n",
    "The unittest test framework is python’s xUnit style framework.<br>\n",
    "## Method:<br>\n",
    "White Box Testing method is used for Unit testing.<br>\n",
    "### OOP concepts supported by unittest framework:<br>\n",
    "#### test fixture:<br>\n",
    "A test fixture is used as a baseline for running tests to ensure that there is a fixed environment in which tests are run so that results are repeatable.<br>\n",
    "Examples :<br>\n",
    "1.creating temporary databases.<br>\n",
    "2.starting a server process.<br>\n",
    "#### test case:\n",
    "A test case is a set of conditions which is used to determine whether a system under test works correctly.\n",
    "#### test suite:\n",
    "Test suite is a collection of testcases that are used to test a software program to show that it has some specified set of behaviours by executing the aggregated tests together.\n",
    "#### test runner:\n",
    "A test runner is a component which set up the execution of tests and provides the outcome to the user.\n",
    "## Basic Test Structure :\n",
    "unittest defines tests by the following two ways :<br>\n",
    "1.Manage test “fixtures” using code.<br>\n",
    "2.test itself.<br>"
   ]
  },
  {
   "cell_type": "markdown",
   "metadata": {},
   "source": [
    "import unittest<br>\n",
    "\n",
    "class SimpleTest(unittest.TestCase):<br>\n",
    "\n",
    "#Returns True or False.<br>\n",
    "    def test(self):\t\t<br><br>\n",
    "        self.assertTrue(True)<br>\n",
    "if __name__ == '__main__':<br>\n",
    "    unittest.main()##### test case:<br>"
   ]
  },
  {
   "cell_type": "markdown",
   "metadata": {},
   "source": [
    "This is the basic test code using unittest framework, which is having a single test. This test() method will fail if TRUE is ever FALSE.<br>\n",
    "### Outcomes Possible :\n",
    "There are three types of possible test outcomes :<br>\n",
    "1.OK – This means that all the tests are passed.<br>\n",
    "2.FAIL – This means that the test did not pass and an AssertionError exception is raised.<br>\n",
    "3.ERROR – This means that the test raises an exception other than AssertionError.<br>"
   ]
  },
  {
   "cell_type": "markdown",
   "metadata": {},
   "source": [
    "<h1 style= 'font-size:3rem'><u>Arguments</u></h1>"
   ]
  },
  {
   "cell_type": "markdown",
   "metadata": {},
   "source": [
    "An argument is a value that is passed to a function when it is called. It might be a variable, value or object passed to a function or method as input. They are written when we are calling the function."
   ]
  },
  {
   "cell_type": "markdown",
   "metadata": {},
   "source": [
    "## Example:"
   ]
  },
  {
   "cell_type": "code",
   "execution_count": 43,
   "metadata": {},
   "outputs": [
    {
     "name": "stdout",
     "output_type": "stream",
     "text": [
      "3\n"
     ]
    }
   ],
   "source": [
    "def sum(a,b):\n",
    "    print(a+b)\n",
    "\n",
    "# Here the values 1,2 are arguments\n",
    "sum(1,2)"
   ]
  },
  {
   "cell_type": "markdown",
   "metadata": {},
   "source": [
    "## Types of arguments in python:\n",
    "Python functions can contain two types of arguments:<br>\n",
    "Positional Arguments<br>\n",
    "Keyword Arguments<br>\n",
    "### Positional Arguments:\n",
    "Positional Arguments are needed to be included in proper order i.e the first argument is always listed first when the function is called, second argument needs to be called second and so\n",
    "#### Example:"
   ]
  },
  {
   "cell_type": "code",
   "execution_count": 45,
   "metadata": {},
   "outputs": [
    {
     "name": "stdout",
     "output_type": "stream",
     "text": [
      "AlexTim\n"
     ]
    }
   ],
   "source": [
    "def person_name(first_name,second_name):\n",
    "    print(first_name+second_name)\n",
    "# First name is Ram placed first\n",
    "# Second name is Babu place second\n",
    "person_name(\"Alex\",\"Tim\")\n"
   ]
  },
  {
   "cell_type": "markdown",
   "metadata": {},
   "source": [
    "### Keyword Arguments:\n",
    "Keyword Arguments is an argument passed to a function or method which is preceded by a keyword and an equal to sign. The order of keyword argument with respect to another keyword argument does not matter because the values are being explicitly assigned.\n",
    "#### Example:"
   ]
  },
  {
   "cell_type": "code",
   "execution_count": 48,
   "metadata": {},
   "outputs": [
    {
     "name": "stdout",
     "output_type": "stream",
     "text": [
      "AlexTim\n"
     ]
    }
   ],
   "source": [
    "def person_name(first_name,second_name):\n",
    "    print(first_name+second_name)\n",
    "\n",
    "# Here we are explicitly assigning the values\n",
    "person_name(second_name=\"Tim\",first_name=\"Alex\")"
   ]
  },
  {
   "cell_type": "markdown",
   "metadata": {},
   "source": [
    "<h1 style= 'font-size:3rem'><u>Chained Comparison Operators</u></h1>"
   ]
  },
  {
   "cell_type": "markdown",
   "metadata": {},
   "source": [
    "Sometimes we need to use more than one condition checking in a single statement. There are some basic syntax for these kind of checking is x < y < z, or if x < y and x < z etc.<br>\n",
    "Like other languages, there are some basic comparison operators in Python. These comparison operators are <, <=, >, >=, ==, !=, is, is not, in, not in.<br>\n",
    "The precedence of these operators are same, and the precedence is lesser than arithmetic, bitwise and shifting operators.<br>\n",
    "These operators can be arranged arbitrarily. They will be used as a chain. So for an example, if the expression is x < y < z, then it is similar to the x < y and y < z. So from this example, we can see if the operands are p1, p2,..., pn, and the operators are OP1, OP2,..., OPn-1, then it will be same as p1 OP1 p2 and p2 OP2 p3, , pn-1 OPn-1pn<br>\n",
    "So there are some examples on the chaining features of comparison operators.\n",
    "## Example Code"
   ]
  },
  {
   "cell_type": "code",
   "execution_count": 50,
   "metadata": {},
   "outputs": [
    {
     "name": "stdout",
     "output_type": "stream",
     "text": [
      "True\n",
      "True\n",
      "True\n",
      "False\n",
      "True\n"
     ]
    }
   ],
   "source": [
    "a = 10\n",
    "b = 20\n",
    "c = 5\n",
    "# c < a < b is same as c <a and a < b\n",
    "print(c < a)\n",
    "print(a < b)\n",
    "print(c < a < b)\n",
    "# b is not in between 40 and 60\n",
    "print(40 <= b <= 60)\n",
    "# a is 10, which is greater than c\n",
    "print(a == 10 > c)"
   ]
  },
  {
   "cell_type": "markdown",
   "metadata": {},
   "source": [
    "## Example 2"
   ]
  },
  {
   "cell_type": "code",
   "execution_count": 51,
   "metadata": {},
   "outputs": [
    {
     "name": "stdout",
     "output_type": "stream",
     "text": [
      "True\n",
      "True\n"
     ]
    }
   ],
   "source": [
    "u = 5\n",
    "v = 10\n",
    "w = 15\n",
    "x = 0\n",
    "y = 7\n",
    "z = 15\n",
    "# The w is same as z but not same as v, v is greater than x, which is less than y\n",
    "print(z is w is not v > x < y)\n",
    "# Check whether w and z are same and x < z > y or not\n",
    "print(x < w == z > y)"
   ]
  },
  {
   "cell_type": "markdown",
   "metadata": {},
   "source": [
    "<h1 style= 'font-size:3rem'><u>Files -File I/O,Reader & Writer</u></h1><br>"
   ]
  },
  {
   "cell_type": "markdown",
   "metadata": {},
   "source": [
    "# Files\n",
    "Files are named locations on disk to store related information. They are used to permanently store data in a non-volatile memory (e.g. hard disk).<br>\n",
    "Since Random Access Memory (RAM) is volatile (which loses its data when the computer is turned off), we use files for future use of the data by permanently storing them.<br>\n",
    "When we want to read from or write to a file, we need to open it first. When we are done, it needs to be closed so that the resources that are tied with the file are freed.<br>\n",
    "Hence, in Python, a file operation takes place in the following order:<br>\n",
    "1.Open a file<br>\n",
    "2.Read or write (perform operation)<br>\n",
    "3.Close the file<br>\n",
    "## Opening Files\n",
    "Python has a built-in open() function to open a file. This function returns a file object, also called a handle, as it is used to read or modify the file accordingly.\n",
    "### code\n",
    "f = open(\"test.txt\")    # open file in current directory<br>\n",
    "f = open(\"C:/Python38/README.txt\")  # specifying full path<br><br>\n",
    "We can specify the mode while opening a file. In mode, we specify whether we want to read r, write w or append a to the file. We can also specify if we want to open the file in text mode or binary mode.\n",
    "The default is reading in text mode. In this mode, we get strings when reading from the file.\n",
    "On the other hand, binary mode returns bytes and this is the mode to be used when dealing with non-text files like images or executable files.\n",
    "### Code\n",
    "f = open(\"test.txt\")      # equivalent to 'r' or 'rt'<br>\n",
    "f = open(\"test.txt\",'w')  # write in text mode<br>\n",
    "f = open(\"img.bmp\",'r+b') # read and write in binary mode<br><br>\n",
    "Unlike other languages, the character a does not imply the number 97 until it is encoded using ASCII (or other equivalent encodings).\n",
    "Moreover, the default encoding is platform dependent. In windows, it is cp1252 but utf-8 in Linux.\n",
    "So, we must not also rely on the default encoding or else our code will behave differently in different platforms.\n",
    "Hence, when working with files in text mode, it is highly recommended to specify the encoding type.\n",
    "### code\n",
    "f = open(\"test.txt\", mode='r', encoding='utf-8')\n",
    "## Closing Files\n",
    "When we are done with performing operations on the file, we need to properly close the file.\n",
    "Closing a file will free up the resources that were tied with the file. It is done using the close() method available in Python.Python has a garbage collector to clean up unreferenced objects but we must not rely on it to close the file.\n",
    "### Code\n",
    "f = open(\"test.txt\", encoding = 'utf-8')<br>\n",
    "#perform file operations<br>\n",
    "f.close() <br><br>\n",
    "This method is not entirely safe. If an exception occurs when we are performing some operation with the file, the code exits without closing the file.A safer way is to use a try...finally block.\n",
    "### code\n",
    "try:\n",
    "   f = open(\"test.txt\", encoding = 'utf-8')<br>\n",
    "   #perform file operations<br>\n",
    "finally:<br>\n",
    "    f.close()<br>\n",
    "This way, we are guaranteeing that the file is properly closed even if an exception is raised that causes program flow to stop.\n",
    "The best way to close a file is by using the with statement. This ensures that the file is closed when the block inside the with statement is exited.\n",
    "We don't need to explicitly call the close() method. It is done internally.<br>\n",
    "with open(\"test.txt\", encoding = 'utf-8') as f:<br>\n",
    "#perform file operations\n",
    "# Writing to Files\n",
    "In order to write into a file in Python, we need to open it in write w, append a or exclusive creation x mode.\n",
    "We need to be careful with the w mode, as it will overwrite into the file if it already exists. Due to this, all the previous data are erased.\n",
    "Writing a string or sequence of bytes (for binary files) is done using the write() method. This method returns the number of characters written to the file.<br><br>\n",
    "with open(\"test.txt\",'w',encoding = 'utf-8') as f:\n",
    "### code\n",
    "   f.write(\"my first file\\n\")<br>\n",
    "   f.write(\"This file\\n\\n\")<br>\n",
    "   f.write(\"contains three lines\\n\")<br>\n",
    "This program will create a new file named test.txt in the current directory if it does not exist. If it does exist, it is overwritten.\n",
    "We must include the newline characters ourselves to distinguish the different lines.\n",
    "# Reading Files\n",
    "To read a file in Python, we must open the file in reading r mode.\n",
    "There are various methods available for this purpose. We can use the read(size) method to read in the size number of data. If the size parameter is not specified, it reads and returns up to the end of the file.\n",
    "We can read the text.txt file we wrote in the above section in the following way:\n",
    "### code\n",
    "f = open(\"test.txt\",'r',encoding = 'utf-8')<br>\n",
    "f.read(4)    # read the first 4 data<br>\n",
    "'This'<br>\n",
    "f.read(4)    # read the next 4 data<br>\n",
    "' is '<br>\n",
    "f.read()     # read in the rest till end of file<br>\n",
    "'my first file\\nThis file\\ncontains three lines\\n'<br>\n",
    "f.read()  # further reading returns empty sting<br><br>\n",
    "We can see that the read() method returns a newline as '\\n'. Once the end of the file is reached, we get an empty string on further reading.\n",
    "We can change our current file cursor (position) using the seek() method. Similarly, the tell() method returns our current position (in number of bytes).\n",
    "### code\n",
    "f.tell()    # get the current file position<br>\n",
    "56<br>\n",
    "f.seek(0)   # bring file cursor to initial position<br>\n",
    "0<br>\n",
    "print(f.read())  # read the entire file<br>\n",
    "This is my first file<br>\n",
    "This file<br>\n",
    "contains three lines<br><br>\n",
    "We can read a file line-by-line using a for loop. This is both efficient and fast.\n",
    "### code\n",
    "for line in f:<br>\n",
    "    print(line, end = '')<br>\n",
    "This is my first file<br>\n",
    "This file<br>\n",
    "contains three lines<br><br>\n",
    "In this program, the lines in the file itself include a newline character \\n. So, we use the end parameter of the print() function to avoid two newlines when printing.\n",
    "Alternatively, we can use the readline() method to read individual lines of a file. This method reads a file till the newline, including the newline character.\n",
    "### code\n",
    "f.readline()<br>\n",
    "'This is my first file\\n'<br>\n",
    "f.readline()<br>\n",
    "'This file\\n'<br>\n",
    "f.readline()<br>\n",
    "'contains three lines\\n'<br>\n",
    "f.readline()<br><br>\n",
    "Lastly, the readlines() method returns a list of remaining lines of the entire file. All these reading methods return empty values when the end of file (EOF) is reached.\n",
    "### code\n",
    "f.readlines()<br>\n",
    "['This is my first file\\n', 'This file\\n', 'contains three lines\\n']"
   ]
  },
  {
   "cell_type": "markdown",
   "metadata": {},
   "source": [
    "<h1 style= 'font-size:3rem'><u>NumPy and Pandas an Introduction</u></h1>"
   ]
  },
  {
   "cell_type": "markdown",
   "metadata": {},
   "source": [
    "# Pandas\n",
    "Pandas is a very popular library for working with data (its goal is to be the most powerful and flexible open-source tool, and in our opinion, it has reached that goal). DataFrames are at the center of pandas. A DataFrame is structured like a table or spreadsheet. The rows and the columns both have indexes, and you can perform operations on rows or columns separately.\n",
    "A pandas DataFrame can be easily changed and manipulated. Pandas has helpful functions for handling missing data, performing operations on columns and rows, and transforming data. If that wasn’t enough, a lot of SQL functions have counterparts in pandas, such as join, merge, filter by, and group by. With all of these powerful tools, it should come as no surprise that pandas is very popular among data scientists.\n",
    "# NumPy\n",
    "NumPy is an open-source Python library that facilitates efficient numerical operations on large quantities of data. There are a few functions that exist in NumPy that we use on pandas DataFrames. For us, the most important part about NumPy is that pandas is built on top of it. So, NumPy is a dependency of Pandas.\n",
    "## Examples"
   ]
  },
  {
   "cell_type": "code",
   "execution_count": 58,
   "metadata": {},
   "outputs": [
    {
     "name": "stdout",
     "output_type": "stream",
     "text": [
      "[1 2 3 4]\n"
     ]
    }
   ],
   "source": [
    "import numpy as np\n",
    "import pandas as pd\n",
    "list1 = [1,2,3,4]\n",
    "array1 = np.array(list1)\n",
    "print(array1)"
   ]
  },
  {
   "cell_type": "code",
   "execution_count": 63,
   "metadata": {},
   "outputs": [
    {
     "name": "stdout",
     "output_type": "stream",
     "text": [
      "[[1 2 3]\n",
      " [4 5 6]]\n"
     ]
    }
   ],
   "source": [
    "list2 = [[1,2,3],[4,5,6]]\n",
    "array2 = np.array(list2)\n",
    "print(array2)"
   ]
  },
  {
   "cell_type": "code",
   "execution_count": 64,
   "metadata": {},
   "outputs": [
    {
     "name": "stdout",
     "output_type": "stream",
     "text": [
      "[3 6 1 4]\n"
     ]
    }
   ],
   "source": [
    "toyPrices = np.array([5,8,3,6])\n",
    "print(toyPrices - 2)"
   ]
  },
  {
   "cell_type": "code",
   "execution_count": 65,
   "metadata": {},
   "outputs": [
    {
     "name": "stdout",
     "output_type": "stream",
     "text": [
      "[3, 6, 1, 4]\n"
     ]
    }
   ],
   "source": [
    "toyPrices = [5,8,3,6]\n",
    "# print(toyPrices - 2) -- Not possible. Causes an error\n",
    "for i in range(len(toyPrices)):\n",
    "    toyPrices[i] -= 2\n",
    "print(toyPrices)"
   ]
  },
  {
   "cell_type": "code",
   "execution_count": 66,
   "metadata": {},
   "outputs": [
    {
     "name": "stdout",
     "output_type": "stream",
     "text": [
      "0    13\n",
      "1    25\n",
      "2    19\n",
      "dtype: int32\n"
     ]
    }
   ],
   "source": [
    "ages = np.array([13,25,19])\n",
    "series1 = pd.Series(ages)\n",
    "print(series1)"
   ]
  },
  {
   "cell_type": "code",
   "execution_count": 67,
   "metadata": {},
   "outputs": [
    {
     "name": "stdout",
     "output_type": "stream",
     "text": [
      "Emma      13\n",
      "Swetha    25\n",
      "Serajh    19\n",
      "dtype: int32\n"
     ]
    }
   ],
   "source": [
    "ages = np.array([13,25,19])\n",
    "series1 = pd.Series(ages,index=['Emma', 'Swetha', 'Serajh'])\n",
    "print(series1)"
   ]
  },
  {
   "cell_type": "code",
   "execution_count": 68,
   "metadata": {},
   "outputs": [
    {
     "name": "stdout",
     "output_type": "stream",
     "text": [
      "[13 25 19]\n"
     ]
    }
   ],
   "source": [
    "ages = np.array([13,25,19])\n",
    "print(ages)"
   ]
  },
  {
   "cell_type": "code",
   "execution_count": 71,
   "metadata": {},
   "outputs": [
    {
     "data": {
      "text/html": [
       "<div>\n",
       "<style scoped>\n",
       "    .dataframe tbody tr th:only-of-type {\n",
       "        vertical-align: middle;\n",
       "    }\n",
       "\n",
       "    .dataframe tbody tr th {\n",
       "        vertical-align: top;\n",
       "    }\n",
       "\n",
       "    .dataframe thead th {\n",
       "        text-align: right;\n",
       "    }\n",
       "</style>\n",
       "<table border=\"1\" class=\"dataframe\">\n",
       "  <thead>\n",
       "    <tr style=\"text-align: right;\">\n",
       "      <th></th>\n",
       "      <th>address</th>\n",
       "      <th>age</th>\n",
       "    </tr>\n",
       "    <tr>\n",
       "      <th>name</th>\n",
       "      <th></th>\n",
       "      <th></th>\n",
       "    </tr>\n",
       "  </thead>\n",
       "  <tbody>\n",
       "    <tr>\n",
       "      <th>John Smith</th>\n",
       "      <td>123 Main St</td>\n",
       "      <td>34</td>\n",
       "    </tr>\n",
       "    <tr>\n",
       "      <th>Jane Doe</th>\n",
       "      <td>456 Maple Ave</td>\n",
       "      <td>28</td>\n",
       "    </tr>\n",
       "    <tr>\n",
       "      <th>Joe Schmo</th>\n",
       "      <td>789 Broadway</td>\n",
       "      <td>51</td>\n",
       "    </tr>\n",
       "  </tbody>\n",
       "</table>\n",
       "</div>"
      ],
      "text/plain": [
       "                  address  age\n",
       "name                          \n",
       "John Smith    123 Main St   34\n",
       "Jane Doe    456 Maple Ave   28\n",
       "Joe Schmo    789 Broadway   51"
      ]
     },
     "execution_count": 71,
     "metadata": {},
     "output_type": "execute_result"
    }
   ],
   "source": [
    "dataf = pd.DataFrame([\n",
    "    ['John Smith','123 Main St',34],\n",
    "    ['Jane Doe', '456 Maple Ave',28],\n",
    "    ['Joe Schmo', '789 Broadway',51]\n",
    "    ],\n",
    "    columns=['name','address','age'])\n",
    "dataf.set_index('name')"
   ]
  },
  {
   "cell_type": "markdown",
   "metadata": {},
   "source": [
    "<h1 style= 'font-size:3rem'><u>Variety of Numpy</u></h1>"
   ]
  },
  {
   "cell_type": "markdown",
   "metadata": {},
   "source": [
    "# Data types\n",
    "## Array types and conversions between types\n",
    "NumPy supports a much greater variety of numerical types than Python does. This section shows which are available, and how to modify an array’s data-type.<br><br>\n",
    "1.numpy.bool_<br>\n",
    "2.numpy.byte<br>\n",
    "3.numpy.ubyte<br>\n",
    "4.numpy.short<br>\n",
    "5.numpy.ushort<br>\n",
    "6.numpy.intc<br>\n",
    "7.numpy.uintc<br>\n",
    "8.numpy.int_<br>\n",
    "9.numpy.uint<br>\n",
    "10.numpy.longlong<br>\n",
    "11.numpy.ulonglong<br>\n",
    "12.numpy.half / numpy.float16<br>\n",
    "13.numpy.single<br>\n",
    "14.numpy.double<br>\n",
    "15.numpy.longdouble<br>\n",
    "16.numpy.csingle<br>\n",
    "17.numpy.cdouble<br>\n",
    "18.numpy.clongdouble<br>"
   ]
  },
  {
   "cell_type": "markdown",
   "metadata": {},
   "source": [
    "<h1 style= 'font-size:3rem'><u>Arange Functions</u></h1>"
   ]
  },
  {
   "cell_type": "markdown",
   "metadata": {},
   "source": [
    "# numpy.arange()"
   ]
  },
  {
   "cell_type": "markdown",
   "metadata": {},
   "source": [
    "The arange([start,] stop[, step,][, dtype]) : Returns an array with evenly spaced elements as per the interval. The interval mentioned is half-opened i.e. [Start, Stop) <br>\n",
    "#### Parameters : \n",
    "start : [optional] start of interval range. By default start = 0<br>\n",
    "stop  : end of interval range<br>\n",
    "step  : [optional] step size of interval. By default step size = 1,  <br>\n",
    "For any output out, this is the distance between two adjacent values, out[i+1] - out[i]. <br>\n",
    "dtype : type of output array\n",
    "#### Return: \n",
    "Array of evenly spaced values.<br>\n",
    "Length of array being generated  = Ceil((Stop - Start) / Step)\n",
    "## Example:"
   ]
  },
  {
   "cell_type": "code",
   "execution_count": 74,
   "metadata": {},
   "outputs": [
    {
     "name": "stdout",
     "output_type": "stream",
     "text": [
      "A\n",
      " [[0 1]\n",
      " [2 3]] \n",
      "\n",
      "A\n",
      " [4 5 6 7 8 9] \n",
      "\n",
      "A\n",
      " [ 4  7 10 13 16 19] \n",
      "\n"
     ]
    }
   ],
   "source": [
    "#Python Programming illustrating\n",
    "#numpy.arange method\n",
    "import numpy as geek\n",
    "\n",
    "print(\"A\\n\", geek.arange(4).reshape(2, 2), \"\\n\")\n",
    "print(\"A\\n\", geek.arange(4, 10), \"\\n\")\n",
    "print(\"A\\n\", geek.arange(4, 20, 3), \"\\n\")"
   ]
  },
  {
   "cell_type": "markdown",
   "metadata": {},
   "source": [
    "## Example:"
   ]
  },
  {
   "cell_type": "code",
   "execution_count": 75,
   "metadata": {},
   "outputs": [
    {
     "name": "stdout",
     "output_type": "stream",
     "text": [
      "[1.  1.1 1.2 1.3 1.4 1.5 1.6 1.7 1.8 1.9]\n"
     ]
    }
   ],
   "source": [
    "# Python Programming illustrating\n",
    "# numpy.arange method\n",
    "\n",
    "import numpy as np\n",
    "\n",
    "# Printing all numbers from 1 to\n",
    "# 2 in steps of 0.1\n",
    "print(np.arange(1, 2, 0.1))"
   ]
  },
  {
   "cell_type": "markdown",
   "metadata": {},
   "source": [
    "<h1 style= 'font-size:3rem'><u>Zeros Functions</u></h1>"
   ]
  },
  {
   "cell_type": "markdown",
   "metadata": {},
   "source": [
    "# numpy.zeros()"
   ]
  },
  {
   "cell_type": "markdown",
   "metadata": {},
   "source": [
    "The numpy.zeros() function returns a new array of given shape and type, with zeros.\n",
    "#### Syntax:\n",
    "numpy.zeros(shape, dtype = None, order = 'C')\n",
    "#### Parameters :\n",
    "shape : integer or sequence of integers<br>\n",
    "order  : C_contiguous or F_contiguous<br>\n",
    "         C-contiguous order in memory(last index varies the fastest)<br>\n",
    "         C order means that operating row-rise on the array will be slightly quicker<br>\n",
    "         FORTRAN-contiguous order in memory (first index varies the fastest).<br>\n",
    "         F order means that column-wise operations will be faster. <br>\n",
    "dtype : [optional, float(byDeafult)] Data type of returned array.  <br>\n",
    "#### Returns : \n",
    "ndarray of zeros having given shape, order and datatype.\n",
    "## Example:"
   ]
  },
  {
   "cell_type": "code",
   "execution_count": 76,
   "metadata": {},
   "outputs": [
    {
     "name": "stdout",
     "output_type": "stream",
     "text": [
      "Matrix b : \n",
      " [0 0]\n",
      "\n",
      "Matrix a : \n",
      " [[0 0]\n",
      " [0 0]]\n",
      "\n",
      "Matrix c : \n",
      " [[0. 0. 0.]\n",
      " [0. 0. 0.]\n",
      " [0. 0. 0.]]\n"
     ]
    }
   ],
   "source": [
    "# Python Program illustrating\n",
    "# numpy.zeros method\n",
    "\n",
    "import numpy as geek\n",
    "\n",
    "b = geek.zeros(2, dtype = int)\n",
    "print(\"Matrix b : \\n\", b)\n",
    "\n",
    "a = geek.zeros([2, 2], dtype = int)\n",
    "print(\"\\nMatrix a : \\n\", a)\n",
    "\n",
    "c = geek.zeros([3, 3])\n",
    "print(\"\\nMatrix c : \\n\", c)"
   ]
  },
  {
   "cell_type": "code",
   "execution_count": 77,
   "metadata": {},
   "outputs": [
    {
     "name": "stdout",
     "output_type": "stream",
     "text": [
      "[(0., 0) (0., 0)]\n"
     ]
    }
   ],
   "source": [
    "# Python Program illustrating\n",
    "# numpy.zeros method\n",
    "\n",
    "import numpy as geek\n",
    "\n",
    "# manipulation with data-types\n",
    "b = geek.zeros((2,), dtype=[('x', 'float'), ('y', 'int')])\n",
    "print(b)"
   ]
  },
  {
   "cell_type": "markdown",
   "metadata": {},
   "source": [
    "<h1 style= 'font-size:3rem'><u>Linespace,eye,random,shape and reshape</u></h1>"
   ]
  },
  {
   "cell_type": "markdown",
   "metadata": {},
   "source": [
    "# numpy.linspace()\n",
    "The numpy.linspace() function returns number spaces evenly w.r.t interval. Similar to numpy.arange() function but instead of step it uses sample number. \n",
    "## Syntax :\n",
    "numpy.linspace(start,\n",
    "               stop,\n",
    "               num = 50,\n",
    "               endpoint = True,\n",
    "               retstep = False,\n",
    "               dtype = None)\n",
    "## Parameters : \n",
    "\n",
    "-> start  : [optional] start of interval range. By default start = 0\n",
    "-> stop   : end of interval range\n",
    "-> restep : If True, return (samples, step). By default restep = False\n",
    "-> num    : [int, optional] No. of samples to generate\n",
    "-> dtype  : type of output array\n",
    "## Return :\n",
    "-> ndarray\n",
    "-> step : [float, optional], if restep = True\n",
    "### Examples"
   ]
  },
  {
   "cell_type": "code",
   "execution_count": 78,
   "metadata": {},
   "outputs": [
    {
     "name": "stdout",
     "output_type": "stream",
     "text": [
      "B\n",
      " (array([2.  , 2.25, 2.5 , 2.75, 3.  ]), 0.25) \n",
      "\n",
      "A\n",
      " [0.         0.22039774 0.42995636 0.6183698  0.77637192 0.8961922\n",
      " 0.9719379  0.99988386 0.9786557  0.90929743]\n"
     ]
    }
   ],
   "source": [
    "# Python Programming illustrating\n",
    "# numpy.linspace method\n",
    "\n",
    "import numpy as geek\n",
    "\n",
    "# restep set to True\n",
    "print(\"B\\n\", geek.linspace(2.0, 3.0, num=5, retstep=True), \"\\n\")\n",
    "\n",
    "# To evaluate sin() in long range\n",
    "x = geek.linspace(0, 2, 10)\n",
    "print(\"A\\n\", geek.sin(x))"
   ]
  },
  {
   "cell_type": "code",
   "execution_count": 79,
   "metadata": {},
   "outputs": [
    {
     "data": {
      "text/plain": [
       "(-0.2, 1.8)"
      ]
     },
     "execution_count": 79,
     "metadata": {},
     "output_type": "execute_result"
    },
    {
     "data": {
      "image/png": "[encoded data removed]",
      "text/plain": [
       "<Figure size 640x480 with 1 Axes>"
      ]
     },
     "metadata": {},
     "output_type": "display_data"
    }
   ],
   "source": [
    "# Graphical Representation of numpy.linspace()\n",
    "import numpy as geek\n",
    "import pylab as p\n",
    "\n",
    "# Start = 0\n",
    "# End = 2\n",
    "# Samples to generate = 10\n",
    "x1 = geek.linspace(0, 2, 10, endpoint = False)\n",
    "y1 = geek.ones(10)\n",
    "\n",
    "p.plot(x1, y1, '*')\n",
    "p.xlim(-0.2, 1.8)"
   ]
  },
  {
   "cell_type": "code",
   "execution_count": 80,
   "metadata": {},
   "outputs": [
    {
     "data": {
      "text/plain": [
       "(-0.2, 2.1)"
      ]
     },
     "execution_count": 80,
     "metadata": {},
     "output_type": "execute_result"
    },
    {
     "data": {
      "image/png": "[encoded data removed]",
      "text/plain": [
       "<Figure size 640x480 with 1 Axes>"
      ]
     },
     "metadata": {},
     "output_type": "display_data"
    }
   ],
   "source": [
    "# Graphical Representation of numpy.linspace()\n",
    "import numpy as geek\n",
    "import pylab as p\n",
    "\n",
    "# Start = 0\n",
    "# End = 2\n",
    "# Samples to generate = 15\n",
    "x1 = geek.linspace(0, 2, 15, endpoint = True)\n",
    "y1 = geek.zeros(15)\n",
    "\n",
    "p.plot(x1, y1, 'o')\n",
    "p.xlim(-0.2, 2.1)"
   ]
  },
  {
   "cell_type": "markdown",
   "metadata": {},
   "source": [
    "# numpy.eye()"
   ]
  },
  {
   "cell_type": "markdown",
   "metadata": {},
   "source": [
    "numpy.eye(R, C = None, k = 0, dtype = type <‘float’>) : –The eye tool returns a 2-D array with  1’s as the diagonal and  0’s elsewhere. The diagonal can be main, upper, or lower depending on the optional parameter k. A positive k is for the upper diagonal, a negative k is for the lower, and a  0 k (default) is for the main diagonal.\n",
    "## Parameters :\n",
    "R : Number of rows<br>\n",
    "C : [optional] Number of columns; By default M = N<br>\n",
    "k : [int, optional, 0 by default]<br>\n",
    "          Diagonal we require; k>0 means diagonal above main diagonal or vice versa.<br>\n",
    "dtype : [optional, float(by Default)] Data type of returned array.  <br>\n",
    "## Returns : \n",
    "array of shape, R x C, an array where all elements \n",
    "are equal to zero, except for the k-th diagonal, <br>\n",
    "whose values are equal to one.\n",
    "### Examples:"
   ]
  },
  {
   "cell_type": "code",
   "execution_count": 81,
   "metadata": {},
   "outputs": [
    {
     "name": "stdout",
     "output_type": "stream",
     "text": [
      "Matrix b : \n",
      " [[1. 0.]\n",
      " [0. 1.]]\n",
      "\n",
      "Matrix a : \n",
      " [[0. 0. 0. 0. 0.]\n",
      " [1. 0. 0. 0. 0.]\n",
      " [0. 1. 0. 0. 0.]\n",
      " [0. 0. 1. 0. 0.]]\n"
     ]
    }
   ],
   "source": [
    "# Python Programming illustrating\n",
    "# numpy.eye method\n",
    "\n",
    "import numpy as geek\n",
    "\n",
    "# 2x2 matrix with 1's on main diagonal\n",
    "b = geek.eye(2, dtype = float)\n",
    "print(\"Matrix b : \\n\", b)\n",
    "\n",
    "# matrix with R=4 C=5 and 1 on diagonal\n",
    "# below main diagonal\n",
    "a = geek.eye(4, 5, k = -1)\n",
    "print(\"\\nMatrix a : \\n\", a)"
   ]
  },
  {
   "cell_type": "markdown",
   "metadata": {},
   "source": [
    "# numpy.random()\n",
    "The random is a module present in the NumPy library. This module contains the functions which are used for generating random numbers. This module contains some simple random data generation methods, some permutation and distribution functions, and random generator functions.<br>\n",
    "All the functions in a random module are as follows:\n",
    "## Simple random data\n",
    "There are the following functions of simple random data:\n",
    "### 1) p.random.rand(d0, d1, ..., dn)\n",
    "This function of random module is used to generate random numbers or values in a given shape.\n",
    "#### Examples:"
   ]
  },
  {
   "cell_type": "code",
   "execution_count": 82,
   "metadata": {},
   "outputs": [
    {
     "data": {
      "text/plain": [
       "array([[0.25122358, 0.98333656],\n",
       "       [0.06598499, 0.38400423],\n",
       "       [0.40284864, 0.02588514],\n",
       "       [0.54463985, 0.8398678 ],\n",
       "       [0.95679901, 0.92121022]])"
      ]
     },
     "execution_count": 82,
     "metadata": {},
     "output_type": "execute_result"
    }
   ],
   "source": [
    "import numpy as np  \n",
    "a=np.random.rand(5,2)  \n",
    "a "
   ]
  },
  {
   "cell_type": "code",
   "execution_count": 83,
   "metadata": {},
   "outputs": [
    {
     "data": {
      "text/plain": [
       "array([[-0.39890395, -0.96309839],\n",
       "       [ 2.0565762 ,  0.8134338 ]])"
      ]
     },
     "execution_count": 83,
     "metadata": {},
     "output_type": "execute_result"
    }
   ],
   "source": [
    "a=np.random.randn(2,2)  \n",
    "a "
   ]
  },
  {
   "cell_type": "code",
   "execution_count": 84,
   "metadata": {},
   "outputs": [
    {
     "data": {
      "text/plain": [
       "array([1, 2, 0, 2, 2, 2, 0, 0, 0, 0])"
      ]
     },
     "execution_count": 84,
     "metadata": {},
     "output_type": "execute_result"
    }
   ],
   "source": [
    "a=np.random.randint(3, size=10)  \n",
    "a "
   ]
  },
  {
   "cell_type": "code",
   "execution_count": 90,
   "metadata": {},
   "outputs": [
    {
     "data": {
      "text/plain": [
       "array([0.24798984, 0.86936866, 0.72236738, 0.95795542, 0.84093988])"
      ]
     },
     "execution_count": 90,
     "metadata": {},
     "output_type": "execute_result"
    }
   ],
   "source": [
    "a=np.random.random_sample()  \n",
    "a  \n",
    "b=type(np.random.random_sample())  \n",
    "b  \n",
    "c=np.random.random_sample((5,))  \n",
    "c  "
   ]
  },
  {
   "cell_type": "code",
   "execution_count": 92,
   "metadata": {},
   "outputs": [
    {
     "data": {
      "text/plain": [
       "array([3, 2, 0])"
      ]
     },
     "execution_count": 92,
     "metadata": {},
     "output_type": "execute_result"
    }
   ],
   "source": [
    "a=np.random.choice(5,3)  \n",
    "a  \n",
    "b=np.random.choice(5,3, p=[0.2, 0.1, 0.4, 0.2, 0.1])  \n",
    "b   "
   ]
  },
  {
   "cell_type": "markdown",
   "metadata": {},
   "source": [
    "# NumPy Array Shape\n",
    "The shape of an array can be defined as the number of elements in each dimension. Dimension is the number of indices or subscripts, that we require in order to specify an individual element of an array.In NumPy we will use an attribute called shape which returns a tuple, the elements of the tuple give the lengths of the corresponding array dimensions.\n",
    "## Syntax:\n",
    "numpy.shape(array_name)\n",
    "## Parameters: \n",
    "Array is passed as a Parameter. <br>\n",
    "Return: A tuple whose elements give the lengths of the corresponding array dimensions. \n",
    "### Examples:"
   ]
  },
  {
   "cell_type": "code",
   "execution_count": 93,
   "metadata": {},
   "outputs": [
    {
     "name": "stdout",
     "output_type": "stream",
     "text": [
      "(2, 4)\n",
      "(2, 2, 2)\n"
     ]
    }
   ],
   "source": [
    "import numpy as npy\n",
    "\n",
    "# creating a 2-d array\n",
    "arr1 = npy.array([[1, 3, 5, 7], [2, 4, 6, 8]])\n",
    "\n",
    "# creating a 3-d array\n",
    "arr2 = npy.array([[[1, 2], [3, 4]], [[5, 6], [7, 8]]])\n",
    "\n",
    "# printing the shape of arrays\n",
    "# first element of tuple gives\n",
    "# dimension of arrays second\n",
    "# element of tuple gives number\n",
    "# of element of each dimension\n",
    "print(arr1.shape)\n",
    "print(arr2.shape)"
   ]
  },
  {
   "cell_type": "code",
   "execution_count": 94,
   "metadata": {},
   "outputs": [
    {
     "name": "stdout",
     "output_type": "stream",
     "text": [
      "[[[[[[ 2  4  6  8 10]]]]]]\n",
      "shape of an array : (1, 1, 1, 1, 1, 5)\n"
     ]
    }
   ],
   "source": [
    "import numpy as npy\n",
    "\n",
    "# creating an array of 6 dimension\n",
    "# using ndim\n",
    "arr = npy.array([2, 4, 6, 8, 10], ndmin=6)\n",
    "\n",
    "# printing array\n",
    "print(arr)\n",
    "\n",
    "# verifying the value of last dimension\n",
    "# as 5\n",
    "print('shape of an array :', arr.shape)"
   ]
  },
  {
   "cell_type": "markdown",
   "metadata": {},
   "source": [
    "# numpy.reshape()\n",
    "The numpy.reshape() function shapes an array without changing the data of the array.\n",
    "## Syntax:\n",
    "numpy.reshape(array, shape, order = 'C')\n",
    "## Parameters : \n",
    "##### array : \n",
    "        [array_like]Input array<br>\n",
    "##### shape : \n",
    "        [int or tuples of int] e.g. if we are arranging an array with 10 elements then shaping<br>\n",
    "        it like numpy.reshape(4, 8) is wrong; we can do numpy.reshape(2, 5) or (5, 2)>>> import numpy as np<br>\n",
    "##### order  : \n",
    "         [C-contiguous, F-contiguous, A-contiguous; optional]<br>\n",
    "         C-contiguous order in memory(last index varies the fastest)<br>\n",
    "         C order means that operating row-rise on the array will be slightly quicker<br>\n",
    "         FORTRAN-contiguous order in memory (first index varies the fastest).<br>\n",
    "         F order means that column-wise operations will be faster. <br>\n",
    "         ‘A’ means to read / write the elements in Fortran-like index order if,<br>\n",
    "         array is Fortran contiguous in memory, C-like order otherwise\n",
    "##### Return Type:\n",
    "Array which is reshaped without changing the data."
   ]
  },
  {
   "cell_type": "code",
   "execution_count": 95,
   "metadata": {},
   "outputs": [
    {
     "name": "stdout",
     "output_type": "stream",
     "text": [
      "Original array : \n",
      " [0 1 2 3 4 5 6 7]\n",
      "\n",
      "array reshaped with 2 rows and 4 columns : \n",
      " [[0 1 2 3]\n",
      " [4 5 6 7]]\n",
      "\n",
      "array reshaped with 4 rows and 2 columns : \n",
      " [[0 1]\n",
      " [2 3]\n",
      " [4 5]\n",
      " [6 7]]\n",
      "\n",
      "Original array reshaped to 3D : \n",
      " [[[0 1]\n",
      "  [2 3]]\n",
      "\n",
      " [[4 5]\n",
      "  [6 7]]]\n"
     ]
    }
   ],
   "source": [
    "# Python Program illustrating\n",
    "# numpy.reshape() method\n",
    "\n",
    "import numpy as geek\n",
    "\n",
    "# array = geek.arrange(8)\n",
    "# The 'numpy' module has no attribute 'arrange'\n",
    "array1 = geek.arange(8)\n",
    "print(\"Original array : \\n\", array1)\n",
    "\n",
    "# shape array with 2 rows and 4 columns\n",
    "array2 = geek.arange(8).reshape(2, 4)\n",
    "print(\"\\narray reshaped with 2 rows and 4 columns : \\n\",\n",
    "    array2)\n",
    "\n",
    "# shape array with 4 rows and 2 columns\n",
    "array3 = geek.arange(8).reshape(4, 2)\n",
    "print(\"\\narray reshaped with 4 rows and 2 columns : \\n\",\n",
    "    array3)\n",
    "\n",
    "# Constructs 3D array\n",
    "array4 = geek.arange(8).reshape(2, 2, 2)\n",
    "print(\"\\nOriginal array reshaped to 3D : \\n\",\n",
    "    array4)"
   ]
  },
  {
   "cell_type": "markdown",
   "metadata": {},
   "source": [
    "<h1 style= 'font-size:3rem'><u>Indexing</u></h1>"
   ]
  },
  {
   "cell_type": "markdown",
   "metadata": {},
   "source": [
    "Indexing in Python is a way to refer the individual items within an iterable by its position. In other words, you can directly access your elements of choice within an iterable and do various operations depending on your needs.\n",
    "In Python, objects are “zero-indexed” meaning the position count starts at zero. Many other programming languages follow the same pattern. In fact, many of you should be already familiar to it because of its internet popularity within meme culture.\n",
    "So, if there are 5 elements present within a list. Then the first element (i.e. the leftmost element) holds the “zeroth” place, followed by the elements in first, second, third, and fourth positions."
   ]
  },
  {
   "cell_type": "code",
   "execution_count": 1,
   "metadata": {},
   "outputs": [
    {
     "name": "stdout",
     "output_type": "stream",
     "text": [
      "Index of Apple:  0\n",
      "Index of Banana:  4\n"
     ]
    }
   ],
   "source": [
    "fruits = [\"apple\", \"grape\", \"orange\", \"guava\", \"banana\"]\n",
    " \n",
    "#Printing out the indexes of Apples and Banana\n",
    "print(\"Index of Apple: \", fruits.index(\"apple\"))\n",
    "print(\"Index of Banana: \", fruits.index(\"banana\"))"
   ]
  },
  {
   "cell_type": "markdown",
   "metadata": {},
   "source": [
    "The index of a specific item within a list can be revealed when the index() method is called on the list with the item name passed as an argument."
   ]
  },
  {
   "cell_type": "markdown",
   "metadata": {},
   "source": [
    "<h1 style= 'font-size:3rem'><u>Array Sclicing</u></h1>"
   ]
  },
  {
   "cell_type": "markdown",
   "metadata": {},
   "source": [
    "Multiple values stored within an array can be accessed simultaneously with array slicing. To pull out a section or slice of an array, the colon operator : is used when calling the index. The general form is:<br>\n",
    "< slice > = < array >[start:stop]<br><br>\n",
    "Where <slice> is the slice or section of the array object <array>. The index of the slice is specified in [start:stop]. Remember Python counting starts at 0 and ends at n-1. The index [0:2] pulls the first two values out of an array. The index [1:3] pulls the second and third values out of an array.\n",
    "## Examples:"
   ]
  },
  {
   "cell_type": "code",
   "execution_count": 2,
   "metadata": {},
   "outputs": [
    {
     "name": "stdout",
     "output_type": "stream",
     "text": [
      "[2 4]\n"
     ]
    }
   ],
   "source": [
    "import numpy as np\n",
    "a = np.array([2, 4, 6])\n",
    "b = a[0:2]\n",
    "print(b)"
   ]
  },
  {
   "cell_type": "markdown",
   "metadata": {},
   "source": [
    "On either sides of the colon, a blank stands for \"default\".<br>\n",
    "[:2] corresponds to [start=default:stop=2]<br>\n",
    "[1:] corresponds to [start=1:stop=default]<br>\n",
    "Therefore, the slicing operation [:2] pulls out the first and second values in an array. The slicing operation [1:] pull out the second through the last values in an array.<br>\n",
    "The example below illustrates the default stop value is the last value in the array."
   ]
  },
  {
   "cell_type": "code",
   "execution_count": 3,
   "metadata": {},
   "outputs": [
    {
     "name": "stdout",
     "output_type": "stream",
     "text": [
      "[2 4 6 8]\n",
      "[4 6 8]\n"
     ]
    }
   ],
   "source": [
    "import numpy as np\n",
    "a = np.array([2, 4, 6, 8])\n",
    "print(a)\n",
    "b = a[1:]\n",
    "print(b)"
   ]
  },
  {
   "cell_type": "code",
   "execution_count": 4,
   "metadata": {},
   "outputs": [
    {
     "name": "stdout",
     "output_type": "stream",
     "text": [
      "[2 4 6 8]\n",
      "[2 4 6]\n"
     ]
    }
   ],
   "source": [
    "import numpy as np\n",
    "a = np.array([2, 4, 6, 8])\n",
    "print(a)\n",
    "b = a[:3]\n",
    "print(b)"
   ]
  },
  {
   "cell_type": "code",
   "execution_count": 5,
   "metadata": {},
   "outputs": [
    {
     "name": "stdout",
     "output_type": "stream",
     "text": [
      "[2 4 6 8]\n",
      "[2 4 6 8]\n",
      "[2 4 6 8]\n",
      "[2 4 6 8]\n"
     ]
    }
   ],
   "source": [
    "import numpy as np\n",
    "\n",
    "a = np.array([2, 4, 6, 8])\n",
    "b = a[0:4]\n",
    "print(b)\n",
    "c = a[:4]\n",
    "print(c)\n",
    "d = a[0:]\n",
    "print(d)\n",
    "e = a[:]\n",
    "print(e)"
   ]
  },
  {
   "cell_type": "markdown",
   "metadata": {},
   "source": [
    "<h1 style= 'font-size:3rem'><u>Numpy Operations</u></h1>"
   ]
  },
  {
   "cell_type": "markdown",
   "metadata": {},
   "source": [
    "NumPy is a Python package which means ‘Numerical Python’. It is the library for logical computing, which contains a powerful n-dimensional array object, gives tools to integrate C, C++ and so on. It is likewise helpful in linear based math, arbitrary number capacity and so on. NumPy exhibits can likewise be utilized as an effective multi-dimensional compartment for generic data. NumPy Array: Numpy array is a powerful N-dimensional array object which is in the form of rows and columns. We can initialize NumPy arrays from nested Python lists and access it elements. A Numpy array on a structural level is made up of a combination of:\n",
    "<ul>The Data pointer indicates the memory address of the first byte in the array.</ul>\n",
    "<ul>The Data type or dtype pointer describes the kind of elements that are contained within the array.</ul>\n",
    "<ul>The shape indicates the shape of the array.</ul>\n",
    "<ul>The strides are the number of bytes that should be skipped in memory to go to the next element.</ul>\n",
    "\n",
    "# Operations on Numpy Array\n",
    "## Arithmetic Operations: "
   ]
  },
  {
   "cell_type": "code",
   "execution_count": 6,
   "metadata": {},
   "outputs": [
    {
     "name": "stdout",
     "output_type": "stream",
     "text": [
      "First array:\n",
      "[[0. 1.]\n",
      " [2. 3.]]\n",
      "\n",
      "Second array:\n",
      "[12 12]\n",
      "\n",
      "Adding the two arrays:\n",
      "[[12. 13.]\n",
      " [14. 15.]]\n",
      "\n",
      "Subtracting the two arrays:\n",
      "[[-12. -11.]\n",
      " [-10.  -9.]]\n",
      "\n",
      "Multiplying the two arrays:\n",
      "[[ 0. 12.]\n",
      " [24. 36.]]\n",
      "\n",
      "Dividing the two arrays:\n",
      "[[0.         0.08333333]\n",
      " [0.16666667 0.25      ]]\n"
     ]
    }
   ],
   "source": [
    "# Python code to perform arithmetic\n",
    "# operations on NumPy array\n",
    "\n",
    "\n",
    "import numpy as np\n",
    "\n",
    "\n",
    "# Initializing the array\n",
    "arr1 = np.arange(4, dtype = np.float_).reshape(2, 2)\n",
    "\n",
    "print('First array:')\n",
    "print(arr1)\n",
    "\n",
    "print('\\nSecond array:')\n",
    "arr2 = np.array([12, 12])\n",
    "print(arr2)\n",
    "\n",
    "print('\\nAdding the two arrays:')\n",
    "print(np.add(arr1, arr2))\n",
    "\n",
    "print('\\nSubtracting the two arrays:')\n",
    "print(np.subtract(arr1, arr2))\n",
    "\n",
    "print('\\nMultiplying the two arrays:')\n",
    "print(np.multiply(arr1, arr2))\n",
    "\n",
    "print('\\nDividing the two arrays:')\n",
    "print(np.divide(arr1, arr2))"
   ]
  },
  {
   "cell_type": "markdown",
   "metadata": {},
   "source": [
    "numpy.reciprocal() This function returns the reciprocal of argument, element-wise. For elements with absolute values larger than 1, the result is always 0 and for integer 0, overflow warning is issued. Example: "
   ]
  },
  {
   "cell_type": "code",
   "execution_count": 7,
   "metadata": {},
   "outputs": [
    {
     "name": "stdout",
     "output_type": "stream",
     "text": [
      "Our array is:\n",
      "[ 25.     1.33   1.     1.   100.  ]\n",
      "\n",
      "After applying reciprocal function:\n",
      "[0.04      0.7518797 1.        1.        0.01     ]\n",
      "\n",
      "The second array is:\n",
      "[25]\n",
      "\n",
      "After applying reciprocal function:\n",
      "[0]\n"
     ]
    }
   ],
   "source": [
    "# Python code to perform reciprocal operation\n",
    "# on NumPy array\n",
    "import numpy as np\n",
    "arr = np.array([25, 1.33, 1, 1, 100])\n",
    "\n",
    "print('Our array is:')\n",
    "print(arr)\n",
    "\n",
    "print('\\nAfter applying reciprocal function:')\n",
    "print(np.reciprocal(arr))\n",
    "\n",
    "arr2 = np.array([25], dtype = int)\n",
    "print('\\nThe second array is:')\n",
    "print(arr2)\n",
    "\n",
    "print('\\nAfter applying reciprocal function:')\n",
    "print(np.reciprocal(arr2))\n"
   ]
  },
  {
   "cell_type": "markdown",
   "metadata": {},
   "source": [
    "numpy.power() This function treats elements in the first input array as the base and returns it raised to the power of the corresponding element in the second input array. "
   ]
  },
  {
   "cell_type": "code",
   "execution_count": 8,
   "metadata": {},
   "outputs": [
    {
     "name": "stdout",
     "output_type": "stream",
     "text": [
      "First array is:\n",
      "[ 5 10 15]\n",
      "\n",
      "Applying power function:\n",
      "[ 25 100 225]\n",
      "\n",
      "Second array is:\n",
      "[1 2 3]\n",
      "\n",
      "Applying power function again:\n",
      "[   5  100 3375]\n"
     ]
    }
   ],
   "source": [
    "# Python code to perform power operation\n",
    "# on NumPy array\n",
    "\n",
    "\n",
    "import numpy as np\n",
    "\n",
    "\n",
    "arr = np.array([5, 10, 15])\n",
    "\n",
    "print('First array is:')\n",
    "print(arr)\n",
    "\n",
    "print('\\nApplying power function:')\n",
    "print(np.power(arr, 2))\n",
    "\n",
    "print('\\nSecond array is:')\n",
    "arr1 = np.array([1, 2, 3])\n",
    "print(arr1)\n",
    "\n",
    "print('\\nApplying power function again:')\n",
    "print(np.power(arr, arr1))"
   ]
  },
  {
   "cell_type": "markdown",
   "metadata": {},
   "source": [
    "numpy.mod() This function returns the remainder of division of the corresponding elements in the input array. The function numpy.remainder() also produces the same result. "
   ]
  },
  {
   "cell_type": "code",
   "execution_count": 9,
   "metadata": {},
   "outputs": [
    {
     "name": "stdout",
     "output_type": "stream",
     "text": [
      "First array:\n",
      "[ 5 15 20]\n",
      "\n",
      "Second array:\n",
      "[2 5 9]\n",
      "\n",
      "Applying mod() function:\n",
      "[1 0 2]\n",
      "\n",
      "Applying remainder() function:\n",
      "[1 0 2]\n"
     ]
    }
   ],
   "source": [
    "# Python code to perform mod function\n",
    "# on NumPy array\n",
    "\n",
    "\n",
    "import numpy as np\n",
    "\n",
    "\n",
    "arr = np.array([5, 15, 20])\n",
    "arr1 = np.array([2, 5, 9])\n",
    "\n",
    "print('First array:')\n",
    "print(arr)\n",
    "\n",
    "print('\\nSecond array:')\n",
    "print(arr1)\n",
    "\n",
    "print('\\nApplying mod() function:')\n",
    "print(np.mod(arr, arr1))\n",
    "\n",
    "print('\\nApplying remainder() function:')\n",
    "print(np.remainder(arr, arr1))"
   ]
  },
  {
   "cell_type": "markdown",
   "metadata": {},
   "source": [
    "<h1 style= 'font-size:3rem'><u>Pandas Packages</u></h1>"
   ]
  },
  {
   "cell_type": "markdown",
   "metadata": {},
   "source": [
    "Pandas is an open-source library that is made mainly for working with relational or labeled data both easily and intuitively. It provides various data structures and operations for manipulating numerical data and time series. This library is built on top of the NumPy library. Pandas is fast and it has high performance & productivity for users.<br>\n",
    "Pandas are generally used for data science but have you wondered why? This is because pandas are used in conjunction with other libraries that are used for data science. It is built on the top of the NumPy library which means that a lot of structures of NumPy are used or replicated in Pandas. The data produced by Pandas are often used as input for plotting functions of Matplotlib, statistical analysis in SciPy, and machine learning algorithms in Scikit-learn.\n",
    "Pandas program can be run from any text editor but it is recommended to use Jupyter Notebook for this as Jupyter given the ability to execute code in a particular cell rather than executing the entire file. Jupyter also provides an easy way to visualize pandas data frames and plots."
   ]
  },
  {
   "cell_type": "code",
   "execution_count": 12,
   "metadata": {},
   "outputs": [
    {
     "name": "stdout",
     "output_type": "stream",
     "text": [
      "Empty DataFrame\n",
      "Columns: []\n",
      "Index: []\n",
      "        0\n",
      "0    This\n",
      "1      is\n",
      "2       a\n",
      "3    Test\n",
      "4     for\n",
      "5  Python\n"
     ]
    }
   ],
   "source": [
    "import pandas as pd\n",
    "\n",
    "# Calling DataFrame constructor\n",
    "df = pd.DataFrame()\n",
    "print(df)\n",
    "\n",
    "# list of strings\n",
    "lst = ['This', 'is', 'a', 'Test', 'for', 'Python']\n",
    "\n",
    "# Calling DataFrame constructor on list\n",
    "df = pd.DataFrame(lst)\n",
    "print(df)\n"
   ]
  },
  {
   "cell_type": "markdown",
   "metadata": {},
   "source": [
    "<h1 style= 'font-size:3rem'><u>Labelled Index and Data Series</u></h1>"
   ]
  },
  {
   "cell_type": "markdown",
   "metadata": {},
   "source": [
    "# Labelled Index\n",
    "#### Syntax:\n",
    "DataFrame.lookup(row_labels, col_labels)\n",
    "#### Parameters:\n",
    "row_labels – The row labels to use for lookup.\n",
    "col_labels – The column labels to use for lookup.\n",
    "#### Returns:\n",
    "numpy.ndarray\n",
    "## Example 1:"
   ]
  },
  {
   "cell_type": "code",
   "execution_count": 14,
   "metadata": {},
   "outputs": [
    {
     "data": {
      "text/html": [
       "<div>\n",
       "<style scoped>\n",
       "    .dataframe tbody tr th:only-of-type {\n",
       "        vertical-align: middle;\n",
       "    }\n",
       "\n",
       "    .dataframe tbody tr th {\n",
       "        vertical-align: top;\n",
       "    }\n",
       "\n",
       "    .dataframe thead th {\n",
       "        text-align: right;\n",
       "    }\n",
       "</style>\n",
       "<table border=\"1\" class=\"dataframe\">\n",
       "  <thead>\n",
       "    <tr style=\"text-align: right;\">\n",
       "      <th></th>\n",
       "      <th>Year</th>\n",
       "      <th>Alpha</th>\n",
       "      <th>x</th>\n",
       "      <th>y</th>\n",
       "      <th>z</th>\n",
       "      <th>v</th>\n",
       "    </tr>\n",
       "  </thead>\n",
       "  <tbody>\n",
       "    <tr>\n",
       "      <th>0</th>\n",
       "      <td>1993</td>\n",
       "      <td>x</td>\n",
       "      <td>5</td>\n",
       "      <td>4</td>\n",
       "      <td>7</td>\n",
       "      <td>2</td>\n",
       "    </tr>\n",
       "    <tr>\n",
       "      <th>1</th>\n",
       "      <td>1994</td>\n",
       "      <td>v</td>\n",
       "      <td>10</td>\n",
       "      <td>1</td>\n",
       "      <td>2</td>\n",
       "      <td>0</td>\n",
       "    </tr>\n",
       "    <tr>\n",
       "      <th>2</th>\n",
       "      <td>1995</td>\n",
       "      <td>z</td>\n",
       "      <td>2</td>\n",
       "      <td>1</td>\n",
       "      <td>4</td>\n",
       "      <td>12</td>\n",
       "    </tr>\n",
       "    <tr>\n",
       "      <th>3</th>\n",
       "      <td>1996</td>\n",
       "      <td>y</td>\n",
       "      <td>2</td>\n",
       "      <td>1</td>\n",
       "      <td>10</td>\n",
       "      <td>1</td>\n",
       "    </tr>\n",
       "    <tr>\n",
       "      <th>4</th>\n",
       "      <td>1998</td>\n",
       "      <td>x</td>\n",
       "      <td>2</td>\n",
       "      <td>10</td>\n",
       "      <td>40</td>\n",
       "      <td>12</td>\n",
       "    </tr>\n",
       "    <tr>\n",
       "      <th>5</th>\n",
       "      <td>1999</td>\n",
       "      <td>x</td>\n",
       "      <td>5</td>\n",
       "      <td>8</td>\n",
       "      <td>11</td>\n",
       "      <td>6</td>\n",
       "    </tr>\n",
       "  </tbody>\n",
       "</table>\n",
       "</div>"
      ],
      "text/plain": [
       "   Year Alpha   x   y   z   v\n",
       "0  1993     x   5   4   7   2\n",
       "1  1994     v  10   1   2   0\n",
       "2  1995     z   2   1   4  12\n",
       "3  1996     y   2   1  10   1\n",
       "4  1998     x   2  10  40  12\n",
       "5  1999     x   5   8  11   6"
      ]
     },
     "execution_count": 14,
     "metadata": {},
     "output_type": "execute_result"
    }
   ],
   "source": [
    "# importing pandas library\n",
    "import pandas as pd\n",
    "\n",
    "# Creating a Data frame\n",
    "df = pd.DataFrame([\n",
    "    ['1993', 'x', 5, 4, 7, 2],\n",
    "    ['1994', 'v', 10, 1, 2, 0],\n",
    "    ['1995', 'z', 2, 1, 4, 12],\n",
    "    ['1996', 'y', 2, 1, 10, 1],\n",
    "    ['1998', 'x', 2, 10, 40, 12],\n",
    "    ['1999', 'x', 5, 8, 11, 6]],\n",
    "    columns=('Year', 'Alpha', 'x', 'y', 'z', 'v'))\n",
    "\n",
    "# Display Data frame\n",
    "df"
   ]
  },
  {
   "cell_type": "code",
   "execution_count": 17,
   "metadata": {
    "scrolled": true
   },
   "outputs": [
    {
     "data": {
      "text/html": [
       "<div>\n",
       "<style scoped>\n",
       "    .dataframe tbody tr th:only-of-type {\n",
       "        vertical-align: middle;\n",
       "    }\n",
       "\n",
       "    .dataframe tbody tr th {\n",
       "        vertical-align: top;\n",
       "    }\n",
       "\n",
       "    .dataframe thead th {\n",
       "        text-align: right;\n",
       "    }\n",
       "</style>\n",
       "<table border=\"1\" class=\"dataframe\">\n",
       "  <thead>\n",
       "    <tr style=\"text-align: right;\">\n",
       "      <th></th>\n",
       "      <th>Patients</th>\n",
       "      <th>Name</th>\n",
       "      <th>Avi</th>\n",
       "      <th>Bob</th>\n",
       "      <th>Cathy</th>\n",
       "      <th>Aname</th>\n",
       "    </tr>\n",
       "  </thead>\n",
       "  <tbody>\n",
       "    <tr>\n",
       "      <th>0</th>\n",
       "      <td>1993</td>\n",
       "      <td>Avi</td>\n",
       "      <td>5</td>\n",
       "      <td>41</td>\n",
       "      <td>70</td>\n",
       "      <td>Bob</td>\n",
       "    </tr>\n",
       "    <tr>\n",
       "      <th>1</th>\n",
       "      <td>1994</td>\n",
       "      <td>Cathy</td>\n",
       "      <td>10</td>\n",
       "      <td>1</td>\n",
       "      <td>22</td>\n",
       "      <td>Cathy</td>\n",
       "    </tr>\n",
       "    <tr>\n",
       "      <th>2</th>\n",
       "      <td>1995</td>\n",
       "      <td>Cathy</td>\n",
       "      <td>24</td>\n",
       "      <td>11</td>\n",
       "      <td>44</td>\n",
       "      <td>Bob</td>\n",
       "    </tr>\n",
       "    <tr>\n",
       "      <th>3</th>\n",
       "      <td>1996</td>\n",
       "      <td>Bob</td>\n",
       "      <td>2</td>\n",
       "      <td>11</td>\n",
       "      <td>10</td>\n",
       "      <td>Avi</td>\n",
       "    </tr>\n",
       "    <tr>\n",
       "      <th>4</th>\n",
       "      <td>1998</td>\n",
       "      <td>Avi</td>\n",
       "      <td>20</td>\n",
       "      <td>10</td>\n",
       "      <td>40</td>\n",
       "      <td>Avi</td>\n",
       "    </tr>\n",
       "    <tr>\n",
       "      <th>5</th>\n",
       "      <td>1999</td>\n",
       "      <td>Avi</td>\n",
       "      <td>50</td>\n",
       "      <td>8</td>\n",
       "      <td>11</td>\n",
       "      <td>Cathy</td>\n",
       "    </tr>\n",
       "  </tbody>\n",
       "</table>\n",
       "</div>"
      ],
      "text/plain": [
       "  Patients   Name  Avi  Bob  Cathy  Aname\n",
       "0     1993    Avi    5   41     70    Bob\n",
       "1     1994  Cathy   10    1     22  Cathy\n",
       "2     1995  Cathy   24   11     44    Bob\n",
       "3     1996    Bob    2   11     10    Avi\n",
       "4     1998    Avi   20   10     40    Avi\n",
       "5     1999    Avi   50    8     11  Cathy"
      ]
     },
     "execution_count": 17,
     "metadata": {},
     "output_type": "execute_result"
    }
   ],
   "source": [
    "# importing pandas library\n",
    "import pandas as pd\n",
    "\n",
    "# Creating a Data frame\n",
    "df = pd.DataFrame([\n",
    "    ['1993', 'Avi', 5, 41, 70, 'Bob'],\n",
    "    ['1994', 'Cathy', 10, 1, 22, 'Cathy'],\n",
    "    ['1995', 'Cathy', 24, 11, 44, 'Bob'],\n",
    "    ['1996', 'Bob', 2, 11, 10, 'Avi'],\n",
    "    ['1998', 'Avi', 20, 10, 40, 'Avi'],\n",
    "    ['1999', 'Avi', 50, 8, 11, 'Cathy']],\n",
    "    columns=('Patients', 'Name', 'Avi', 'Bob', 'Cathy', 'Aname'))\n",
    "\n",
    "# Display Data frame\n",
    "df"
   ]
  },
  {
   "cell_type": "code",
   "execution_count": 19,
   "metadata": {},
   "outputs": [
    {
     "data": {
      "text/html": [
       "<div>\n",
       "<style scoped>\n",
       "    .dataframe tbody tr th:only-of-type {\n",
       "        vertical-align: middle;\n",
       "    }\n",
       "\n",
       "    .dataframe tbody tr th {\n",
       "        vertical-align: top;\n",
       "    }\n",
       "\n",
       "    .dataframe thead th {\n",
       "        text-align: right;\n",
       "    }\n",
       "</style>\n",
       "<table border=\"1\" class=\"dataframe\">\n",
       "  <thead>\n",
       "    <tr style=\"text-align: right;\">\n",
       "      <th></th>\n",
       "      <th>Year</th>\n",
       "      <th>Date1</th>\n",
       "      <th>Date2</th>\n",
       "      <th>Name</th>\n",
       "      <th>Avi</th>\n",
       "      <th>Bob</th>\n",
       "      <th>Cathy</th>\n",
       "      <th>Alpha</th>\n",
       "    </tr>\n",
       "  </thead>\n",
       "  <tbody>\n",
       "    <tr>\n",
       "      <th>0</th>\n",
       "      <td>Date1</td>\n",
       "      <td>1850</td>\n",
       "      <td>1992</td>\n",
       "      <td>Avi</td>\n",
       "      <td>5</td>\n",
       "      <td>41</td>\n",
       "      <td>70</td>\n",
       "      <td>Avi</td>\n",
       "    </tr>\n",
       "    <tr>\n",
       "      <th>1</th>\n",
       "      <td>Date2</td>\n",
       "      <td>1896</td>\n",
       "      <td>1950</td>\n",
       "      <td>Cathy</td>\n",
       "      <td>10</td>\n",
       "      <td>1</td>\n",
       "      <td>22</td>\n",
       "      <td>Avi</td>\n",
       "    </tr>\n",
       "    <tr>\n",
       "      <th>2</th>\n",
       "      <td>Date2</td>\n",
       "      <td>1900</td>\n",
       "      <td>1920</td>\n",
       "      <td>Cathy</td>\n",
       "      <td>24</td>\n",
       "      <td>11</td>\n",
       "      <td>44</td>\n",
       "      <td>Cathy</td>\n",
       "    </tr>\n",
       "    <tr>\n",
       "      <th>3</th>\n",
       "      <td>Date1</td>\n",
       "      <td>1889</td>\n",
       "      <td>1960</td>\n",
       "      <td>Bob</td>\n",
       "      <td>2</td>\n",
       "      <td>11</td>\n",
       "      <td>10</td>\n",
       "      <td>Bob</td>\n",
       "    </tr>\n",
       "    <tr>\n",
       "      <th>4</th>\n",
       "      <td>Date2</td>\n",
       "      <td>1910</td>\n",
       "      <td>1952</td>\n",
       "      <td>Avi</td>\n",
       "      <td>20</td>\n",
       "      <td>10</td>\n",
       "      <td>40</td>\n",
       "      <td>Bob</td>\n",
       "    </tr>\n",
       "    <tr>\n",
       "      <th>5</th>\n",
       "      <td>Date1</td>\n",
       "      <td>1999</td>\n",
       "      <td>1929</td>\n",
       "      <td>Avi</td>\n",
       "      <td>50</td>\n",
       "      <td>8</td>\n",
       "      <td>11</td>\n",
       "      <td>Cathy</td>\n",
       "    </tr>\n",
       "  </tbody>\n",
       "</table>\n",
       "</div>"
      ],
      "text/plain": [
       "    Year  Date1  Date2   Name  Avi  Bob  Cathy  Alpha\n",
       "0  Date1   1850   1992    Avi    5   41     70    Avi\n",
       "1  Date2   1896   1950  Cathy   10    1     22    Avi\n",
       "2  Date2   1900   1920  Cathy   24   11     44  Cathy\n",
       "3  Date1   1889   1960    Bob    2   11     10    Bob\n",
       "4  Date2   1910   1952    Avi   20   10     40    Bob\n",
       "5  Date1   1999   1929    Avi   50    8     11  Cathy"
      ]
     },
     "execution_count": 19,
     "metadata": {},
     "output_type": "execute_result"
    }
   ],
   "source": [
    "# importing pandas library\n",
    "import pandas as pd\n",
    "\n",
    "# Creating a Data frame\n",
    "df = pd.DataFrame([\n",
    "    ['Date1', 1850, 1992,'Avi', 5, 41, 70, 'Avi'],\n",
    "    ['Date2', 1896, 1950, 'Cathy', 10, 1, 22, 'Avi'],\n",
    "    ['Date2', 1900, 1920, 'Cathy', 24, 11, 44, 'Cathy'],\n",
    "    ['Date1', 1889, 1960, 'Bob', 2, 11, 10, 'Bob'],\n",
    "    ['Date2', 1910, 1952, 'Avi', 20, 10, 40, 'Bob'],\n",
    "    ['Date1', 1999, 1929, 'Avi', 50, 8, 11, 'Cathy']],\n",
    "    columns=('Year', 'Date1', 'Date2', 'Name', 'Avi','Bob', 'Cathy', 'Alpha'))\n",
    "\n",
    "# Display Data frame\n",
    "df"
   ]
  },
  {
   "cell_type": "markdown",
   "metadata": {},
   "source": [
    "# Data Series\n",
    "Series is a one-dimensional labeled array capable of holding data of any type (integer, string, float, python objects, etc.). The axis labels are collectively called index.\n",
    "## pandas.Series\n",
    "A pandas Series can be created using the following constructor −\n",
    "### Syntax\n",
    "pandas.Series( data, index, dtype, copy)\n",
    "### Examples"
   ]
  },
  {
   "cell_type": "code",
   "execution_count": 26,
   "metadata": {},
   "outputs": [
    {
     "name": "stdout",
     "output_type": "stream",
     "text": [
      "0    a\n",
      "1    b\n",
      "2    c\n",
      "3    d\n",
      "dtype: object\n"
     ]
    }
   ],
   "source": [
    "#import the pandas library and aliasing as pd\n",
    "import pandas as pd\n",
    "import numpy as np\n",
    "data = np.array(['a','b','c','d'])\n",
    "s = pd.Series(data)\n",
    "print (s)"
   ]
  },
  {
   "cell_type": "code",
   "execution_count": 27,
   "metadata": {},
   "outputs": [
    {
     "name": "stdout",
     "output_type": "stream",
     "text": [
      "100    a\n",
      "101    b\n",
      "102    c\n",
      "103    d\n",
      "dtype: object\n"
     ]
    }
   ],
   "source": [
    "#import the pandas library and aliasing as pd\n",
    "import pandas as pd\n",
    "import numpy as np\n",
    "data = np.array(['a','b','c','d'])\n",
    "s = pd.Series(data,index=[100,101,102,103])\n",
    "print (s)"
   ]
  },
  {
   "cell_type": "code",
   "execution_count": 28,
   "metadata": {},
   "outputs": [
    {
     "name": "stdout",
     "output_type": "stream",
     "text": [
      "a    0.0\n",
      "b    1.0\n",
      "c    2.0\n",
      "dtype: float64\n"
     ]
    }
   ],
   "source": [
    "#import the pandas library and aliasing as pd\n",
    "import pandas as pd\n",
    "import numpy as np\n",
    "data = {'a' : 0., 'b' : 1., 'c' : 2.}\n",
    "s = pd.Series(data)\n",
    "print (s)"
   ]
  },
  {
   "cell_type": "markdown",
   "metadata": {},
   "source": [
    "<h1 style= 'font-size:3rem'><u>Data Frames</u></h1>"
   ]
  },
  {
   "cell_type": "markdown",
   "metadata": {},
   "source": [
    "Pandas DataFrame is two-dimensional size-mutable, potentially heterogeneous tabular data structure with labeled axes (rows and columns). A Data frame is a two-dimensional data structure, i.e., data is aligned in a tabular fashion in rows and columns. Pandas DataFrame consists of three principal components, the data, rows, and columns.\n",
    "In the real world, a Pandas DataFrame will be created by loading the datasets from existing storage, storage can be SQL Database, CSV file, and Excel file. Pandas DataFrame can be created from the lists, dictionary, and from a list of dictionary etc. Dataframe can be created in different ways here are some ways by which we create a dataframe:\n",
    "##### Creating a dataframe using List: DataFrame can be created using a single list or a list of lists."
   ]
  },
  {
   "cell_type": "code",
   "execution_count": 30,
   "metadata": {},
   "outputs": [
    {
     "name": "stdout",
     "output_type": "stream",
     "text": [
      "        0\n",
      "0    This\n",
      "1      is\n",
      "2       a\n",
      "3    Test\n",
      "4     for\n",
      "5  Python\n"
     ]
    }
   ],
   "source": [
    "# import pandas as pd\n",
    "import pandas as pd\n",
    " \n",
    "# list of strings\n",
    "lst = ['This', 'is', 'a', 'Test', 'for', 'Python']\n",
    " \n",
    "# Calling DataFrame constructor on list\n",
    "df = pd.DataFrame(lst)\n",
    "print(df)"
   ]
  },
  {
   "cell_type": "markdown",
   "metadata": {},
   "source": [
    "##### Creating DataFrame from dict of ndarray/lists: \n",
    "To create DataFrame from dict of narray/list, all the narray must be of same length. If index is passed then the length index should be equal to the length of arrays. If no index is passed, then by default, index will be range(n) where n is the array length."
   ]
  },
  {
   "cell_type": "code",
   "execution_count": 31,
   "metadata": {},
   "outputs": [
    {
     "name": "stdout",
     "output_type": "stream",
     "text": [
      "    Name  Age\n",
      "0    Tom   20\n",
      "1   nick   21\n",
      "2  krish   19\n",
      "3   jack   18\n"
     ]
    }
   ],
   "source": [
    "# Python code demonstrate creating \n",
    "# DataFrame from dict narray / lists \n",
    "# By default addresses.\n",
    " \n",
    "import pandas as pd\n",
    " \n",
    "# intialise data of lists.\n",
    "data = {'Name':['Tom', 'nick', 'krish', 'jack'],\n",
    "        'Age':[20, 21, 19, 18]}\n",
    " \n",
    "# Create DataFrame\n",
    "df = pd.DataFrame(data)\n",
    " \n",
    "# Print the output.\n",
    "print(df)"
   ]
  },
  {
   "cell_type": "markdown",
   "metadata": {},
   "source": [
    "A Data frame is a two-dimensional data structure, i.e., data is aligned in a tabular fashion in rows and columns. We can perform basic operations on rows/columns like selecting, deleting, adding, and renaming.\n",
    "##### Column Selection:\n",
    "In Order to select a column in Pandas DataFrame, we can either access the columns by calling them by their columns name."
   ]
  },
  {
   "cell_type": "code",
   "execution_count": 32,
   "metadata": {},
   "outputs": [
    {
     "name": "stdout",
     "output_type": "stream",
     "text": [
      "     Name Qualification\n",
      "0     Tim           Msc\n",
      "1  Prince            MA\n",
      "2   David           MCA\n",
      "3  Michel           Phd\n"
     ]
    }
   ],
   "source": [
    "# Import pandas package\n",
    "import pandas as pd\n",
    " \n",
    "# Define a dictionary containing employee data\n",
    "data = {'Name':['Tim', 'Prince', 'David', 'Michel'],\n",
    "        'Age':[27, 24, 22, 32],\n",
    "        'Address':['New York', 'Florida', 'New Jersy', 'Queens'],\n",
    "        'Qualification':['Msc', 'MA', 'MCA', 'Phd']}\n",
    " \n",
    "# Convert the dictionary into DataFrame \n",
    "df = pd.DataFrame(data)\n",
    " \n",
    "# select two columns\n",
    "print(df[['Name', 'Qualification']])"
   ]
  },
  {
   "cell_type": "markdown",
   "metadata": {},
   "source": [
    "##### Row Selection:\n",
    "Pandas provide a unique method to retrieve rows from a Data frame. DataFrame.loc[] method is used to retrieve rows from Pandas DataFrame. Rows can also be selected by passing integer location to an iloc[] function."
   ]
  },
  {
   "cell_type": "markdown",
   "metadata": {},
   "source": [
    "###### Code\n",
    "#importing pandas package<br>\n",
    "import pandas as pd<br>\n",
    " \n",
    "#making data frame from csv file<br>\n",
    "data = pd.read_csv(\"nba.csv\", index_col =\"Name\")<br>\n",
    " \n",
    "#retrieving row by loc method<br>\n",
    "first = data.loc[\"Avery Bradley\"]<br>\n",
    "second = data.loc[\"R.J. Hunter\"]<br>\n",
    " \n",
    "print(first, \"\\n\\n\\n\", second)<br>"
   ]
  },
  {
   "cell_type": "markdown",
   "metadata": {},
   "source": [
    "<h1 style= 'font-size:3rem'><u>Spreadsheet style Data Frames</u></h1>"
   ]
  },
  {
   "cell_type": "markdown",
   "metadata": {},
   "source": [
    "Styler.to_excel(excel_writer, sheet_name='Sheet1', na_rep='', float_format=None, columns=None, header=True, index=True, index_label=None, startrow=0, startcol=0, engine=None, merge_cells=True, encoding=None, inf_rep='inf', verbose=True, freeze_panes=None, storage_options=None)<br>\n",
    "Write Styler to an Excel sheet.\n",
    "To write a single Styler to an Excel .xlsx file it is only necessary to specify a target file name. To write to multiple sheets it is necessary to create an ExcelWriter object with a target file name, and specify a sheet in the file to write to.\n",
    "Multiple sheets may be written to by specifying unique sheet_name. With all data written to the file it is necessary to save the changes. Note that creating an ExcelWriter object with a file name that already exists will result in the contents of the existing file being erased.<br><br>\n",
    "### Parameters\n",
    "##### excel_writerpath-like, file-like, or ExcelWriter object\n",
    "File path or existing ExcelWriter.\n",
    "##### sheet_namestr : str, default ‘Sheet1’\n",
    "Name of sheet which will contain DataFrame.\n",
    "##### na_repstr: default ‘’\n",
    "Missing data representation.\n",
    "##### float_formatstr:optional\n",
    "Format string for floating point numbers. For example float_format=\"%.2f\" will format 0.1234 to 0.12.\n",
    "##### columns:sequence or list of str, optional\n",
    "Columns to write.\n",
    "##### header:bool or list of str, default True\n",
    "Write out the column names. If a list of string is given it is assumed to be aliases for the column names.\n",
    "##### indexbool: default True\n",
    "Write row names (index).\n",
    "##### index_label:str or sequence, optional\n",
    "Column label for index column(s) if desired. If not specified, and header and index are True, then the index names are used. A sequence should be given if the DataFrame uses MultiIndex.\n",
    "##### startrow:int, default 0\n",
    "Upper left cell row to dump data frame.\n",
    "##### startcol:int, default 0\n",
    "Upper left cell column to dump data frame.\n",
    "##### engine:str, optional\n",
    "Write engine to use, ‘openpyxl’ or ‘xlsxwriter’. You can also set this via the options io.excel.xlsx.writer, io.excel.xls.writer, and io.excel.xlsm.writer.\n",
    "##### merge_cells:bool, default True\n",
    "Write MultiIndex and Hierarchical Rows as merged cells.\n",
    "##### encoding:str, optional\n",
    "Encoding of the resulting excel file. Only necessary for xlwt, other writers support unicode natively.\n",
    "##### inf_rep:str, default ‘inf’\n",
    "Representation for infinity (there is no native representation for infinity in Excel).\n",
    "##### verbose:bool, default True\n",
    "Display more information in the error logs.\n",
    "##### freeze_panes:tuple of int (length 2), optional\n",
    "Specifies the one-based bottommost row and rightmost column that is to be frozen.\n",
    "##### storage_options:dict, optional\n",
    "Extra options that make sense for a particular storage connection, e.g. host, port, username, password, etc. For HTTP(S) URLs the key-value pairs are forwarded to urllib.request.Request as header options. For other URLs (e.g. starting with “s3://”, and “gcs://”) the key-value pairs are forwarded to fsspec.open."
   ]
  },
  {
   "cell_type": "code",
   "execution_count": 36,
   "metadata": {},
   "outputs": [],
   "source": [
    "df1 = pd.DataFrame([['a', 'b'], ['c', 'd']],\n",
    "                   index=['row 1', 'row 2'],\n",
    "                   columns=['col 1', 'col 2'])\n",
    "df1.to_excel(\"output.xlsx\") "
   ]
  },
  {
   "cell_type": "code",
   "execution_count": 40,
   "metadata": {},
   "outputs": [],
   "source": [
    "df1.to_excel(\"output.xlsx\",\n",
    "             sheet_name='Sheet_name_1')  "
   ]
  },
  {
   "cell_type": "code",
   "execution_count": 41,
   "metadata": {},
   "outputs": [],
   "source": [
    "df2 = df1.copy()\n",
    "with pd.ExcelWriter('output.xlsx') as writer:  \n",
    "    df1.to_excel(writer, sheet_name='Sheet_name_1')\n",
    "    df2.to_excel(writer, sheet_name='Sheet_name_2')"
   ]
  },
  {
   "cell_type": "code",
   "execution_count": 42,
   "metadata": {},
   "outputs": [
    {
     "ename": "ValueError",
     "evalue": "Append mode is not supported with xlsxwriter!",
     "output_type": "error",
     "traceback": [
      "\u001b[1;31m---------------------------------------------------------------------------\u001b[0m",
      "\u001b[1;31mValueError\u001b[0m                                Traceback (most recent call last)",
      "\u001b[1;32m~\\AppData\\Local\\Temp\\ipykernel_876\\4177647832.py\u001b[0m in \u001b[0;36m<module>\u001b[1;34m\u001b[0m\n\u001b[1;32m----> 1\u001b[1;33m with pd.ExcelWriter('output.xlsx',\n\u001b[0m\u001b[0;32m      2\u001b[0m                     mode='a') as writer:  \n\u001b[0;32m      3\u001b[0m     \u001b[0mdf\u001b[0m\u001b[1;33m.\u001b[0m\u001b[0mto_excel\u001b[0m\u001b[1;33m(\u001b[0m\u001b[0mwriter\u001b[0m\u001b[1;33m,\u001b[0m \u001b[0msheet_name\u001b[0m\u001b[1;33m=\u001b[0m\u001b[1;34m'Sheet_name_3'\u001b[0m\u001b[1;33m)\u001b[0m\u001b[1;33m\u001b[0m\u001b[1;33m\u001b[0m\u001b[0m\n",
      "\u001b[1;32m~\\anaconda3\\lib\\site-packages\\pandas\\io\\excel\\_xlsxwriter.py\u001b[0m in \u001b[0;36m__init__\u001b[1;34m(self, path, engine, date_format, datetime_format, mode, storage_options, if_sheet_exists, engine_kwargs, **kwargs)\u001b[0m\n\u001b[0;32m    187\u001b[0m \u001b[1;33m\u001b[0m\u001b[0m\n\u001b[0;32m    188\u001b[0m         \u001b[1;32mif\u001b[0m \u001b[0mmode\u001b[0m \u001b[1;33m==\u001b[0m \u001b[1;34m\"a\"\u001b[0m\u001b[1;33m:\u001b[0m\u001b[1;33m\u001b[0m\u001b[1;33m\u001b[0m\u001b[0m\n\u001b[1;32m--> 189\u001b[1;33m             \u001b[1;32mraise\u001b[0m \u001b[0mValueError\u001b[0m\u001b[1;33m(\u001b[0m\u001b[1;34m\"Append mode is not supported with xlsxwriter!\"\u001b[0m\u001b[1;33m)\u001b[0m\u001b[1;33m\u001b[0m\u001b[1;33m\u001b[0m\u001b[0m\n\u001b[0m\u001b[0;32m    190\u001b[0m \u001b[1;33m\u001b[0m\u001b[0m\n\u001b[0;32m    191\u001b[0m         super().__init__(\n",
      "\u001b[1;31mValueError\u001b[0m: Append mode is not supported with xlsxwriter!"
     ]
    }
   ],
   "source": [
    "with pd.ExcelWriter('output.xlsx',\n",
    "                    mode='a') as writer:  \n",
    "    df.to_excel(writer, sheet_name='Sheet_name_3')"
   ]
  },
  {
   "cell_type": "code",
   "execution_count": 43,
   "metadata": {},
   "outputs": [],
   "source": [
    "df1.to_excel('output1.xlsx', engine='xlsxwriter')  "
   ]
  },
  {
   "cell_type": "markdown",
   "metadata": {},
   "source": [
    "<h1 style= 'font-size:3rem'><u>Types of DataFrame Operations</u></h1>"
   ]
  },
  {
   "cell_type": "markdown",
   "metadata": {},
   "source": [
    "In the field of Data Science, the most important thing is to prepare the data or clean the data for further model building, data exploration, or data visualization, etc. For this Pandas is a very powerful library in python because it has a lot of inbuilt functions. In this article, I will cover a complete guide to a pandas data frame with a lot of examples and implementations i.e how to clean the data in the easiest way with fewer efforts."
   ]
  },
  {
   "cell_type": "markdown",
   "metadata": {},
   "source": [
    "<h1 style= 'font-size:3rem'><u>Operators and DataFrames</u></h1>"
   ]
  },
  {
   "cell_type": "markdown",
   "metadata": {},
   "source": [
    "Python Operators in general are used to perform operations on values and variables. These are standard symbols used for the purpose of logical and arithmetic operations. In this article, we will look into different types of Python operators. \n",
    "#### OPERATORS: \n",
    "Pandas provides three operators: & for logical AND, | for logical OR, and\n",
    "####  DataFrames\n",
    "Use the & operator to index a pandas DataFrame Index multiple columns of a DataFrame against a conditional to convert each element to a boolean value. Use the & operator to take an element-wise and of the resulting DataFrames to return a boolean DataFrame to be used for indexing."
   ]
  },
  {
   "cell_type": "markdown",
   "metadata": {},
   "source": [
    "<h1 style= 'font-size:3rem'><u>Conversion of other data structures to DataFrames</u></h1>"
   ]
  },
  {
   "cell_type": "markdown",
   "metadata": {},
   "source": [
    "Python is a great language for doing data analysis, primarily because of the fantastic ecosystem of data-centric python packages. Pandas is one of those packages and makes importing and analyzing data much easier. In this article, we are using “nba.csv” file to download the CSV.\n",
    "### Cast a pandas object to a specified dtype\n",
    "DataFrame.astype() function is used to cast a pandas object to a specified dtype. astype() function also provides the capability to convert any suitable existing column to categorical type."
   ]
  },
  {
   "cell_type": "markdown",
   "metadata": {},
   "source": [
    "#importing pandas as pd<br>\n",
    "import pandas as pd<br>\n",
    "\n",
    "#Making data frame from the csv file<br>\n",
    "df = pd.read_csv(\"nba.csv\")<br>\n",
    "\n",
    "#Printing the first 10 rows of<br>\n",
    "#the data frame for visualization## Importing Data<br>\n",
    "\n",
    "df[:10]<br>"
   ]
  },
  {
   "cell_type": "markdown",
   "metadata": {},
   "source": [
    "<h1 style= 'font-size:3rem'><u>Missing Data NaN Values</u></h1>"
   ]
  },
  {
   "cell_type": "markdown",
   "metadata": {},
   "source": [
    "As data comes in many shapes and forms, pandas aims to be flexible with regard to handling missing data. While NaN is the default missing value marker for reasons of computational speed and convenience, we need to be able to easily detect this value with data of different types: floating point, integer, boolean, and general object. In many cases, however, the Python None will arise and we wish to also consider that “missing” or “not available” or “NA”."
   ]
  },
  {
   "cell_type": "code",
   "execution_count": 4,
   "metadata": {},
   "outputs": [
    {
     "data": {
      "text/html": [
       "<div>\n",
       "<style scoped>\n",
       "    .dataframe tbody tr th:only-of-type {\n",
       "        vertical-align: middle;\n",
       "    }\n",
       "\n",
       "    .dataframe tbody tr th {\n",
       "        vertical-align: top;\n",
       "    }\n",
       "\n",
       "    .dataframe thead th {\n",
       "        text-align: right;\n",
       "    }\n",
       "</style>\n",
       "<table border=\"1\" class=\"dataframe\">\n",
       "  <thead>\n",
       "    <tr style=\"text-align: right;\">\n",
       "      <th></th>\n",
       "      <th>one</th>\n",
       "      <th>two</th>\n",
       "      <th>three</th>\n",
       "      <th>four</th>\n",
       "      <th>five</th>\n",
       "    </tr>\n",
       "  </thead>\n",
       "  <tbody>\n",
       "    <tr>\n",
       "      <th>a</th>\n",
       "      <td>-0.093442</td>\n",
       "      <td>-0.820775</td>\n",
       "      <td>-1.261958</td>\n",
       "      <td>bar</td>\n",
       "      <td>False</td>\n",
       "    </tr>\n",
       "    <tr>\n",
       "      <th>b</th>\n",
       "      <td>NaN</td>\n",
       "      <td>NaN</td>\n",
       "      <td>NaN</td>\n",
       "      <td>NaN</td>\n",
       "      <td>NaN</td>\n",
       "    </tr>\n",
       "    <tr>\n",
       "      <th>c</th>\n",
       "      <td>0.104945</td>\n",
       "      <td>-0.495552</td>\n",
       "      <td>0.072178</td>\n",
       "      <td>bar</td>\n",
       "      <td>True</td>\n",
       "    </tr>\n",
       "    <tr>\n",
       "      <th>d</th>\n",
       "      <td>NaN</td>\n",
       "      <td>NaN</td>\n",
       "      <td>NaN</td>\n",
       "      <td>NaN</td>\n",
       "      <td>NaN</td>\n",
       "    </tr>\n",
       "    <tr>\n",
       "      <th>e</th>\n",
       "      <td>0.314932</td>\n",
       "      <td>0.719830</td>\n",
       "      <td>-1.012791</td>\n",
       "      <td>bar</td>\n",
       "      <td>True</td>\n",
       "    </tr>\n",
       "    <tr>\n",
       "      <th>f</th>\n",
       "      <td>1.250936</td>\n",
       "      <td>-0.611097</td>\n",
       "      <td>-2.506333</td>\n",
       "      <td>bar</td>\n",
       "      <td>True</td>\n",
       "    </tr>\n",
       "    <tr>\n",
       "      <th>g</th>\n",
       "      <td>NaN</td>\n",
       "      <td>NaN</td>\n",
       "      <td>NaN</td>\n",
       "      <td>NaN</td>\n",
       "      <td>NaN</td>\n",
       "    </tr>\n",
       "    <tr>\n",
       "      <th>h</th>\n",
       "      <td>-0.612730</td>\n",
       "      <td>-0.932314</td>\n",
       "      <td>-0.628913</td>\n",
       "      <td>bar</td>\n",
       "      <td>False</td>\n",
       "    </tr>\n",
       "  </tbody>\n",
       "</table>\n",
       "</div>"
      ],
      "text/plain": [
       "        one       two     three four   five\n",
       "a -0.093442 -0.820775 -1.261958  bar  False\n",
       "b       NaN       NaN       NaN  NaN    NaN\n",
       "c  0.104945 -0.495552  0.072178  bar   True\n",
       "d       NaN       NaN       NaN  NaN    NaN\n",
       "e  0.314932  0.719830 -1.012791  bar   True\n",
       "f  1.250936 -0.611097 -2.506333  bar   True\n",
       "g       NaN       NaN       NaN  NaN    NaN\n",
       "h -0.612730 -0.932314 -0.628913  bar  False"
      ]
     },
     "execution_count": 4,
     "metadata": {},
     "output_type": "execute_result"
    }
   ],
   "source": [
    "import numpy as np\n",
    "df = pd.DataFrame(\n",
    "    np.random.randn(5, 3),\n",
    "    index=[\"a\", \"c\", \"e\", \"f\", \"h\"],\n",
    "    columns=[\"one\", \"two\", \"three\"],\n",
    ")\n",
    "\n",
    "\n",
    "df[\"four\"] = \"bar\"\n",
    "\n",
    "df[\"five\"] = df[\"one\"] > 0\n",
    "\n",
    "df\n",
    "\n",
    "df2 = df.reindex([\"a\", \"b\", \"c\", \"d\", \"e\", \"f\", \"g\", \"h\"])\n",
    "df2"
   ]
  },
  {
   "cell_type": "code",
   "execution_count": 5,
   "metadata": {},
   "outputs": [
    {
     "data": {
      "text/plain": [
       "False"
      ]
     },
     "execution_count": 5,
     "metadata": {},
     "output_type": "execute_result"
    }
   ],
   "source": [
    "None == None  # noqa: E711\n",
    "\n",
    "\n",
    "np.nan == np.nan"
   ]
  },
  {
   "cell_type": "code",
   "execution_count": 6,
   "metadata": {},
   "outputs": [
    {
     "data": {
      "text/plain": [
       "a    False\n",
       "b    False\n",
       "c    False\n",
       "d    False\n",
       "e    False\n",
       "f    False\n",
       "g    False\n",
       "h    False\n",
       "Name: one, dtype: bool"
      ]
     },
     "execution_count": 6,
     "metadata": {},
     "output_type": "execute_result"
    }
   ],
   "source": [
    "df2[\"one\"] == np.nan"
   ]
  },
  {
   "cell_type": "markdown",
   "metadata": {},
   "source": [
    "### Integer dtypes and missing data\n",
    "Because NaN is a float, a column of integers with even one missing values is cast to floating-point dtype (see Support for integer NA for more). pandas provides a nullable integer array, which can be used by explicitly requesting the dtype:"
   ]
  },
  {
   "cell_type": "code",
   "execution_count": 7,
   "metadata": {},
   "outputs": [
    {
     "data": {
      "text/plain": [
       "0       1\n",
       "1       2\n",
       "2    <NA>\n",
       "3       4\n",
       "dtype: Int64"
      ]
     },
     "execution_count": 7,
     "metadata": {},
     "output_type": "execute_result"
    }
   ],
   "source": [
    "pd.Series([1, 2, np.nan, 4], dtype=pd.Int64Dtype())"
   ]
  },
  {
   "cell_type": "markdown",
   "metadata": {},
   "source": [
    "<h1 style= 'font-size:3rem'><u>Dropna and Fillna Functions</u></h1>"
   ]
  },
  {
   "cell_type": "markdown",
   "metadata": {},
   "source": [
    "# Fillna\n",
    "In many cases, you will want to replace missing values in a Pandas DataFrame instead of dropping it completely. The fillna method is designed for this."
   ]
  },
  {
   "cell_type": "code",
   "execution_count": 9,
   "metadata": {},
   "outputs": [
    {
     "data": {
      "text/html": [
       "<div>\n",
       "<style scoped>\n",
       "    .dataframe tbody tr th:only-of-type {\n",
       "        vertical-align: middle;\n",
       "    }\n",
       "\n",
       "    .dataframe tbody tr th {\n",
       "        vertical-align: top;\n",
       "    }\n",
       "\n",
       "    .dataframe thead th {\n",
       "        text-align: right;\n",
       "    }\n",
       "</style>\n",
       "<table border=\"1\" class=\"dataframe\">\n",
       "  <thead>\n",
       "    <tr style=\"text-align: right;\">\n",
       "      <th></th>\n",
       "      <th>Q</th>\n",
       "      <th>Z</th>\n",
       "      <th>H</th>\n",
       "    </tr>\n",
       "  </thead>\n",
       "  <tbody>\n",
       "    <tr>\n",
       "      <th>0</th>\n",
       "      <td>1.0</td>\n",
       "      <td>6.0</td>\n",
       "      <td>2.0</td>\n",
       "    </tr>\n",
       "    <tr>\n",
       "      <th>1</th>\n",
       "      <td>2.0</td>\n",
       "      <td>NaN</td>\n",
       "      <td>1.0</td>\n",
       "    </tr>\n",
       "    <tr>\n",
       "      <th>2</th>\n",
       "      <td>NaN</td>\n",
       "      <td>NaN</td>\n",
       "      <td>9.0</td>\n",
       "    </tr>\n",
       "  </tbody>\n",
       "</table>\n",
       "</div>"
      ],
      "text/plain": [
       "     Q    Z    H\n",
       "0  1.0  6.0  2.0\n",
       "1  2.0  NaN  1.0\n",
       "2  NaN  NaN  9.0"
      ]
     },
     "execution_count": 9,
     "metadata": {},
     "output_type": "execute_result"
    }
   ],
   "source": [
    "import numpy as np\n",
    "import pandas as pd\n",
    "df = pd.DataFrame(np.array([[1, 6, 2],[2, np.nan, 1],[np.nan, np.nan, 9]]))\n",
    "df.columns = ['Q', 'Z', 'H']\n",
    "df"
   ]
  },
  {
   "cell_type": "markdown",
   "metadata": {},
   "source": [
    "# Pandas\n",
    "Pandas has a built-in method called dropna. When applied against a DataFrame, the dropna method will remove any rows that contain a NaN value."
   ]
  },
  {
   "cell_type": "code",
   "execution_count": 10,
   "metadata": {},
   "outputs": [
    {
     "data": {
      "text/html": [
       "<div>\n",
       "<style scoped>\n",
       "    .dataframe tbody tr th:only-of-type {\n",
       "        vertical-align: middle;\n",
       "    }\n",
       "\n",
       "    .dataframe tbody tr th {\n",
       "        vertical-align: top;\n",
       "    }\n",
       "\n",
       "    .dataframe thead th {\n",
       "        text-align: right;\n",
       "    }\n",
       "</style>\n",
       "<table border=\"1\" class=\"dataframe\">\n",
       "  <thead>\n",
       "    <tr style=\"text-align: right;\">\n",
       "      <th></th>\n",
       "      <th>G</th>\n",
       "      <th>P</th>\n",
       "      <th>I</th>\n",
       "    </tr>\n",
       "  </thead>\n",
       "  <tbody>\n",
       "    <tr>\n",
       "      <th>0</th>\n",
       "      <td>9.0</td>\n",
       "      <td>2.0</td>\n",
       "      <td>7.0</td>\n",
       "    </tr>\n",
       "    <tr>\n",
       "      <th>1</th>\n",
       "      <td>1.0</td>\n",
       "      <td>NaN</td>\n",
       "      <td>NaN</td>\n",
       "    </tr>\n",
       "    <tr>\n",
       "      <th>2</th>\n",
       "      <td>3.0</td>\n",
       "      <td>NaN</td>\n",
       "      <td>6.0</td>\n",
       "    </tr>\n",
       "  </tbody>\n",
       "</table>\n",
       "</div>"
      ],
      "text/plain": [
       "     G    P    I\n",
       "0  9.0  2.0  7.0\n",
       "1  1.0  NaN  NaN\n",
       "2  3.0  NaN  6.0"
      ]
     },
     "execution_count": 10,
     "metadata": {},
     "output_type": "execute_result"
    }
   ],
   "source": [
    "df1 = pd.DataFrame(np.array([[9, 2, 7],[1, np.nan, np.nan],[3, np.nan, 6]]))\n",
    "df1.columns = ['G', 'P', 'I']\n",
    "df1"
   ]
  },
  {
   "cell_type": "markdown",
   "metadata": {},
   "source": [
    "<h1 style= 'font-size:3rem'><u>Groupby mothod</u></h1>\n",
    "DataFrame.groupby(by=None, axis=0, level=None, as_index=True, sort=True, group_keys=_NoDefault.no_default, squeeze=_NoDefault.no_default, observed=False, dropna=True)\n",
    "Group DataFrame using a mapper or by a Series of columns.\n",
    "A groupby operation involves some combination of splitting the object, applying a function, and combining the results. This can be used to group large amounts of data and compute operations on these groups.\n",
    "Parameters\n",
    "bymapping, function, label, or list of labels\n",
    "Used to determine the groups for the groupby. If by is a function, it’s called on each value of the object’s index. If a dict or Series is passed, the Series or dict VALUES will be used to determine the groups (the Series’ values are first aligned; see .align() method). If a list or ndarray of length equal to the selected axis is passed (see the groupby user guide), the values are used as-is to determine the groups. A label or list of labels may be passed to group by the columns in self. Notice that a tuple is interpreted as a (single) key.\n",
    "\n",
    "axis{0 or ‘index’, 1 or ‘columns’}, default 0\n",
    "Split along rows (0) or columns (1). For Series this parameter is unused and defaults to 0.\n",
    "\n",
    "levelint, level name, or sequence of such, default None\n",
    "If the axis is a MultiIndex (hierarchical), group by a particular level or levels. Do not specify both by and level.\n",
    "\n",
    "as_indexbool, default True\n",
    "For aggregated output, return object with group labels as the index. Only relevant for DataFrame input. as_index=False is effectively “SQL-style” grouped output.\n",
    "\n",
    "sortbool, default True\n",
    "Sort group keys. Get better performance by turning this off. Note this does not influence the order of observations within each group. Groupby preserves the order of rows within each group.\n",
    "\n",
    "group_keysbool, optional\n",
    "When calling apply and the by argument produces a like-indexed (i.e. a transform) result, add group keys to index to identify pieces. By default group keys are not included when the result’s index (and column) labels match the inputs, and are included otherwise. This argument has no effect if the result produced is not like-indexed with respect to the input.\n",
    "squeezebool, default False\n",
    "Reduce the dimensionality of the return type if possible, otherwise return a consistent type.\n",
    "observedbool, default False\n",
    "This only applies if any of the groupers are Categoricals. If True: only show observed values for categorical groupers. If False: show all values for categorical groupers.\n",
    "dropna:bool, default True\n",
    "If True, and if group keys contain NA values, NA values together with row/column will be dropped. If False, NA values will also be treated as the key in groups.\n",
    "#### Returns:\n",
    "DataFrameGroupBy\n",
    "Returns a groupby object that contains information about the groups."
   ]
  },
  {
   "cell_type": "code",
   "execution_count": 11,
   "metadata": {},
   "outputs": [
    {
     "data": {
      "text/html": [
       "<div>\n",
       "<style scoped>\n",
       "    .dataframe tbody tr th:only-of-type {\n",
       "        vertical-align: middle;\n",
       "    }\n",
       "\n",
       "    .dataframe tbody tr th {\n",
       "        vertical-align: top;\n",
       "    }\n",
       "\n",
       "    .dataframe thead th {\n",
       "        text-align: right;\n",
       "    }\n",
       "</style>\n",
       "<table border=\"1\" class=\"dataframe\">\n",
       "  <thead>\n",
       "    <tr style=\"text-align: right;\">\n",
       "      <th></th>\n",
       "      <th>Max Speed</th>\n",
       "    </tr>\n",
       "    <tr>\n",
       "      <th>Animal</th>\n",
       "      <th></th>\n",
       "    </tr>\n",
       "  </thead>\n",
       "  <tbody>\n",
       "    <tr>\n",
       "      <th>Falcon</th>\n",
       "      <td>375.0</td>\n",
       "    </tr>\n",
       "    <tr>\n",
       "      <th>Parrot</th>\n",
       "      <td>25.0</td>\n",
       "    </tr>\n",
       "  </tbody>\n",
       "</table>\n",
       "</div>"
      ],
      "text/plain": [
       "        Max Speed\n",
       "Animal           \n",
       "Falcon      375.0\n",
       "Parrot       25.0"
      ]
     },
     "execution_count": 11,
     "metadata": {},
     "output_type": "execute_result"
    }
   ],
   "source": [
    "df = pd.DataFrame({'Animal': ['Falcon', 'Falcon',\n",
    "                              'Parrot', 'Parrot'],\n",
    "                   'Max Speed': [380., 370., 24., 26.]})\n",
    "df\n",
    "\n",
    "df.groupby(['Animal']).mean()"
   ]
  },
  {
   "cell_type": "code",
   "execution_count": 12,
   "metadata": {},
   "outputs": [
    {
     "data": {
      "text/html": [
       "<div>\n",
       "<style scoped>\n",
       "    .dataframe tbody tr th:only-of-type {\n",
       "        vertical-align: middle;\n",
       "    }\n",
       "\n",
       "    .dataframe tbody tr th {\n",
       "        vertical-align: top;\n",
       "    }\n",
       "\n",
       "    .dataframe thead th {\n",
       "        text-align: right;\n",
       "    }\n",
       "</style>\n",
       "<table border=\"1\" class=\"dataframe\">\n",
       "  <thead>\n",
       "    <tr style=\"text-align: right;\">\n",
       "      <th></th>\n",
       "      <th>Max Speed</th>\n",
       "    </tr>\n",
       "    <tr>\n",
       "      <th>Type</th>\n",
       "      <th></th>\n",
       "    </tr>\n",
       "  </thead>\n",
       "  <tbody>\n",
       "    <tr>\n",
       "      <th>Captive</th>\n",
       "      <td>210.0</td>\n",
       "    </tr>\n",
       "    <tr>\n",
       "      <th>Wild</th>\n",
       "      <td>185.0</td>\n",
       "    </tr>\n",
       "  </tbody>\n",
       "</table>\n",
       "</div>"
      ],
      "text/plain": [
       "         Max Speed\n",
       "Type              \n",
       "Captive      210.0\n",
       "Wild         185.0"
      ]
     },
     "execution_count": 12,
     "metadata": {},
     "output_type": "execute_result"
    }
   ],
   "source": [
    "arrays = [['Falcon', 'Falcon', 'Parrot', 'Parrot'],\n",
    "          ['Captive', 'Wild', 'Captive', 'Wild']]\n",
    "index = pd.MultiIndex.from_arrays(arrays, names=('Animal', 'Type'))\n",
    "df = pd.DataFrame({'Max Speed': [390., 350., 30., 20.]},\n",
    "                  index=index)\n",
    "df\n",
    "\n",
    "df.groupby(level=0).mean()\n",
    "\n",
    "df.groupby(level=\"Type\").mean()"
   ]
  },
  {
   "cell_type": "code",
   "execution_count": 13,
   "metadata": {},
   "outputs": [],
   "source": [
    "l = [[1, 2, 3], [1, None, 4], [2, 1, 3], [1, 2, 2]]\n",
    "df = pd.DataFrame(l, columns=[\"a\", \"b\", \"c\"])"
   ]
  },
  {
   "cell_type": "code",
   "execution_count": 14,
   "metadata": {},
   "outputs": [
    {
     "data": {
      "text/html": [
       "<div>\n",
       "<style scoped>\n",
       "    .dataframe tbody tr th:only-of-type {\n",
       "        vertical-align: middle;\n",
       "    }\n",
       "\n",
       "    .dataframe tbody tr th {\n",
       "        vertical-align: top;\n",
       "    }\n",
       "\n",
       "    .dataframe thead th {\n",
       "        text-align: right;\n",
       "    }\n",
       "</style>\n",
       "<table border=\"1\" class=\"dataframe\">\n",
       "  <thead>\n",
       "    <tr style=\"text-align: right;\">\n",
       "      <th></th>\n",
       "      <th>a</th>\n",
       "      <th>c</th>\n",
       "    </tr>\n",
       "    <tr>\n",
       "      <th>b</th>\n",
       "      <th></th>\n",
       "      <th></th>\n",
       "    </tr>\n",
       "  </thead>\n",
       "  <tbody>\n",
       "    <tr>\n",
       "      <th>1.0</th>\n",
       "      <td>2</td>\n",
       "      <td>3</td>\n",
       "    </tr>\n",
       "    <tr>\n",
       "      <th>2.0</th>\n",
       "      <td>2</td>\n",
       "      <td>5</td>\n",
       "    </tr>\n",
       "  </tbody>\n",
       "</table>\n",
       "</div>"
      ],
      "text/plain": [
       "     a  c\n",
       "b        \n",
       "1.0  2  3\n",
       "2.0  2  5"
      ]
     },
     "execution_count": 14,
     "metadata": {},
     "output_type": "execute_result"
    }
   ],
   "source": [
    "df.groupby(by=[\"b\"]).sum()"
   ]
  },
  {
   "cell_type": "markdown",
   "metadata": {},
   "source": [
    "<h1 style= 'font-size:3rem'><u>Merging,Joining and Concatinating</u></h1>"
   ]
  },
  {
   "cell_type": "markdown",
   "metadata": {},
   "source": [
    "The Series and DataFrame objects in pandas are powerful tools for exploring and analyzing data. Part of their power comes from a multifaceted approach to combining separate datasets. With pandas, you can merge, join, and concatenate your datasets, allowing you to unify and better understand your data as you analyze it.\n",
    "<ul>merge() for combining data on common columns or indices</ul>\n",
    "<ul>.join() for combining data on a key column or an index</ul>\n",
    "<ul>concat() for combining DataFrames across rows or columns</ul>"
   ]
  },
  {
   "cell_type": "code",
   "execution_count": 16,
   "metadata": {},
   "outputs": [],
   "source": [
    "df1 = pd.DataFrame(\n",
    "    {\n",
    "        \"A\": [\"A0\", \"A1\", \"A2\", \"A3\"],\n",
    "        \"B\": [\"B0\", \"B1\", \"B2\", \"B3\"],\n",
    "        \"C\": [\"C0\", \"C1\", \"C2\", \"C3\"],\n",
    "        \"D\": [\"D0\", \"D1\", \"D2\", \"D3\"],\n",
    "    },\n",
    "    index=[0, 1, 2, 3],\n",
    ")\n",
    "\n",
    "\n",
    "df2 = pd.DataFrame(\n",
    "    {\n",
    "        \"A\": [\"A4\", \"A5\", \"A6\", \"A7\"],\n",
    "        \"B\": [\"B4\", \"B5\", \"B6\", \"B7\"],\n",
    "        \"C\": [\"C4\", \"C5\", \"C6\", \"C7\"],\n",
    "        \"D\": [\"D4\", \"D5\", \"D6\", \"D7\"],\n",
    "    },\n",
    "    index=[4, 5, 6, 7],\n",
    ")\n",
    "\n",
    "\n",
    "df3 = pd.DataFrame(\n",
    "    {\n",
    "        \"A\": [\"A8\", \"A9\", \"A10\", \"A11\"],\n",
    "        \"B\": [\"B8\", \"B9\", \"B10\", \"B11\"],\n",
    "        \"C\": [\"C8\", \"C9\", \"C10\", \"C11\"],\n",
    "        \"D\": [\"D8\", \"D9\", \"D10\", \"D11\"],\n",
    "    },\n",
    "    index=[8, 9, 10, 11],\n",
    ")\n",
    "\n",
    "\n",
    "frames = [df1, df2, df3]\n",
    "\n",
    "result = pd.concat(frames)"
   ]
  },
  {
   "cell_type": "code",
   "execution_count": 17,
   "metadata": {},
   "outputs": [
    {
     "ename": "NameError",
     "evalue": "name 'objs' is not defined",
     "output_type": "error",
     "traceback": [
      "\u001b[1;31m---------------------------------------------------------------------------\u001b[0m",
      "\u001b[1;31mNameError\u001b[0m                                 Traceback (most recent call last)",
      "\u001b[1;32m~\\AppData\\Local\\Temp\\ipykernel_3164\\501482808.py\u001b[0m in \u001b[0;36m<module>\u001b[1;34m\u001b[0m\n\u001b[0;32m      1\u001b[0m pd.concat(\n\u001b[1;32m----> 2\u001b[1;33m     \u001b[0mobjs\u001b[0m\u001b[1;33m,\u001b[0m\u001b[1;33m\u001b[0m\u001b[1;33m\u001b[0m\u001b[0m\n\u001b[0m\u001b[0;32m      3\u001b[0m     \u001b[0maxis\u001b[0m\u001b[1;33m=\u001b[0m\u001b[1;36m0\u001b[0m\u001b[1;33m,\u001b[0m\u001b[1;33m\u001b[0m\u001b[1;33m\u001b[0m\u001b[0m\n\u001b[0;32m      4\u001b[0m     \u001b[0mjoin\u001b[0m\u001b[1;33m=\u001b[0m\u001b[1;34m\"outer\"\u001b[0m\u001b[1;33m,\u001b[0m\u001b[1;33m\u001b[0m\u001b[1;33m\u001b[0m\u001b[0m\n\u001b[0;32m      5\u001b[0m     \u001b[0mignore_index\u001b[0m\u001b[1;33m=\u001b[0m\u001b[1;32mFalse\u001b[0m\u001b[1;33m,\u001b[0m\u001b[1;33m\u001b[0m\u001b[1;33m\u001b[0m\u001b[0m\n",
      "\u001b[1;31mNameError\u001b[0m: name 'objs' is not defined"
     ]
    }
   ],
   "source": [
    "pd.concat(\n",
    "    objs,\n",
    "    axis=0,\n",
    "    join=\"outer\",\n",
    "    ignore_index=False,\n",
    "    keys=None,\n",
    "    levels=None,\n",
    "    names=None,\n",
    "    verify_integrity=False,\n",
    "    copy=True,\n",
    ")"
   ]
  },
  {
   "cell_type": "code",
   "execution_count": 19,
   "metadata": {},
   "outputs": [
    {
     "name": "stdout",
     "output_type": "stream",
     "text": [
      "1:2:3\n"
     ]
    }
   ],
   "source": [
    "# Python join() method example  \n",
    "# Variable declaration  \n",
    "str = \":\"   # string  \n",
    "list = ['1','2','3']    # iterable  \n",
    "# Calling function  \n",
    "str2 = str.join(list)  \n",
    "# Displaying result  \n",
    "print(str2)  "
   ]
  },
  {
   "cell_type": "code",
   "execution_count": 20,
   "metadata": {},
   "outputs": [
    {
     "name": "stdout",
     "output_type": "stream",
     "text": [
      "Welcome statistics\n"
     ]
    }
   ],
   "source": [
    "# Assign variable var1 & var 2\n",
    "var1 = \"Welcome\"\n",
    "var2 = \"statistics\"\n",
    "\n",
    "# print the result\n",
    "print(f\"{var1} {var2}\")"
   ]
  },
  {
   "cell_type": "code",
   "execution_count": 21,
   "metadata": {},
   "outputs": [
    {
     "name": "stdout",
     "output_type": "stream",
     "text": [
      "Hello World\n"
     ]
    }
   ],
   "source": [
    "# Defining strings\n",
    "var1 = \"Hello \"\n",
    "var2 = \"World\"\n",
    "\n",
    "# + Operator is used to combine strings\n",
    "var3 = var1 + var2\n",
    "print(var3)"
   ]
  },
  {
   "cell_type": "markdown",
   "metadata": {},
   "source": [
    "<h1 style= 'font-size:3rem'><u>Unique vs Non-unique Operations</u></h1>"
   ]
  },
  {
   "cell_type": "markdown",
   "metadata": {},
   "source": [
    "# numpy.unique() function\n",
    "The unique() function is used to find the unique elements of an array.Returns the sorted unique elements of an array. There are three optional outputs in addition to the unique elements:\n",
    "<ul>the indices of the input array that give the unique values</ul>\n",
    "<ul>the indices of the unique array that reconstruct the input array</ul>\n",
    "<ul>the number of times each unique value comes up in the input array</ul>\n",
    "\n",
    "### Syntax:\n",
    "numpy.unique(filt, trim='fb')\n",
    "### Return value:\n",
    "unique : ndarray - The sorted unique values.\n",
    "unique_indices : ndarray, optional - The indices of the first occurrences of the unique values in the original array. Only provided if return_index is True.\n",
    "unique_inverse : ndarray, optional - The indices to reconstruct the original array from the unique array. Only provided if return_inverse is True.\n",
    "unique_counts : ndarray, optional - The number of times each of the unique values comes up in the original array. Only provided if return_counts is True.\n",
    "New in version 1.9.0."
   ]
  },
  {
   "cell_type": "code",
   "execution_count": 4,
   "metadata": {},
   "outputs": [
    {
     "data": {
      "text/plain": [
       "array([0, 1, 2, 3, 5, 6])"
      ]
     },
     "execution_count": 4,
     "metadata": {},
     "output_type": "execute_result"
    }
   ],
   "source": [
    "import numpy as np\n",
    "x = np.array([0, 1, 2, 5, 2, 6, 5, 2, 3, 1])\n",
    "u, indices = np.unique(x, return_inverse=True)\n",
    "u"
   ]
  },
  {
   "cell_type": "code",
   "execution_count": 6,
   "metadata": {},
   "outputs": [
    {
     "data": {
      "text/plain": [
       "array([0, 1, 4, 2, 3, 1, 2, 1, 4, 3], dtype=int64)"
      ]
     },
     "execution_count": 6,
     "metadata": {},
     "output_type": "execute_result"
    }
   ],
   "source": [
    "import numpy as np\n",
    "x = np.array([1,2,5,3,4,2,3,2,5,4])\n",
    "u, indices = np.unique(x, return_inverse=True)\n",
    "indices"
   ]
  },
  {
   "cell_type": "markdown",
   "metadata": {},
   "source": [
    "# Non-Unique Operations\n",
    "From ndarray If data is an ndarray, index must be the same length as data. If no index is passed, one will be created having values [0, , len(data) - 1] . pandas supports non-unique index values. If an operation that does not support duplicate index values is attempted, an exception will be raised at that time.\n",
    "Unique indexes are indexes that help maintain data integrity by ensuring that no rows of data in a table have identical key values.\n",
    "\n",
    "When you create a unique index for an existing table with data, values in the columns or expressions that comprise the index key are checked for uniqueness. If the table contains rows with duplicate key values, the index creation process fails. When a unique index is defined for a table, uniqueness is enforced whenever keys are added or changed within the index. This enforcement includes insert, update, load, import, and set integrity, to name a few. In addition to enforcing the uniqueness of data values, a unique index can also be used to improve data retrieval performance during query processing.\n",
    "\n",
    "Non-unique indexes are not used to enforce constraints on the tables with which they are associated. Instead, non-unique indexes are used solely to improve query performance by maintaining a sorted order of data values that are used frequently."
   ]
  },
  {
   "cell_type": "code",
   "execution_count": 7,
   "metadata": {},
   "outputs": [
    {
     "data": {
      "text/plain": [
       "{0, 4}"
      ]
     },
     "execution_count": 7,
     "metadata": {},
     "output_type": "execute_result"
    }
   ],
   "source": [
    "a = [0, 0, 1, 4, 5]\n",
    "b = [0, 4, 6]\n",
    "\n",
    "\n",
    "set(a) & set(b)"
   ]
  },
  {
   "cell_type": "code",
   "execution_count": 1,
   "metadata": {},
   "outputs": [
    {
     "ename": "NameError",
     "evalue": "name 'a' is not defined",
     "output_type": "error",
     "traceback": [
      "\u001b[1;31m---------------------------------------------------------------------------\u001b[0m",
      "\u001b[1;31mNameError\u001b[0m                                 Traceback (most recent call last)",
      "\u001b[1;32m~\\AppData\\Local\\Temp\\ipykernel_34392\\4066535349.py\u001b[0m in \u001b[0;36m<module>\u001b[1;34m\u001b[0m\n\u001b[1;32m----> 1\u001b[1;33m \u001b[0mResult\u001b[0m \u001b[1;33m=\u001b[0m \u001b[1;33m[\u001b[0m\u001b[0melement\u001b[0m \u001b[1;32mfor\u001b[0m \u001b[0melement\u001b[0m \u001b[1;32min\u001b[0m \u001b[0ma\u001b[0m \u001b[1;32mif\u001b[0m \u001b[0melement\u001b[0m \u001b[1;32min\u001b[0m \u001b[0mb\u001b[0m\u001b[1;33m]\u001b[0m\u001b[1;33m\u001b[0m\u001b[1;33m\u001b[0m\u001b[0m\n\u001b[0m",
      "\u001b[1;31mNameError\u001b[0m: name 'a' is not defined"
     ]
    }
   ],
   "source": [
    "Result = [element for element in a if element in b]"
   ]
  },
  {
   "cell_type": "markdown",
   "metadata": {},
   "source": [
    "<h1 style= 'font-size:3rem'><u>Apply Function</u></h1>"
   ]
  },
  {
   "cell_type": "markdown",
   "metadata": {},
   "source": [
    "# Pandas.apply()\n",
    "Pandas.apply allow the users to pass a function and apply it on every single value of the Pandas series. It comes as a huge improvement for the pandas library as this function helps to segregate data according to the conditions required due to which it is efficiently used in data science and machine learning.\n",
    "### Parameters:\n",
    "func: .apply takes a function and applies it to all values of pandas series.<br>\n",
    "convert_dtype: Convert dtype as per the function’s operation.<br>\n",
    "args=(): Additional arguments to pass to function instead of series.<br>\n",
    "Return Type: Pandas Series after applied function/operation.<br>\n",
    "#### Examples:\n"
   ]
  },
  {
   "cell_type": "code",
   "execution_count": 2,
   "metadata": {},
   "outputs": [
    {
     "name": "stderr",
     "output_type": "stream",
     "text": [
      "C:\\Users\\AIT\\AppData\\Local\\Temp\\ipykernel_34392\\2555540662.py:4: FutureWarning: The squeeze argument has been deprecated and will be removed in a future version. Append .squeeze(\"columns\") to the call to squeeze.\n",
      "\n",
      "\n",
      "  s = pd.read_csv(\"stock.csv\", squeeze = True)\n"
     ]
    },
    {
     "ename": "FileNotFoundError",
     "evalue": "[Errno 2] No such file or directory: 'stock.csv'",
     "output_type": "error",
     "traceback": [
      "\u001b[1;31m---------------------------------------------------------------------------\u001b[0m",
      "\u001b[1;31mFileNotFoundError\u001b[0m                         Traceback (most recent call last)",
      "\u001b[1;32m~\\AppData\\Local\\Temp\\ipykernel_34392\\2555540662.py\u001b[0m in \u001b[0;36m<module>\u001b[1;34m\u001b[0m\n\u001b[0;32m      2\u001b[0m \u001b[1;33m\u001b[0m\u001b[0m\n\u001b[0;32m      3\u001b[0m \u001b[1;31m# reading csv\u001b[0m\u001b[1;33m\u001b[0m\u001b[1;33m\u001b[0m\u001b[0m\n\u001b[1;32m----> 4\u001b[1;33m \u001b[0ms\u001b[0m \u001b[1;33m=\u001b[0m \u001b[0mpd\u001b[0m\u001b[1;33m.\u001b[0m\u001b[0mread_csv\u001b[0m\u001b[1;33m(\u001b[0m\u001b[1;34m\"stock.csv\"\u001b[0m\u001b[1;33m,\u001b[0m \u001b[0msqueeze\u001b[0m \u001b[1;33m=\u001b[0m \u001b[1;32mTrue\u001b[0m\u001b[1;33m)\u001b[0m\u001b[1;33m\u001b[0m\u001b[1;33m\u001b[0m\u001b[0m\n\u001b[0m\u001b[0;32m      5\u001b[0m \u001b[1;33m\u001b[0m\u001b[0m\n\u001b[0;32m      6\u001b[0m \u001b[1;31m# defining function to check price\u001b[0m\u001b[1;33m\u001b[0m\u001b[1;33m\u001b[0m\u001b[0m\n",
      "\u001b[1;32m~\\anaconda3\\lib\\site-packages\\pandas\\util\\_decorators.py\u001b[0m in \u001b[0;36mwrapper\u001b[1;34m(*args, **kwargs)\u001b[0m\n\u001b[0;32m    309\u001b[0m                     \u001b[0mstacklevel\u001b[0m\u001b[1;33m=\u001b[0m\u001b[0mstacklevel\u001b[0m\u001b[1;33m,\u001b[0m\u001b[1;33m\u001b[0m\u001b[1;33m\u001b[0m\u001b[0m\n\u001b[0;32m    310\u001b[0m                 )\n\u001b[1;32m--> 311\u001b[1;33m             \u001b[1;32mreturn\u001b[0m \u001b[0mfunc\u001b[0m\u001b[1;33m(\u001b[0m\u001b[1;33m*\u001b[0m\u001b[0margs\u001b[0m\u001b[1;33m,\u001b[0m \u001b[1;33m**\u001b[0m\u001b[0mkwargs\u001b[0m\u001b[1;33m)\u001b[0m\u001b[1;33m\u001b[0m\u001b[1;33m\u001b[0m\u001b[0m\n\u001b[0m\u001b[0;32m    312\u001b[0m \u001b[1;33m\u001b[0m\u001b[0m\n\u001b[0;32m    313\u001b[0m         \u001b[1;32mreturn\u001b[0m \u001b[0mwrapper\u001b[0m\u001b[1;33m\u001b[0m\u001b[1;33m\u001b[0m\u001b[0m\n",
      "\u001b[1;32m~\\anaconda3\\lib\\site-packages\\pandas\\io\\parsers\\readers.py\u001b[0m in \u001b[0;36mread_csv\u001b[1;34m(filepath_or_buffer, sep, delimiter, header, names, index_col, usecols, squeeze, prefix, mangle_dupe_cols, dtype, engine, converters, true_values, false_values, skipinitialspace, skiprows, skipfooter, nrows, na_values, keep_default_na, na_filter, verbose, skip_blank_lines, parse_dates, infer_datetime_format, keep_date_col, date_parser, dayfirst, cache_dates, iterator, chunksize, compression, thousands, decimal, lineterminator, quotechar, quoting, doublequote, escapechar, comment, encoding, encoding_errors, dialect, error_bad_lines, warn_bad_lines, on_bad_lines, delim_whitespace, low_memory, memory_map, float_precision, storage_options)\u001b[0m\n\u001b[0;32m    676\u001b[0m     \u001b[0mkwds\u001b[0m\u001b[1;33m.\u001b[0m\u001b[0mupdate\u001b[0m\u001b[1;33m(\u001b[0m\u001b[0mkwds_defaults\u001b[0m\u001b[1;33m)\u001b[0m\u001b[1;33m\u001b[0m\u001b[1;33m\u001b[0m\u001b[0m\n\u001b[0;32m    677\u001b[0m \u001b[1;33m\u001b[0m\u001b[0m\n\u001b[1;32m--> 678\u001b[1;33m     \u001b[1;32mreturn\u001b[0m \u001b[0m_read\u001b[0m\u001b[1;33m(\u001b[0m\u001b[0mfilepath_or_buffer\u001b[0m\u001b[1;33m,\u001b[0m \u001b[0mkwds\u001b[0m\u001b[1;33m)\u001b[0m\u001b[1;33m\u001b[0m\u001b[1;33m\u001b[0m\u001b[0m\n\u001b[0m\u001b[0;32m    679\u001b[0m \u001b[1;33m\u001b[0m\u001b[0m\n\u001b[0;32m    680\u001b[0m \u001b[1;33m\u001b[0m\u001b[0m\n",
      "\u001b[1;32m~\\anaconda3\\lib\\site-packages\\pandas\\io\\parsers\\readers.py\u001b[0m in \u001b[0;36m_read\u001b[1;34m(filepath_or_buffer, kwds)\u001b[0m\n\u001b[0;32m    573\u001b[0m \u001b[1;33m\u001b[0m\u001b[0m\n\u001b[0;32m    574\u001b[0m     \u001b[1;31m# Create the parser.\u001b[0m\u001b[1;33m\u001b[0m\u001b[1;33m\u001b[0m\u001b[0m\n\u001b[1;32m--> 575\u001b[1;33m     \u001b[0mparser\u001b[0m \u001b[1;33m=\u001b[0m \u001b[0mTextFileReader\u001b[0m\u001b[1;33m(\u001b[0m\u001b[0mfilepath_or_buffer\u001b[0m\u001b[1;33m,\u001b[0m \u001b[1;33m**\u001b[0m\u001b[0mkwds\u001b[0m\u001b[1;33m)\u001b[0m\u001b[1;33m\u001b[0m\u001b[1;33m\u001b[0m\u001b[0m\n\u001b[0m\u001b[0;32m    576\u001b[0m \u001b[1;33m\u001b[0m\u001b[0m\n\u001b[0;32m    577\u001b[0m     \u001b[1;32mif\u001b[0m \u001b[0mchunksize\u001b[0m \u001b[1;32mor\u001b[0m \u001b[0miterator\u001b[0m\u001b[1;33m:\u001b[0m\u001b[1;33m\u001b[0m\u001b[1;33m\u001b[0m\u001b[0m\n",
      "\u001b[1;32m~\\anaconda3\\lib\\site-packages\\pandas\\io\\parsers\\readers.py\u001b[0m in \u001b[0;36m__init__\u001b[1;34m(self, f, engine, **kwds)\u001b[0m\n\u001b[0;32m    930\u001b[0m \u001b[1;33m\u001b[0m\u001b[0m\n\u001b[0;32m    931\u001b[0m         \u001b[0mself\u001b[0m\u001b[1;33m.\u001b[0m\u001b[0mhandles\u001b[0m\u001b[1;33m:\u001b[0m \u001b[0mIOHandles\u001b[0m \u001b[1;33m|\u001b[0m \u001b[1;32mNone\u001b[0m \u001b[1;33m=\u001b[0m \u001b[1;32mNone\u001b[0m\u001b[1;33m\u001b[0m\u001b[1;33m\u001b[0m\u001b[0m\n\u001b[1;32m--> 932\u001b[1;33m         \u001b[0mself\u001b[0m\u001b[1;33m.\u001b[0m\u001b[0m_engine\u001b[0m \u001b[1;33m=\u001b[0m \u001b[0mself\u001b[0m\u001b[1;33m.\u001b[0m\u001b[0m_make_engine\u001b[0m\u001b[1;33m(\u001b[0m\u001b[0mf\u001b[0m\u001b[1;33m,\u001b[0m \u001b[0mself\u001b[0m\u001b[1;33m.\u001b[0m\u001b[0mengine\u001b[0m\u001b[1;33m)\u001b[0m\u001b[1;33m\u001b[0m\u001b[1;33m\u001b[0m\u001b[0m\n\u001b[0m\u001b[0;32m    933\u001b[0m \u001b[1;33m\u001b[0m\u001b[0m\n\u001b[0;32m    934\u001b[0m     \u001b[1;32mdef\u001b[0m \u001b[0mclose\u001b[0m\u001b[1;33m(\u001b[0m\u001b[0mself\u001b[0m\u001b[1;33m)\u001b[0m\u001b[1;33m:\u001b[0m\u001b[1;33m\u001b[0m\u001b[1;33m\u001b[0m\u001b[0m\n",
      "\u001b[1;32m~\\anaconda3\\lib\\site-packages\\pandas\\io\\parsers\\readers.py\u001b[0m in \u001b[0;36m_make_engine\u001b[1;34m(self, f, engine)\u001b[0m\n\u001b[0;32m   1214\u001b[0m             \u001b[1;31m# \"Union[str, PathLike[str], ReadCsvBuffer[bytes], ReadCsvBuffer[str]]\"\u001b[0m\u001b[1;33m\u001b[0m\u001b[1;33m\u001b[0m\u001b[0m\n\u001b[0;32m   1215\u001b[0m             \u001b[1;31m# , \"str\", \"bool\", \"Any\", \"Any\", \"Any\", \"Any\", \"Any\"\u001b[0m\u001b[1;33m\u001b[0m\u001b[1;33m\u001b[0m\u001b[0m\n\u001b[1;32m-> 1216\u001b[1;33m             self.handles = get_handle(  # type: ignore[call-overload]\n\u001b[0m\u001b[0;32m   1217\u001b[0m                 \u001b[0mf\u001b[0m\u001b[1;33m,\u001b[0m\u001b[1;33m\u001b[0m\u001b[1;33m\u001b[0m\u001b[0m\n\u001b[0;32m   1218\u001b[0m                 \u001b[0mmode\u001b[0m\u001b[1;33m,\u001b[0m\u001b[1;33m\u001b[0m\u001b[1;33m\u001b[0m\u001b[0m\n",
      "\u001b[1;32m~\\anaconda3\\lib\\site-packages\\pandas\\io\\common.py\u001b[0m in \u001b[0;36mget_handle\u001b[1;34m(path_or_buf, mode, encoding, compression, memory_map, is_text, errors, storage_options)\u001b[0m\n\u001b[0;32m    784\u001b[0m         \u001b[1;32mif\u001b[0m \u001b[0mioargs\u001b[0m\u001b[1;33m.\u001b[0m\u001b[0mencoding\u001b[0m \u001b[1;32mand\u001b[0m \u001b[1;34m\"b\"\u001b[0m \u001b[1;32mnot\u001b[0m \u001b[1;32min\u001b[0m \u001b[0mioargs\u001b[0m\u001b[1;33m.\u001b[0m\u001b[0mmode\u001b[0m\u001b[1;33m:\u001b[0m\u001b[1;33m\u001b[0m\u001b[1;33m\u001b[0m\u001b[0m\n\u001b[0;32m    785\u001b[0m             \u001b[1;31m# Encoding\u001b[0m\u001b[1;33m\u001b[0m\u001b[1;33m\u001b[0m\u001b[0m\n\u001b[1;32m--> 786\u001b[1;33m             handle = open(\n\u001b[0m\u001b[0;32m    787\u001b[0m                 \u001b[0mhandle\u001b[0m\u001b[1;33m,\u001b[0m\u001b[1;33m\u001b[0m\u001b[1;33m\u001b[0m\u001b[0m\n\u001b[0;32m    788\u001b[0m                 \u001b[0mioargs\u001b[0m\u001b[1;33m.\u001b[0m\u001b[0mmode\u001b[0m\u001b[1;33m,\u001b[0m\u001b[1;33m\u001b[0m\u001b[1;33m\u001b[0m\u001b[0m\n",
      "\u001b[1;31mFileNotFoundError\u001b[0m: [Errno 2] No such file or directory: 'stock.csv'"
     ]
    }
   ],
   "source": [
    "import pandas as pd\n",
    "\n",
    "# reading csv\n",
    "s = pd.read_csv(\"stock.csv\", squeeze = True)\n",
    "\n",
    "# defining function to check price\n",
    "def fun(num):\n",
    "\n",
    "\tif num<200:\n",
    "\t\treturn \"Low\"\n",
    "\n",
    "\telif num>= 200 and num<400:\n",
    "\t\treturn \"Normal\"\n",
    "\n",
    "\telse:\n",
    "\t\treturn \"High\"\n",
    "\n",
    "# passing function to apply and storing returned series in new\n",
    "new = s.apply(fun)\n",
    "\n",
    "# printing first 3 element\n",
    "print(new.head(3))\n",
    "\n",
    "# printing elements somewhere near the middle of series\n",
    "print(new[1400], new[1500], new[1600])\n",
    "\n",
    "# printing last 3 elements\n",
    "print(new.tail(3))"
   ]
  },
  {
   "cell_type": "code",
   "execution_count": 3,
   "metadata": {},
   "outputs": [
    {
     "name": "stderr",
     "output_type": "stream",
     "text": [
      "C:\\Users\\AIT\\AppData\\Local\\Temp\\ipykernel_34392\\3536803266.py:2: FutureWarning: The squeeze argument has been deprecated and will be removed in a future version. Append .squeeze(\"columns\") to the call to squeeze.\n",
      "\n",
      "\n",
      "  s = pd.read_csv(\"stock.csv\", squeeze = True)\n"
     ]
    },
    {
     "ename": "FileNotFoundError",
     "evalue": "[Errno 2] No such file or directory: 'stock.csv'",
     "output_type": "error",
     "traceback": [
      "\u001b[1;31m---------------------------------------------------------------------------\u001b[0m",
      "\u001b[1;31mFileNotFoundError\u001b[0m                         Traceback (most recent call last)",
      "\u001b[1;32m~\\AppData\\Local\\Temp\\ipykernel_34392\\3536803266.py\u001b[0m in \u001b[0;36m<module>\u001b[1;34m\u001b[0m\n\u001b[0;32m      1\u001b[0m \u001b[1;32mimport\u001b[0m \u001b[0mpandas\u001b[0m \u001b[1;32mas\u001b[0m \u001b[0mpd\u001b[0m\u001b[1;33m\u001b[0m\u001b[1;33m\u001b[0m\u001b[0m\n\u001b[1;32m----> 2\u001b[1;33m \u001b[0ms\u001b[0m \u001b[1;33m=\u001b[0m \u001b[0mpd\u001b[0m\u001b[1;33m.\u001b[0m\u001b[0mread_csv\u001b[0m\u001b[1;33m(\u001b[0m\u001b[1;34m\"stock.csv\"\u001b[0m\u001b[1;33m,\u001b[0m \u001b[0msqueeze\u001b[0m \u001b[1;33m=\u001b[0m \u001b[1;32mTrue\u001b[0m\u001b[1;33m)\u001b[0m\u001b[1;33m\u001b[0m\u001b[1;33m\u001b[0m\u001b[0m\n\u001b[0m\u001b[0;32m      3\u001b[0m \u001b[1;33m\u001b[0m\u001b[0m\n\u001b[0;32m      4\u001b[0m \u001b[1;31m# adding 5 to each value\u001b[0m\u001b[1;33m\u001b[0m\u001b[1;33m\u001b[0m\u001b[0m\n\u001b[0;32m      5\u001b[0m \u001b[0mnew\u001b[0m \u001b[1;33m=\u001b[0m \u001b[0ms\u001b[0m\u001b[1;33m.\u001b[0m\u001b[0mapply\u001b[0m\u001b[1;33m(\u001b[0m\u001b[1;32mlambda\u001b[0m \u001b[0mnum\u001b[0m \u001b[1;33m:\u001b[0m \u001b[0mnum\u001b[0m \u001b[1;33m+\u001b[0m \u001b[1;36m5\u001b[0m\u001b[1;33m)\u001b[0m\u001b[1;33m\u001b[0m\u001b[1;33m\u001b[0m\u001b[0m\n",
      "\u001b[1;32m~\\anaconda3\\lib\\site-packages\\pandas\\util\\_decorators.py\u001b[0m in \u001b[0;36mwrapper\u001b[1;34m(*args, **kwargs)\u001b[0m\n\u001b[0;32m    309\u001b[0m                     \u001b[0mstacklevel\u001b[0m\u001b[1;33m=\u001b[0m\u001b[0mstacklevel\u001b[0m\u001b[1;33m,\u001b[0m\u001b[1;33m\u001b[0m\u001b[1;33m\u001b[0m\u001b[0m\n\u001b[0;32m    310\u001b[0m                 )\n\u001b[1;32m--> 311\u001b[1;33m             \u001b[1;32mreturn\u001b[0m \u001b[0mfunc\u001b[0m\u001b[1;33m(\u001b[0m\u001b[1;33m*\u001b[0m\u001b[0margs\u001b[0m\u001b[1;33m,\u001b[0m \u001b[1;33m**\u001b[0m\u001b[0mkwargs\u001b[0m\u001b[1;33m)\u001b[0m\u001b[1;33m\u001b[0m\u001b[1;33m\u001b[0m\u001b[0m\n\u001b[0m\u001b[0;32m    312\u001b[0m \u001b[1;33m\u001b[0m\u001b[0m\n\u001b[0;32m    313\u001b[0m         \u001b[1;32mreturn\u001b[0m \u001b[0mwrapper\u001b[0m\u001b[1;33m\u001b[0m\u001b[1;33m\u001b[0m\u001b[0m\n",
      "\u001b[1;32m~\\anaconda3\\lib\\site-packages\\pandas\\io\\parsers\\readers.py\u001b[0m in \u001b[0;36mread_csv\u001b[1;34m(filepath_or_buffer, sep, delimiter, header, names, index_col, usecols, squeeze, prefix, mangle_dupe_cols, dtype, engine, converters, true_values, false_values, skipinitialspace, skiprows, skipfooter, nrows, na_values, keep_default_na, na_filter, verbose, skip_blank_lines, parse_dates, infer_datetime_format, keep_date_col, date_parser, dayfirst, cache_dates, iterator, chunksize, compression, thousands, decimal, lineterminator, quotechar, quoting, doublequote, escapechar, comment, encoding, encoding_errors, dialect, error_bad_lines, warn_bad_lines, on_bad_lines, delim_whitespace, low_memory, memory_map, float_precision, storage_options)\u001b[0m\n\u001b[0;32m    676\u001b[0m     \u001b[0mkwds\u001b[0m\u001b[1;33m.\u001b[0m\u001b[0mupdate\u001b[0m\u001b[1;33m(\u001b[0m\u001b[0mkwds_defaults\u001b[0m\u001b[1;33m)\u001b[0m\u001b[1;33m\u001b[0m\u001b[1;33m\u001b[0m\u001b[0m\n\u001b[0;32m    677\u001b[0m \u001b[1;33m\u001b[0m\u001b[0m\n\u001b[1;32m--> 678\u001b[1;33m     \u001b[1;32mreturn\u001b[0m \u001b[0m_read\u001b[0m\u001b[1;33m(\u001b[0m\u001b[0mfilepath_or_buffer\u001b[0m\u001b[1;33m,\u001b[0m \u001b[0mkwds\u001b[0m\u001b[1;33m)\u001b[0m\u001b[1;33m\u001b[0m\u001b[1;33m\u001b[0m\u001b[0m\n\u001b[0m\u001b[0;32m    679\u001b[0m \u001b[1;33m\u001b[0m\u001b[0m\n\u001b[0;32m    680\u001b[0m \u001b[1;33m\u001b[0m\u001b[0m\n",
      "\u001b[1;32m~\\anaconda3\\lib\\site-packages\\pandas\\io\\parsers\\readers.py\u001b[0m in \u001b[0;36m_read\u001b[1;34m(filepath_or_buffer, kwds)\u001b[0m\n\u001b[0;32m    573\u001b[0m \u001b[1;33m\u001b[0m\u001b[0m\n\u001b[0;32m    574\u001b[0m     \u001b[1;31m# Create the parser.\u001b[0m\u001b[1;33m\u001b[0m\u001b[1;33m\u001b[0m\u001b[0m\n\u001b[1;32m--> 575\u001b[1;33m     \u001b[0mparser\u001b[0m \u001b[1;33m=\u001b[0m \u001b[0mTextFileReader\u001b[0m\u001b[1;33m(\u001b[0m\u001b[0mfilepath_or_buffer\u001b[0m\u001b[1;33m,\u001b[0m \u001b[1;33m**\u001b[0m\u001b[0mkwds\u001b[0m\u001b[1;33m)\u001b[0m\u001b[1;33m\u001b[0m\u001b[1;33m\u001b[0m\u001b[0m\n\u001b[0m\u001b[0;32m    576\u001b[0m \u001b[1;33m\u001b[0m\u001b[0m\n\u001b[0;32m    577\u001b[0m     \u001b[1;32mif\u001b[0m \u001b[0mchunksize\u001b[0m \u001b[1;32mor\u001b[0m \u001b[0miterator\u001b[0m\u001b[1;33m:\u001b[0m\u001b[1;33m\u001b[0m\u001b[1;33m\u001b[0m\u001b[0m\n",
      "\u001b[1;32m~\\anaconda3\\lib\\site-packages\\pandas\\io\\parsers\\readers.py\u001b[0m in \u001b[0;36m__init__\u001b[1;34m(self, f, engine, **kwds)\u001b[0m\n\u001b[0;32m    930\u001b[0m \u001b[1;33m\u001b[0m\u001b[0m\n\u001b[0;32m    931\u001b[0m         \u001b[0mself\u001b[0m\u001b[1;33m.\u001b[0m\u001b[0mhandles\u001b[0m\u001b[1;33m:\u001b[0m \u001b[0mIOHandles\u001b[0m \u001b[1;33m|\u001b[0m \u001b[1;32mNone\u001b[0m \u001b[1;33m=\u001b[0m \u001b[1;32mNone\u001b[0m\u001b[1;33m\u001b[0m\u001b[1;33m\u001b[0m\u001b[0m\n\u001b[1;32m--> 932\u001b[1;33m         \u001b[0mself\u001b[0m\u001b[1;33m.\u001b[0m\u001b[0m_engine\u001b[0m \u001b[1;33m=\u001b[0m \u001b[0mself\u001b[0m\u001b[1;33m.\u001b[0m\u001b[0m_make_engine\u001b[0m\u001b[1;33m(\u001b[0m\u001b[0mf\u001b[0m\u001b[1;33m,\u001b[0m \u001b[0mself\u001b[0m\u001b[1;33m.\u001b[0m\u001b[0mengine\u001b[0m\u001b[1;33m)\u001b[0m\u001b[1;33m\u001b[0m\u001b[1;33m\u001b[0m\u001b[0m\n\u001b[0m\u001b[0;32m    933\u001b[0m \u001b[1;33m\u001b[0m\u001b[0m\n\u001b[0;32m    934\u001b[0m     \u001b[1;32mdef\u001b[0m \u001b[0mclose\u001b[0m\u001b[1;33m(\u001b[0m\u001b[0mself\u001b[0m\u001b[1;33m)\u001b[0m\u001b[1;33m:\u001b[0m\u001b[1;33m\u001b[0m\u001b[1;33m\u001b[0m\u001b[0m\n",
      "\u001b[1;32m~\\anaconda3\\lib\\site-packages\\pandas\\io\\parsers\\readers.py\u001b[0m in \u001b[0;36m_make_engine\u001b[1;34m(self, f, engine)\u001b[0m\n\u001b[0;32m   1214\u001b[0m             \u001b[1;31m# \"Union[str, PathLike[str], ReadCsvBuffer[bytes], ReadCsvBuffer[str]]\"\u001b[0m\u001b[1;33m\u001b[0m\u001b[1;33m\u001b[0m\u001b[0m\n\u001b[0;32m   1215\u001b[0m             \u001b[1;31m# , \"str\", \"bool\", \"Any\", \"Any\", \"Any\", \"Any\", \"Any\"\u001b[0m\u001b[1;33m\u001b[0m\u001b[1;33m\u001b[0m\u001b[0m\n\u001b[1;32m-> 1216\u001b[1;33m             self.handles = get_handle(  # type: ignore[call-overload]\n\u001b[0m\u001b[0;32m   1217\u001b[0m                 \u001b[0mf\u001b[0m\u001b[1;33m,\u001b[0m\u001b[1;33m\u001b[0m\u001b[1;33m\u001b[0m\u001b[0m\n\u001b[0;32m   1218\u001b[0m                 \u001b[0mmode\u001b[0m\u001b[1;33m,\u001b[0m\u001b[1;33m\u001b[0m\u001b[1;33m\u001b[0m\u001b[0m\n",
      "\u001b[1;32m~\\anaconda3\\lib\\site-packages\\pandas\\io\\common.py\u001b[0m in \u001b[0;36mget_handle\u001b[1;34m(path_or_buf, mode, encoding, compression, memory_map, is_text, errors, storage_options)\u001b[0m\n\u001b[0;32m    784\u001b[0m         \u001b[1;32mif\u001b[0m \u001b[0mioargs\u001b[0m\u001b[1;33m.\u001b[0m\u001b[0mencoding\u001b[0m \u001b[1;32mand\u001b[0m \u001b[1;34m\"b\"\u001b[0m \u001b[1;32mnot\u001b[0m \u001b[1;32min\u001b[0m \u001b[0mioargs\u001b[0m\u001b[1;33m.\u001b[0m\u001b[0mmode\u001b[0m\u001b[1;33m:\u001b[0m\u001b[1;33m\u001b[0m\u001b[1;33m\u001b[0m\u001b[0m\n\u001b[0;32m    785\u001b[0m             \u001b[1;31m# Encoding\u001b[0m\u001b[1;33m\u001b[0m\u001b[1;33m\u001b[0m\u001b[0m\n\u001b[1;32m--> 786\u001b[1;33m             handle = open(\n\u001b[0m\u001b[0;32m    787\u001b[0m                 \u001b[0mhandle\u001b[0m\u001b[1;33m,\u001b[0m\u001b[1;33m\u001b[0m\u001b[1;33m\u001b[0m\u001b[0m\n\u001b[0;32m    788\u001b[0m                 \u001b[0mioargs\u001b[0m\u001b[1;33m.\u001b[0m\u001b[0mmode\u001b[0m\u001b[1;33m,\u001b[0m\u001b[1;33m\u001b[0m\u001b[1;33m\u001b[0m\u001b[0m\n",
      "\u001b[1;31mFileNotFoundError\u001b[0m: [Errno 2] No such file or directory: 'stock.csv'"
     ]
    }
   ],
   "source": [
    "import pandas as pd\n",
    "s = pd.read_csv(\"stock.csv\", squeeze = True)\n",
    "\n",
    "# adding 5 to each value\n",
    "new = s.apply(lambda num : num + 5)\n",
    "\n",
    "# printing first 5 elements of old and new series\n",
    "print(s.head(), '\\n', new.head())\n",
    "\n",
    "# printing last 5 elements of old and new series\n",
    "print('\\n\\n', s.tail(), '\\n', new.tail())\n"
   ]
  },
  {
   "cell_type": "markdown",
   "metadata": {},
   "source": [
    "<h1 style= 'font-size:3rem'><u>Sorting and Pivoting Functions</u></h1>"
   ]
  },
  {
   "cell_type": "markdown",
   "metadata": {},
   "source": [
    "# sorted() \n",
    "Python sorted() function returns a sorted list from the iterable object.\n",
    "## Python sorted() Function Syntax\n",
    "### Syntax:\n",
    "sorted(iterable, key, reverse)\n",
    "### Parameters:\n",
    "sorted takes three parameters from which two are optional. \n",
    "### Iterable:\n",
    "sequence (list, tuple, string) or collection (dictionary, set, frozenset) or any other iterator that needs to be sorted.\n",
    "### Key(optional):\n",
    "A function that would serve as a key or a basis of sort comparison.\n",
    "### Reverse(optional):\n",
    "If True, then the iterable would be sorted in reverse (descending) order, by default it is set as False.\n",
    "### Return:\n",
    "Returns a list with elements in sorted order.\n",
    "## Examples:"
   ]
  },
  {
   "cell_type": "code",
   "execution_count": 18,
   "metadata": {
    "scrolled": false
   },
   "outputs": [
    {
     "name": "stdout",
     "output_type": "stream",
     "text": [
      "[1, 2, 3, 4]\n"
     ]
    }
   ],
   "source": [
    "print(sorted([4, 1, 3, 2]))"
   ]
  },
  {
   "cell_type": "code",
   "execution_count": 6,
   "metadata": {},
   "outputs": [
    {
     "name": "stdout",
     "output_type": "stream",
     "text": [
      "Sorted List returned : [1, 2, 3, 4, 6, 7, 8]\n",
      "Reverse sort : [8, 7, 6, 4, 3, 2, 1]\n",
      "\n",
      "Original list not modified : [2, 8, 1, 4, 6, 3, 7]\n"
     ]
    }
   ],
   "source": [
    "x = [2, 8, 1, 4, 6, 3, 7]\n",
    "\n",
    "print(\"Sorted List returned :\", sorted(x))\n",
    "\n",
    "print(\"Reverse sort :\", sorted(x, reverse=True))\n",
    "\n",
    "print(\"\\nOriginal list not modified :\", x)\n"
   ]
  },
  {
   "cell_type": "code",
   "execution_count": 7,
   "metadata": {},
   "outputs": [
    {
     "name": "stdout",
     "output_type": "stream",
     "text": [
      "['e', 'q', 'r', 't', 'w', 'y']\n",
      "['e', 'q', 'r', 't', 'w', 'y']\n",
      "['h', 'n', 'o', 'p', 't', 'y']\n",
      "['e', 'q', 'r', 't', 'w', 'y']\n",
      "['e', 'q', 'r', 't', 'w', 'y']\n",
      "['e', 'q', 'r', 't', 'w', 'y']\n",
      "['e', 'q', 'r', 't', 'w', 'y']\n",
      "['e', 'q', 'r', 't', 'w', 'y']\n",
      "['h', 'n', 'o', 'p', 't', 'y']\n",
      "['e', 'q', 'r', 't', 'w', 'y']\n",
      "['e', 'q', 'r', 't', 'w', 'y']\n",
      "['e', 'q', 'r', 't', 'w', 'y']\n"
     ]
    }
   ],
   "source": [
    "# List\n",
    "x = ['q', 'w', 'r', 'e', 't', 'y']\n",
    "print(sorted(x))\n",
    "\n",
    "# Tuple\n",
    "x = ('q', 'w', 'e', 'r', 't', 'y')\n",
    "print(sorted(x))\n",
    "\n",
    "# String-sorted based on ASCII translations\n",
    "x = \"python\"\n",
    "print(sorted(x))\n",
    "\n",
    "# Dictionary\n",
    "x = {'q': 1, 'w': 2, 'e': 3, 'r': 4, 't': 5, 'y': 6}\n",
    "print(sorted(x))\n",
    "\n",
    "# Set\n",
    "x = {'q', 'w', 'e', 'r', 't', 'y'}\n",
    "print(sorted(x))\n",
    "\n",
    "# Frozen Set\n",
    "x = frozenset(('q', 'w', 'e', 'r', 't', 'y'))\n",
    "print(sorted(x))\n",
    "# List\n",
    "x = ['q', 'w', 'r', 'e', 't', 'y']\n",
    "print(sorted(x))\n",
    "\n",
    "# Tuple\n",
    "x = ('q', 'w', 'e', 'r', 't', 'y')\n",
    "print(sorted(x))\n",
    "\n",
    "# String-sorted based on ASCII translations\n",
    "x = \"python\"\n",
    "print(sorted(x))\n",
    "\n",
    "# Dictionary\n",
    "x = {'q': 1, 'w': 2, 'e': 3, 'r': 4, 't': 5, 'y': 6}\n",
    "print(sorted(x))\n",
    "\n",
    "# Set\n",
    "x = {'q', 'w', 'e', 'r', 't', 'y'}\n",
    "print(sorted(x))\n",
    "\n",
    "# Frozen Set\n",
    "x = frozenset(('q', 'w', 'e', 'r', 't', 'y'))\n",
    "print(sorted(x))\n"
   ]
  },
  {
   "cell_type": "code",
   "execution_count": 8,
   "metadata": {},
   "outputs": [
    {
     "name": "stdout",
     "output_type": "stream",
     "text": [
      "The original string : geekforgeeks\n",
      "String after reverse sorting : srokkggfeeee\n"
     ]
    }
   ],
   "source": [
    "# Python3 code to demonstrate\n",
    "# Reverse Sort a String\n",
    "# using join() + sorted() + reverse\n",
    "\t\n",
    "# initializing string\n",
    "test_string = \"geekforgeeks\"\n",
    "\t\n",
    "# printing original string\n",
    "print(\"The original string : \" + str(test_string))\n",
    "\t\n",
    "# using join() + sorted() + reverse\n",
    "# Sorting a string\n",
    "res = ''.join(sorted(test_string, reverse = True))\n",
    "\t\t\n",
    "# print result\n",
    "print(\"String after reverse sorting : \" + str(res))\n"
   ]
  },
  {
   "cell_type": "code",
   "execution_count": 9,
   "metadata": {
    "scrolled": true
   },
   "outputs": [
    {
     "name": "stdout",
     "output_type": "stream",
     "text": [
      "The original string : geekforgeeks\n",
      "String after reverse sorting : srokkggfeeee\n"
     ]
    }
   ],
   "source": [
    "# import the module\n",
    "import functools\n",
    "# initializing string\n",
    "test_string = \"geekforgeeks\"\n",
    "\n",
    "# printing original string\n",
    "print(\"The original string : \" + str(test_string))\n",
    "\n",
    "# using sorted() + reduce() + lambda\n",
    "# Reverse Sort a String\n",
    "res = functools.reduce(lambda x, y: x + y,\n",
    "\t\t\t\t\tsorted(test_string,\n",
    "\t\t\t\t\t\t\treverse=True))\n",
    "# print result\n",
    "print(\"String after reverse sorting : \" + str(res))\n"
   ]
  },
  {
   "cell_type": "code",
   "execution_count": 10,
   "metadata": {},
   "outputs": [
    {
     "name": "stdout",
     "output_type": "stream",
     "text": [
      "Normal sort : ['aaa', 'b', 'cccc', 'dd']\n",
      "Sort with len : ['b', 'dd', 'aaa', 'cccc']\n"
     ]
    }
   ],
   "source": [
    "L = [\"cccc\", \"b\", \"dd\", \"aaa\"]\n",
    "\n",
    "print(\"Normal sort :\", sorted(L))\n",
    "\n",
    "print(\"Sort with len :\", sorted(L, key=len))\n"
   ]
  },
  {
   "cell_type": "code",
   "execution_count": 11,
   "metadata": {},
   "outputs": [
    {
     "name": "stdout",
     "output_type": "stream",
     "text": [
      "Normal sort : [3, 7, 11, 15]\n",
      "Sorted with key: [7, 15, 3, 11]\n"
     ]
    }
   ],
   "source": [
    "# Sort a list of integers based on\n",
    "# their remainder on dividing from 7\n",
    "def func(x):\n",
    "\treturn x % 7\n",
    "\n",
    "L = [15, 3, 11, 7]\n",
    "\n",
    "print(\"Normal sort :\", sorted(L))\n",
    "print(\"Sorted with key:\", sorted(L, key=func))\n"
   ]
  },
  {
   "cell_type": "markdown",
   "metadata": {},
   "source": [
    "# Pandas.pivot()\n",
    "pandas.pivot(index, columns, values) function produces pivot table based on 3 columns of the DataFrame. Uses unique values from index / columns and fills with values.\n",
    "### Parameters:\n",
    "#### index[ndarray] :\n",
    "Labels to use to make new frame’s index\n",
    "#### columns[ndarray] :\n",
    "Labels to use to make new frame’s columns\n",
    "#### values[ndarray] : \n",
    "Values to use for populating new frame’s values\n",
    "#### Returns:\n",
    "Reshaped DataFrame\n",
    "#### Exception:\n",
    "ValueError raised if there are any duplicates.\n",
    "### Exmples:"
   ]
  },
  {
   "cell_type": "code",
   "execution_count": 12,
   "metadata": {},
   "outputs": [
    {
     "data": {
      "text/html": [
       "<div>\n",
       "<style scoped>\n",
       "    .dataframe tbody tr th:only-of-type {\n",
       "        vertical-align: middle;\n",
       "    }\n",
       "\n",
       "    .dataframe tbody tr th {\n",
       "        vertical-align: top;\n",
       "    }\n",
       "\n",
       "    .dataframe thead th {\n",
       "        text-align: right;\n",
       "    }\n",
       "</style>\n",
       "<table border=\"1\" class=\"dataframe\">\n",
       "  <thead>\n",
       "    <tr style=\"text-align: right;\">\n",
       "      <th></th>\n",
       "      <th>A</th>\n",
       "      <th>B</th>\n",
       "      <th>C</th>\n",
       "    </tr>\n",
       "  </thead>\n",
       "  <tbody>\n",
       "    <tr>\n",
       "      <th>0</th>\n",
       "      <td>John</td>\n",
       "      <td>Masters</td>\n",
       "      <td>27</td>\n",
       "    </tr>\n",
       "    <tr>\n",
       "      <th>1</th>\n",
       "      <td>Boby</td>\n",
       "      <td>Graduate</td>\n",
       "      <td>23</td>\n",
       "    </tr>\n",
       "    <tr>\n",
       "      <th>2</th>\n",
       "      <td>Mina</td>\n",
       "      <td>Graduate</td>\n",
       "      <td>21</td>\n",
       "    </tr>\n",
       "  </tbody>\n",
       "</table>\n",
       "</div>"
      ],
      "text/plain": [
       "      A         B   C\n",
       "0  John   Masters  27\n",
       "1  Boby  Graduate  23\n",
       "2  Mina  Graduate  21"
      ]
     },
     "execution_count": 12,
     "metadata": {},
     "output_type": "execute_result"
    }
   ],
   "source": [
    "# Create a simple dataframe\n",
    "\n",
    "# importing pandas as pd\n",
    "import pandas as pd\n",
    "\n",
    "# creating a dataframe\n",
    "df = pd.DataFrame({'A': ['John', 'Boby', 'Mina'],\n",
    "\t'B': ['Masters', 'Graduate', 'Graduate'],\n",
    "\t'C': [27, 23, 21]})\n",
    "\n",
    "df"
   ]
  },
  {
   "cell_type": "code",
   "execution_count": 14,
   "metadata": {},
   "outputs": [
    {
     "data": {
      "text/html": [
       "<div>\n",
       "<style scoped>\n",
       "    .dataframe tbody tr th:only-of-type {\n",
       "        vertical-align: middle;\n",
       "    }\n",
       "\n",
       "    .dataframe tbody tr th {\n",
       "        vertical-align: top;\n",
       "    }\n",
       "\n",
       "    .dataframe thead th {\n",
       "        text-align: right;\n",
       "    }\n",
       "</style>\n",
       "<table border=\"1\" class=\"dataframe\">\n",
       "  <thead>\n",
       "    <tr style=\"text-align: right;\">\n",
       "      <th>B</th>\n",
       "      <th>Graduate</th>\n",
       "      <th>Masters</th>\n",
       "    </tr>\n",
       "    <tr>\n",
       "      <th>A</th>\n",
       "      <th></th>\n",
       "      <th></th>\n",
       "    </tr>\n",
       "  </thead>\n",
       "  <tbody>\n",
       "    <tr>\n",
       "      <th>Boby</th>\n",
       "      <td>23.0</td>\n",
       "      <td>NaN</td>\n",
       "    </tr>\n",
       "    <tr>\n",
       "      <th>John</th>\n",
       "      <td>NaN</td>\n",
       "      <td>27.0</td>\n",
       "    </tr>\n",
       "    <tr>\n",
       "      <th>Mina</th>\n",
       "      <td>21.0</td>\n",
       "      <td>NaN</td>\n",
       "    </tr>\n",
       "  </tbody>\n",
       "</table>\n",
       "</div>"
      ],
      "text/plain": [
       "B     Graduate  Masters\n",
       "A                      \n",
       "Boby      23.0      NaN\n",
       "John       NaN     27.0\n",
       "Mina      21.0      NaN"
      ]
     },
     "execution_count": 14,
     "metadata": {},
     "output_type": "execute_result"
    }
   ],
   "source": [
    "# values can be an object or a list\n",
    "df.pivot('A', 'B', 'C')"
   ]
  },
  {
   "cell_type": "code",
   "execution_count": 15,
   "metadata": {},
   "outputs": [
    {
     "data": {
      "text/html": [
       "<div>\n",
       "<style scoped>\n",
       "    .dataframe tbody tr th:only-of-type {\n",
       "        vertical-align: middle;\n",
       "    }\n",
       "\n",
       "    .dataframe tbody tr th {\n",
       "        vertical-align: top;\n",
       "    }\n",
       "\n",
       "    .dataframe thead tr th {\n",
       "        text-align: left;\n",
       "    }\n",
       "\n",
       "    .dataframe thead tr:last-of-type th {\n",
       "        text-align: right;\n",
       "    }\n",
       "</style>\n",
       "<table border=\"1\" class=\"dataframe\">\n",
       "  <thead>\n",
       "    <tr>\n",
       "      <th></th>\n",
       "      <th colspan=\"2\" halign=\"left\">C</th>\n",
       "      <th colspan=\"2\" halign=\"left\">A</th>\n",
       "    </tr>\n",
       "    <tr>\n",
       "      <th>B</th>\n",
       "      <th>Graduate</th>\n",
       "      <th>Masters</th>\n",
       "      <th>Graduate</th>\n",
       "      <th>Masters</th>\n",
       "    </tr>\n",
       "    <tr>\n",
       "      <th>A</th>\n",
       "      <th></th>\n",
       "      <th></th>\n",
       "      <th></th>\n",
       "      <th></th>\n",
       "    </tr>\n",
       "  </thead>\n",
       "  <tbody>\n",
       "    <tr>\n",
       "      <th>Boby</th>\n",
       "      <td>23</td>\n",
       "      <td>NaN</td>\n",
       "      <td>Boby</td>\n",
       "      <td>NaN</td>\n",
       "    </tr>\n",
       "    <tr>\n",
       "      <th>John</th>\n",
       "      <td>NaN</td>\n",
       "      <td>27</td>\n",
       "      <td>NaN</td>\n",
       "      <td>John</td>\n",
       "    </tr>\n",
       "    <tr>\n",
       "      <th>Mina</th>\n",
       "      <td>21</td>\n",
       "      <td>NaN</td>\n",
       "      <td>Mina</td>\n",
       "      <td>NaN</td>\n",
       "    </tr>\n",
       "  </tbody>\n",
       "</table>\n",
       "</div>"
      ],
      "text/plain": [
       "            C                A        \n",
       "B    Graduate Masters Graduate Masters\n",
       "A                                     \n",
       "Boby       23     NaN     Boby     NaN\n",
       "John      NaN      27      NaN    John\n",
       "Mina       21     NaN     Mina     NaN"
      ]
     },
     "execution_count": 15,
     "metadata": {},
     "output_type": "execute_result"
    }
   ],
   "source": [
    "# value is a list\n",
    "df.pivot(index ='A', columns ='B', values =['C', 'A'])"
   ]
  },
  {
   "cell_type": "markdown",
   "metadata": {},
   "source": [
    "<h1 style= 'font-size:3rem'><u>Sorting,isnull and Pivoting function</u></h1>"
   ]
  },
  {
   "cell_type": "markdown",
   "metadata": {},
   "source": [
    "# sorted() \n",
    "Python sorted() function returns a sorted list from the iterable object.\n",
    "## Python sorted() Function Syntax\n",
    "### Syntax:\n",
    "sorted(iterable, key, reverse)\n",
    "### Parameters:\n",
    "sorted takes three parameters from which two are optional. \n",
    "### Iterable:\n",
    "sequence (list, tuple, string) or collection (dictionary, set, frozenset) or any other iterator that needs to be sorted.\n",
    "### Key(optional):\n",
    "A function that would serve as a key or a basis of sort comparison.\n",
    "### Reverse(optional):\n",
    "If True, then the iterable would be sorted in reverse (descending) order, by default it is set as False.\n",
    "### Return:\n",
    "Returns a list with elements in sorted order.\n",
    "## Examples:"
   ]
  },
  {
   "cell_type": "code",
   "execution_count": 18,
   "metadata": {
    "scrolled": false
   },
   "outputs": [
    {
     "name": "stdout",
     "output_type": "stream",
     "text": [
      "[1, 2, 3, 4]\n"
     ]
    }
   ],
   "source": [
    "print(sorted([4, 1, 3, 2]))"
   ]
  },
  {
   "cell_type": "code",
   "execution_count": 18,
   "metadata": {
    "scrolled": false
   },
   "outputs": [
    {
     "name": "stdout",
     "output_type": "stream",
     "text": [
      "[1, 2, 3, 4]\n"
     ]
    }
   ],
   "source": [
    "print(sorted([4, 1, 3, 2]))"
   ]
  },
  {
   "cell_type": "code",
   "execution_count": 20,
   "metadata": {},
   "outputs": [
    {
     "name": "stdout",
     "output_type": "stream",
     "text": [
      "Sorted List returned : [1, 2, 3, 4, 6, 7, 8]\n",
      "Reverse sort : [8, 7, 6, 4, 3, 2, 1]\n",
      "\n",
      "Original list not modified : [2, 8, 1, 4, 6, 3, 7]\n"
     ]
    }
   ],
   "source": [
    "x = [2, 8, 1, 4, 6, 3, 7]\n",
    "\n",
    "print(\"Sorted List returned :\", sorted(x))\n",
    "\n",
    "print(\"Reverse sort :\", sorted(x, reverse=True))\n",
    "\n",
    "print(\"\\nOriginal list not modified :\", x)\n"
   ]
  },
  {
   "cell_type": "code",
   "execution_count": 19,
   "metadata": {},
   "outputs": [
    {
     "name": "stdout",
     "output_type": "stream",
     "text": [
      "['e', 'q', 'r', 't', 'w', 'y']\n",
      "['e', 'q', 'r', 't', 'w', 'y']\n",
      "['h', 'n', 'o', 'p', 't', 'y']\n",
      "['e', 'q', 'r', 't', 'w', 'y']\n",
      "['e', 'q', 'r', 't', 'w', 'y']\n",
      "['e', 'q', 'r', 't', 'w', 'y']\n",
      "['e', 'q', 'r', 't', 'w', 'y']\n",
      "['e', 'q', 'r', 't', 'w', 'y']\n",
      "['h', 'n', 'o', 'p', 't', 'y']\n",
      "['e', 'q', 'r', 't', 'w', 'y']\n",
      "['e', 'q', 'r', 't', 'w', 'y']\n",
      "['e', 'q', 'r', 't', 'w', 'y']\n"
     ]
    }
   ],
   "source": [
    "# List\n",
    "x = ['q', 'w', 'r', 'e', 't', 'y']\n",
    "print(sorted(x))\n",
    "\n",
    "# Tuple\n",
    "x = ('q', 'w', 'e', 'r', 't', 'y')\n",
    "print(sorted(x))\n",
    "\n",
    "# String-sorted based on ASCII translations\n",
    "x = \"python\"\n",
    "print(sorted(x))\n",
    "\n",
    "# Dictionary\n",
    "x = {'q': 1, 'w': 2, 'e': 3, 'r': 4, 't': 5, 'y': 6}\n",
    "print(sorted(x))\n",
    "\n",
    "# Set\n",
    "x = {'q', 'w', 'e', 'r', 't', 'y'}\n",
    "print(sorted(x))\n",
    "\n",
    "# Frozen Set\n",
    "x = frozenset(('q', 'w', 'e', 'r', 't', 'y'))\n",
    "print(sorted(x))\n",
    "# List\n",
    "x = ['q', 'w', 'r', 'e', 't', 'y']\n",
    "print(sorted(x))\n",
    "\n",
    "# Tuple\n",
    "x = ('q', 'w', 'e', 'r', 't', 'y')\n",
    "print(sorted(x))\n",
    "\n",
    "# String-sorted based on ASCII translations\n",
    "x = \"python\"\n",
    "print(sorted(x))\n",
    "\n",
    "# Dictionary\n",
    "x = {'q': 1, 'w': 2, 'e': 3, 'r': 4, 't': 5, 'y': 6}\n",
    "print(sorted(x))\n",
    "\n",
    "# Set\n",
    "x = {'q', 'w', 'e', 'r', 't', 'y'}\n",
    "print(sorted(x))\n",
    "\n",
    "# Frozen Set\n",
    "x = frozenset(('q', 'w', 'e', 'r', 't', 'y'))\n",
    "print(sorted(x))\n"
   ]
  },
  {
   "cell_type": "code",
   "execution_count": null,
   "metadata": {},
   "outputs": [],
   "source": []
  },
  {
   "cell_type": "markdown",
   "metadata": {},
   "source": [
    "# Pandas.pivot()\n",
    "pandas.pivot(index, columns, values) function produces pivot table based on 3 columns of the DataFrame. Uses unique values from index / columns and fills with values.\n",
    "### Parameters:\n",
    "#### index[ndarray] :\n",
    "Labels to use to make new frame’s index\n",
    "#### columns[ndarray] :\n",
    "Labels to use to make new frame’s columns\n",
    "#### values[ndarray] : \n",
    "Values to use for populating new frame’s values\n",
    "#### Returns:\n",
    "Reshaped DataFrame\n",
    "#### Exception:\n",
    "ValueError raised if there are any duplicates.\n",
    "### Exmples:"
   ]
  },
  {
   "cell_type": "code",
   "execution_count": 12,
   "metadata": {},
   "outputs": [
    {
     "data": {
      "text/html": [
       "<div>\n",
       "<style scoped>\n",
       "    .dataframe tbody tr th:only-of-type {\n",
       "        vertical-align: middle;\n",
       "    }\n",
       "\n",
       "    .dataframe tbody tr th {\n",
       "        vertical-align: top;\n",
       "    }\n",
       "\n",
       "    .dataframe thead th {\n",
       "        text-align: right;\n",
       "    }\n",
       "</style>\n",
       "<table border=\"1\" class=\"dataframe\">\n",
       "  <thead>\n",
       "    <tr style=\"text-align: right;\">\n",
       "      <th></th>\n",
       "      <th>A</th>\n",
       "      <th>B</th>\n",
       "      <th>C</th>\n",
       "    </tr>\n",
       "  </thead>\n",
       "  <tbody>\n",
       "    <tr>\n",
       "      <th>0</th>\n",
       "      <td>John</td>\n",
       "      <td>Masters</td>\n",
       "      <td>27</td>\n",
       "    </tr>\n",
       "    <tr>\n",
       "      <th>1</th>\n",
       "      <td>Boby</td>\n",
       "      <td>Graduate</td>\n",
       "      <td>23</td>\n",
       "    </tr>\n",
       "    <tr>\n",
       "      <th>2</th>\n",
       "      <td>Mina</td>\n",
       "      <td>Graduate</td>\n",
       "      <td>21</td>\n",
       "    </tr>\n",
       "  </tbody>\n",
       "</table>\n",
       "</div>"
      ],
      "text/plain": [
       "      A         B   C\n",
       "0  John   Masters  27\n",
       "1  Boby  Graduate  23\n",
       "2  Mina  Graduate  21"
      ]
     },
     "execution_count": 12,
     "metadata": {},
     "output_type": "execute_result"
    }
   ],
   "source": [
    "# Create a simple dataframe\n",
    "\n",
    "# importing pandas as pd\n",
    "import pandas as pd\n",
    "\n",
    "# creating a dataframe\n",
    "df = pd.DataFrame({'A': ['John', 'Boby', 'Mina'],\n",
    "\t'B': ['Masters', 'Graduate', 'Graduate'],\n",
    "\t'C': [27, 23, 21]})\n",
    "\n",
    "df"
   ]
  },
  {
   "cell_type": "code",
   "execution_count": 15,
   "metadata": {},
   "outputs": [
    {
     "data": {
      "text/html": [
       "<div>\n",
       "<style scoped>\n",
       "    .dataframe tbody tr th:only-of-type {\n",
       "        vertical-align: middle;\n",
       "    }\n",
       "\n",
       "    .dataframe tbody tr th {\n",
       "        vertical-align: top;\n",
       "    }\n",
       "\n",
       "    .dataframe thead tr th {\n",
       "        text-align: left;\n",
       "    }\n",
       "\n",
       "    .dataframe thead tr:last-of-type th {\n",
       "        text-align: right;\n",
       "    }\n",
       "</style>\n",
       "<table border=\"1\" class=\"dataframe\">\n",
       "  <thead>\n",
       "    <tr>\n",
       "      <th></th>\n",
       "      <th colspan=\"2\" halign=\"left\">C</th>\n",
       "      <th colspan=\"2\" halign=\"left\">A</th>\n",
       "    </tr>\n",
       "    <tr>\n",
       "      <th>B</th>\n",
       "      <th>Graduate</th>\n",
       "      <th>Masters</th>\n",
       "      <th>Graduate</th>\n",
       "      <th>Masters</th>\n",
       "    </tr>\n",
       "    <tr>\n",
       "      <th>A</th>\n",
       "      <th></th>\n",
       "      <th></th>\n",
       "      <th></th>\n",
       "      <th></th>\n",
       "    </tr>\n",
       "  </thead>\n",
       "  <tbody>\n",
       "    <tr>\n",
       "      <th>Boby</th>\n",
       "      <td>23</td>\n",
       "      <td>NaN</td>\n",
       "      <td>Boby</td>\n",
       "      <td>NaN</td>\n",
       "    </tr>\n",
       "    <tr>\n",
       "      <th>John</th>\n",
       "      <td>NaN</td>\n",
       "      <td>27</td>\n",
       "      <td>NaN</td>\n",
       "      <td>John</td>\n",
       "    </tr>\n",
       "    <tr>\n",
       "      <th>Mina</th>\n",
       "      <td>21</td>\n",
       "      <td>NaN</td>\n",
       "      <td>Mina</td>\n",
       "      <td>NaN</td>\n",
       "    </tr>\n",
       "  </tbody>\n",
       "</table>\n",
       "</div>"
      ],
      "text/plain": [
       "            C                A        \n",
       "B    Graduate Masters Graduate Masters\n",
       "A                                     \n",
       "Boby       23     NaN     Boby     NaN\n",
       "John      NaN      27      NaN    John\n",
       "Mina       21     NaN     Mina     NaN"
      ]
     },
     "execution_count": 15,
     "metadata": {},
     "output_type": "execute_result"
    }
   ],
   "source": [
    "# value is a list\n",
    "df.pivot(index ='A', columns ='B', values =['C', 'A'])"
   ]
  },
  {
   "cell_type": "markdown",
   "metadata": {},
   "source": [
    "<h1 style= 'font-size:3rem'><u>Pandas Series.isnull()</u></h1>"
   ]
  },
  {
   "cell_type": "markdown",
   "metadata": {},
   "source": [
    "Pandas series is a One-dimensional ndarray with axis labels. The labels need not be unique but must be a hashable type. The object supports both integer and label-based indexing and provides a host of methods for performing operations involving the index.\n",
    "Pandas Series.isnull() function detect missing values in the given series object. It return a boolean same-sized object indicating if the values are NA. Missing values gets mapped to True and non-missing value gets mapped to False."
   ]
  },
  {
   "cell_type": "markdown",
   "metadata": {},
   "source": [
    "### Syntax:\n",
    "Series.isnull()\n",
    "### Parameter :\n",
    "None\n",
    "### Returns :\n",
    "boolean\n",
    "## Examples:"
   ]
  },
  {
   "cell_type": "code",
   "execution_count": 22,
   "metadata": {},
   "outputs": [
    {
     "name": "stdout",
     "output_type": "stream",
     "text": [
      "Coca Cola    10\n",
      "Sprite       25\n",
      "Coke          3\n",
      "Fanta        25\n",
      "Dew          24\n",
      "ThumbsUp      6\n",
      "dtype: int64\n"
     ]
    }
   ],
   "source": [
    "# importing pandas as pd\n",
    "import pandas as pd\n",
    "\n",
    "# Creating the Series\n",
    "sr = pd.Series([10, 25, 3, 25, 24, 6])\n",
    "\n",
    "# Create the Index\n",
    "index_ = ['Coca Cola', 'Sprite', 'Coke', 'Fanta', 'Dew', 'ThumbsUp']\n",
    "\n",
    "# set the index\n",
    "sr.index = index_\n",
    "\n",
    "# Print the series\n",
    "print(sr)"
   ]
  },
  {
   "cell_type": "code",
   "execution_count": 23,
   "metadata": {},
   "outputs": [
    {
     "name": "stdout",
     "output_type": "stream",
     "text": [
      "Coca Cola    False\n",
      "Sprite       False\n",
      "Coke         False\n",
      "Fanta        False\n",
      "Dew          False\n",
      "ThumbsUp     False\n",
      "dtype: bool\n"
     ]
    }
   ],
   "source": [
    "# detect missing values\n",
    "result = sr.isnull()\n",
    "\n",
    "# Print the result\n",
    "print(result)"
   ]
  },
  {
   "cell_type": "code",
   "execution_count": 24,
   "metadata": {},
   "outputs": [
    {
     "name": "stdout",
     "output_type": "stream",
     "text": [
      "2010-10-31    11.0\n",
      "2010-11-30    21.0\n",
      "2010-12-31     8.0\n",
      "2011-01-31    18.0\n",
      "2011-02-28    65.0\n",
      "2011-03-31     NaN\n",
      "2011-04-30    32.0\n",
      "2011-05-31    10.0\n",
      "2011-06-30     5.0\n",
      "2011-07-31    24.0\n",
      "2011-08-31     NaN\n",
      "Freq: M, dtype: float64\n"
     ]
    }
   ],
   "source": [
    "# importing pandas as pd\n",
    "import pandas as pd\n",
    "\n",
    "# Creating the Series\n",
    "sr = pd.Series([11, 21, 8, 18, 65, None, 32, 10, 5, 24, None])\n",
    "\n",
    "# Create the Index\n",
    "index_ = pd.date_range('2010-10-09', periods = 11, freq ='M')\n",
    "\n",
    "# set the index\n",
    "sr.index = index_\n",
    "\n",
    "# Print the series\n",
    "print(sr)"
   ]
  },
  {
   "cell_type": "code",
   "execution_count": 25,
   "metadata": {},
   "outputs": [
    {
     "name": "stdout",
     "output_type": "stream",
     "text": [
      "2010-10-31    False\n",
      "2010-11-30    False\n",
      "2010-12-31    False\n",
      "2011-01-31    False\n",
      "2011-02-28    False\n",
      "2011-03-31     True\n",
      "2011-04-30    False\n",
      "2011-05-31    False\n",
      "2011-06-30    False\n",
      "2011-07-31    False\n",
      "2011-08-31     True\n",
      "Freq: M, dtype: bool\n"
     ]
    }
   ],
   "source": [
    "# detect missing values\n",
    "result = sr.isnull()\n",
    "\n",
    "# Print the result\n",
    "print(result)"
   ]
  },
  {
   "cell_type": "markdown",
   "metadata": {},
   "source": [
    "<h1 style= 'font-size:3rem'><u>Data Input and Output operations</u></h1>"
   ]
  },
  {
   "cell_type": "markdown",
   "metadata": {},
   "source": [
    "# How to Take Input from User in Python\n",
    "Sometimes a developer might want to take user input at some point in the program. To do this Python provides an input() function.\n",
    "### Syntax:\n",
    "input('prompt')\n",
    "## Example:"
   ]
  },
  {
   "cell_type": "code",
   "execution_count": 27,
   "metadata": {},
   "outputs": [
    {
     "name": "stdout",
     "output_type": "stream",
     "text": [
      "Enter your name: Tim\n",
      "Hello, Tim\n",
      "<class 'str'>\n"
     ]
    }
   ],
   "source": [
    "# Taking input from the user\n",
    "name = input(\"Enter your name: \")\n",
    "\n",
    "# Output\n",
    "print(\"Hello, \" + name)\n",
    "print(type(name))"
   ]
  },
  {
   "cell_type": "markdown",
   "metadata": {},
   "source": [
    "Note: Python takes all the input as a string input by default. To convert it to any other data type we have to convert the input explicitly. For example, to convert the input to int or float we have to use the int() and float() method respectively."
   ]
  },
  {
   "cell_type": "code",
   "execution_count": 28,
   "metadata": {},
   "outputs": [
    {
     "name": "stdout",
     "output_type": "stream",
     "text": [
      "Enter a number: 2\n",
      "3\n"
     ]
    }
   ],
   "source": [
    "# Taking input from the user as integer\n",
    "num = int(input(\"Enter a number: \"))\n",
    "\n",
    "add = num + 1\n",
    "\n",
    "# Output\n",
    "print(add)"
   ]
  },
  {
   "cell_type": "code",
   "execution_count": 31,
   "metadata": {},
   "outputs": [
    {
     "name": "stdout",
     "output_type": "stream",
     "text": [
      "Enter the Numbers : 3 4 5\n",
      "The Numbers are :  3 4 5\n"
     ]
    }
   ],
   "source": [
    "a, b, c = map(int, input(\"Enter the Numbers : \").split())\n",
    "print(\"The Numbers are : \",end = \" \")\n",
    "print(a, b, c)"
   ]
  },
  {
   "cell_type": "markdown",
   "metadata": {},
   "source": [
    "# How to Display Output in Python\n",
    "Python provides the print() function to display output to the standard output devices. \n",
    "### Syntax:\n",
    "print(value(s), sep= ‘ ‘, end = ‘\\n’, file=file, flush=flush)\n",
    "### Parameters:\n",
    "### value(s) :\n",
    "Any value, and as many as you like. Will be converted to string before printed\n",
    "### sep=’separator’ :\n",
    "(Optional) Specify how to separate the objects, if there is more than one.Default :’ ‘\n",
    "### end=’end’:\n",
    "(Optional) Specify what to print at the end.Default : ‘\\n’\n",
    "### file :\n",
    "(Optional) An object with a write method. Default :sys.stdout\n",
    "### flush :\n",
    "(Optional) A Boolean, specifying if the output is flushed (True) or buffered (False). Default: False\n",
    "### Returns:\n",
    "It returns output to the screen.\n",
    "## Example"
   ]
  },
  {
   "cell_type": "code",
   "execution_count": 32,
   "metadata": {},
   "outputs": [
    {
     "name": "stdout",
     "output_type": "stream",
     "text": [
      "GFG\n",
      "G F G\n"
     ]
    }
   ],
   "source": [
    "# Python program to demonstrate\n",
    "# print() method\n",
    "print(\"GFG\")\n",
    "\n",
    "# code for disabling the softspace feature\n",
    "print('G', 'F', 'G')\n"
   ]
  },
  {
   "cell_type": "code",
   "execution_count": 36,
   "metadata": {},
   "outputs": [
    {
     "name": "stdout",
     "output_type": "stream",
     "text": [
      "ABC@G#F#G\n"
     ]
    }
   ],
   "source": [
    "# Python program to demonstrate\n",
    "# print() method\n",
    "print(\"ABC\", end = \"@\")\n",
    "\n",
    "# code for disabling the softspace feature\n",
    "print('G', 'F', 'G', sep=\"#\")\n"
   ]
  },
  {
   "cell_type": "code",
   "execution_count": 35,
   "metadata": {},
   "outputs": [
    {
     "name": "stdout",
     "output_type": "stream",
     "text": [
      "Hello ABC! How are you?\n"
     ]
    }
   ],
   "source": [
    "# Declaring a variable\n",
    "name = \"ABC\"\n",
    "\n",
    "# Output\n",
    "print(f'Hello {name}! How are you?')\n"
   ]
  },
  {
   "cell_type": "code",
   "execution_count": 37,
   "metadata": {},
   "outputs": [
    {
     "name": "stdout",
     "output_type": "stream",
     "text": [
      "The value of a is 20 and b is 10\n",
      "30 is the sum of 20 and 10\n",
      "10 is the subtraction of 20 and 10\n"
     ]
    }
   ],
   "source": [
    "# Initializing variables\n",
    "a = 20\n",
    "b = 10\n",
    "\n",
    "# addition\n",
    "sum = a + b\n",
    "\n",
    "# subtraction\n",
    "sub = a- b\n",
    "\n",
    "# Output\n",
    "print('The value of a is {} and b is {}'.format(a,b))\n",
    "\n",
    "print('{2} is the sum of {0} and {1}'.format(a,b,sum))\n",
    "\n",
    "print('{sub_value} is the subtraction of {value_a} and {value_b}'.format(value_a = a ,value_b = b,sub_value = sub))"
   ]
  },
  {
   "cell_type": "code",
   "execution_count": 38,
   "metadata": {},
   "outputs": [
    {
     "name": "stdout",
     "output_type": "stream",
     "text": [
      "Enter a value: 10\n",
      "The sum is 15\n"
     ]
    }
   ],
   "source": [
    "# Taking input from the user\n",
    "num = int(input(\"Enter a value: \"))\n",
    "\n",
    "add = num + 5\n",
    "\n",
    "# Output\n",
    "print(\"The sum is %d\" %add)"
   ]
  },
  {
   "cell_type": "markdown",
   "metadata": {},
   "source": [
    "<h1 style= 'font-size:3rem'><u>Reading and Writing to files</u></h1>"
   ]
  },
  {
   "cell_type": "markdown",
   "metadata": {},
   "source": [
    "Python provides inbuilt functions for creating, writing, and reading files. There are two types of files that can be handled in python, normal text files and binary files (written in binary language, 0s, and 1s).\n",
    "<ul>Text files: In this type of file, Each line of text is terminated with a special character called EOL (End of Line), which is the new line character (‘\\n’) in python by default.</ul>\n",
    "<ul>Binary files: In this type of file, there is no terminator for a line, and the data is stored after converting it into machine-understandable binary language.</ul>\n",
    "\n",
    "### File Access Modes\n",
    "Access modes govern the type of operations possible in the opened file. It refers to how the file will be used once its opened. These modes also define the location of the File Handle in the file. File handle is like a cursor, which defines from where the data has to be read or written in the file. There are 6 access modes in python.\n",
    "<ul>Read Only (‘r’) : Open text file for reading. The handle is positioned at the beginning of the file. If the file does not exists, raises the I/O error. This is also the default mode in which a file is opened.</ul>\n",
    "<ul>Read and Write (‘r+’): Open the file for reading and writing. The handle is positioned at the beginning of the file. Raises I/O error if the file does not exist.</ul>\n",
    "<ul>Write Only (‘w’) : Open the file for writing. For the existing files, the data is truncated and over-written. The handle is positioned at the beginning of the file. Creates the file if the file does not exist.</ul>\n",
    "<ul>Write and Read (‘w+’) : Open the file for reading and writing. For an existing file, data is truncated and over-written. The handle is positioned at the beginning of the file.</ul>\n",
    "<ul>Append Only (‘a’): Open the file for writing. The file is created if it does not exist. The handle is positioned at the end of the file. The data being written will be inserted at the end, after the existing data.</ul>\n",
    "<ul>Append and Read (‘a+’) : Open the file for reading and writing. The file is created if it does not exist. The handle is positioned at the end of the file. The data being written will be inserted at the end, after the existing data.</ul>\n",
    "\n",
    "## How Files are Loaded into Primary Memory\n",
    "There are two kinds of memory in a computer i.e. Primary and Secondary memory every file that you saved or anyone saved is on secondary memory cause any data in primary memory is deleted when the computer is powered off. So when you need to change any text file or just to work with them in python you need to load that file into primary memory. Python interacts with files loaded in primary memory or main memory through “file handlers” ( This is how your operating system gives access to python to interact with the file you opened by searching the file in its memory if found it returns a file handler and then you can work with the file )."
   ]
  },
  {
   "cell_type": "markdown",
   "metadata": {},
   "source": [
    "# Writing to a file\n",
    "There are two ways to write in a file.\n",
    "### write() :\n",
    "Inserts the string str1 in a single line in the text file.\n",
    "<ul>File_object.write(str1)</ul>\n",
    "### writelines() :\n",
    "For a list of string elements, each string is inserted in the text file.Used to insert multiple strings at a single time.\n",
    "<ul>File_object.writelines(L) for L = [str1, str2, str3] </ul>\n",
    "\n",
    "# Reading from a file\n",
    "There are three ways to read data from a text file.\n",
    "### read() :\n",
    "Returns the read bytes in form of a string. Reads n bytes, if no n specified, reads the entire file.\n",
    "<ul>File_object.read([n])</ul>\n",
    "\n",
    "### readline() :\n",
    "Reads a line of the file and returns in form of a string.For specified n, reads at most n bytes. However, does not reads more than one line, even if n exceeds the length of the line.\n",
    "<ul>File_object.readline([n])</ul>\n",
    "\n",
    "### readlines() :\n",
    "Reads all the lines and return them as each line a string element in a list.\n",
    "  <ul>File_object.readlines()</ul>\n",
    "  \n",
    "# Examples:"
   ]
  },
  {
   "cell_type": "code",
   "execution_count": 40,
   "metadata": {},
   "outputs": [
    {
     "name": "stdout",
     "output_type": "stream",
     "text": [
      "Output of Read function is \n",
      "Hello \n",
      "This is Delhi \n",
      "This is Paris \n",
      "This is London \n",
      "\n",
      "\n",
      "Output of Readline function is \n",
      "Hello \n",
      "\n",
      "\n",
      "Output of Read(9) function is \n",
      "Hello \n",
      "Th\n",
      "\n",
      "Output of Readline(9) function is \n",
      "Hello \n",
      "\n",
      "Output of Readlines function is \n",
      "['Hello \\n', 'This is Delhi \\n', 'This is Paris \\n', 'This is London \\n']\n",
      "\n"
     ]
    }
   ],
   "source": [
    "# Program to show various ways to read and\n",
    "# write data in a file.\n",
    "file1 = open(\"myfile.txt\",\"w\")\n",
    "L = [\"This is Delhi \\n\",\"This is Paris \\n\",\"This is London \\n\"]\n",
    "\n",
    "# \\n is placed to indicate EOL (End of Line)\n",
    "file1.write(\"Hello \\n\")\n",
    "file1.writelines(L)\n",
    "file1.close() #to change file access modes\n",
    "\n",
    "file1 = open(\"myfile.txt\",\"r+\")\n",
    "\n",
    "print(\"Output of Read function is \")\n",
    "print(file1.read())\n",
    "print()\n",
    "\n",
    "# seek(n) takes the file handle to the nth\n",
    "# bite from the beginning.\n",
    "file1.seek(0)\n",
    "\n",
    "print( \"Output of Readline function is \")\n",
    "print(file1.readline())\n",
    "print()\n",
    "\n",
    "file1.seek(0)\n",
    "\n",
    "# To show difference between read and readline\n",
    "print(\"Output of Read(9) function is \")\n",
    "print(file1.read(9))\n",
    "print()\n",
    "\n",
    "file1.seek(0)\n",
    "\n",
    "print(\"Output of Readline(9) function is \")\n",
    "print(file1.readline(9))\n",
    "\n",
    "file1.seek(0)\n",
    "# readlines function\n",
    "print(\"Output of Readlines function is \")\n",
    "print(file1.readlines())\n",
    "print()\n",
    "file1.close()"
   ]
  },
  {
   "cell_type": "code",
   "execution_count": 41,
   "metadata": {},
   "outputs": [
    {
     "name": "stdout",
     "output_type": "stream",
     "text": [
      "Output of Readlines after appending\n",
      "['This is Delhi \\n', 'This is Paris \\n', 'This is London \\n', 'Today \\n']\n",
      "\n",
      "Output of Readlines after writing\n",
      "['Tomorrow \\n']\n",
      "\n"
     ]
    }
   ],
   "source": [
    "# Python program to illustrate\n",
    "# Append vs write mode\n",
    "file1 = open(\"myfile.txt\",\"w\")\n",
    "L = [\"This is Delhi \\n\",\"This is Paris \\n\",\"This is London \\n\"]\n",
    "file1.writelines(L)\n",
    "file1.close()\n",
    "\n",
    "# Append-adds at last\n",
    "file1 = open(\"myfile.txt\",\"a\")#append mode\n",
    "file1.write(\"Today \\n\")\n",
    "file1.close()\n",
    "\n",
    "file1 = open(\"myfile.txt\",\"r\")\n",
    "print(\"Output of Readlines after appending\")\n",
    "print(file1.readlines())\n",
    "print()\n",
    "file1.close()\n",
    "\n",
    "# Write-Overwrites\n",
    "file1 = open(\"myfile.txt\",\"w\")#write mode\n",
    "file1.write(\"Tomorrow \\n\")\n",
    "file1.close()\n",
    "\n",
    "file1 = open(\"myfile.txt\",\"r\")\n",
    "print(\"Output of Readlines after writing\")\n",
    "print(file1.readlines())\n",
    "print()\n",
    "file1.close()"
   ]
  }
 ],
 "metadata": {
  "kernelspec": {
   "display_name": "Python 3",
   "language": "python",
   "name": "python3"
  },
  "language_info": {
   "codemirror_mode": {
    "name": "ipython",
    "version": 3
   },
   "file_extension": ".py",
   "mimetype": "text/x-python",
   "name": "python",
   "nbconvert_exporter": "python",
   "pygments_lexer": "ipython3",
   "version": "3.9.12 (tags/v3.9.12:b28265d, Mar 23 2022, 23:52:46) [MSC v.1929 64 bit (AMD64)]"
  },
  "vscode": {
   "interpreter": {
    "hash": "30cf0e1abb529a22bc607410d8585599c1f1527cc04e9da2f800037aa994db87"
   }
  }
 },
 "nbformat": 4,
 "nbformat_minor": 5
}
