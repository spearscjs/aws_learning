{
 "cells": [
  {
   "attachments": {},
   "cell_type": "markdown",
   "id": "35cd1774",
   "metadata": {},
   "source": [
    "<h1 style= 'font-size:3rem'><u><center>Python Qustions</center></u></h1>\n",
    "\n"
   ]
  },
  {
   "cell_type": "code",
   "execution_count": 4,
   "id": "f278d5e2",
   "metadata": {},
   "outputs": [
    {
     "name": "stdout",
     "output_type": "stream",
     "text": [
      "True\n",
      "True\n",
      "False\n"
     ]
    }
   ],
   "source": [
    "# 1.How would you confirm that 2 strings have the same identity?\n",
    "str1 = 'asd'\n",
    "str2 = 'asd'\n",
    "str3 = 'Asd'\n",
    "\n",
    "print(str1 == str2)\n",
    "print(str1 == str1)\n",
    "print(str1 == str3)"
   ]
  },
  {
   "cell_type": "code",
   "execution_count": 24,
   "id": "8e69bb03",
   "metadata": {},
   "outputs": [
    {
     "data": {
      "text/plain": [
       "True"
      ]
     },
     "execution_count": 24,
     "metadata": {},
     "output_type": "execute_result"
    }
   ],
   "source": [
    "# 2.How would you check if each word in a string begins with a capital letter?\n",
    "str1 = \"Every letter is NOT capital\"\n",
    "str2 = \"Every Letter Is Capital\"\n",
    "\n",
    "tokens = str2.split()\n",
    "\n",
    "ans = False\n",
    "for t in tokens:\n",
    "    if(t[0].isupper()):\n",
    "        ans = True\n",
    "    else:\n",
    "        ans = False\n",
    "        break\n",
    "\n",
    "ans"
   ]
  },
  {
   "cell_type": "code",
   "execution_count": 26,
   "id": "47f1aba4",
   "metadata": {},
   "outputs": [
    {
     "name": "stdout",
     "output_type": "stream",
     "text": [
      "Hello, my name is curtis\n"
     ]
    }
   ],
   "source": [
    "# 3.What is an f-string and how do you use it?\n",
    "# a format string, used to include variables in a string\n",
    "str1 = 'name'\n",
    "str2 = 'curtis'\n",
    "print(f'Hello, my {str1} is {str2}')"
   ]
  },
  {
   "cell_type": "code",
   "execution_count": 28,
   "id": "291efb36",
   "metadata": {},
   "outputs": [
    {
     "name": "stdout",
     "output_type": "stream",
     "text": [
      "dlrow olleh\n"
     ]
    }
   ],
   "source": [
    "# 4.Reverse the string “hello world”.\n",
    "str1 = 'hello world'\n",
    "str2 = str1[::-1]\n",
    "print(str2)"
   ]
  },
  {
   "cell_type": "code",
   "execution_count": 30,
   "id": "0874ee60",
   "metadata": {},
   "outputs": [
    {
     "data": {
      "text/plain": [
       "10"
      ]
     },
     "execution_count": 30,
     "metadata": {},
     "output_type": "execute_result"
    }
   ],
   "source": [
    "# 5.Word location in String\n",
    "str1 = 'Hello, my name is curtis'\n",
    "str1.find('name')"
   ]
  },
  {
   "cell_type": "code",
   "execution_count": 38,
   "id": "503865f8",
   "metadata": {},
   "outputs": [
    {
     "name": "stdout",
     "output_type": "stream",
     "text": [
      "False\n"
     ]
    }
   ],
   "source": [
    "# 6.Test if string is subset of another\n",
    "str1 = 'Hello, my name is curtis'\n",
    "str2 = 'Hello, my name is'\n",
    "if(str1.find(str2)):\n",
    "    print(True)\n",
    "else: print(False)"
   ]
  },
  {
   "cell_type": "code",
   "execution_count": 48,
   "id": "7ad67e27",
   "metadata": {},
   "outputs": [
    {
     "data": {
      "text/plain": [
       "[9, 1, 2, 3, 4, 5, 6, 7, 8, 0]"
      ]
     },
     "execution_count": 48,
     "metadata": {},
     "output_type": "execute_result"
    }
   ],
   "source": [
    "# 7.Python program to interchange first and last elements in a list\n",
    "lst = [*range(10)]\n",
    "\n",
    "def swap_first_last(lst : list):\n",
    "    tmp = lst[0]\n",
    "    lst[0] = lst[-1]\n",
    "    lst[-1] = tmp\n",
    "    return lst\n",
    "    \n",
    "swap_first_last(lst)"
   ]
  },
  {
   "cell_type": "code",
   "execution_count": 64,
   "id": "d7083e04",
   "metadata": {},
   "outputs": [
    {
     "name": "stdout",
     "output_type": "stream",
     "text": [
      "(0, -1): [9, 1, 2, 3, 4, 5, 6, 7, 8, 0]\n",
      "(1, 2): [0, 2, 1, 3, 4, 5, 6, 7, 8, 9]\n",
      "(-2, -2): None\n",
      "(1, 4): [0, 4, 2, 3, 1, 5, 6, 7, 8, 9]\n",
      "(8, 3): [0, 1, 2, 8, 4, 5, 6, 7, 3, 9]\n",
      "(20, 50): None\n"
     ]
    }
   ],
   "source": [
    "# 8.Python program to swap two elements in a list\n",
    "lst = [*range(10)]\n",
    "\n",
    "def swap_element(lst : list, i : int, j: int):\n",
    "    # allow -1 for last index\n",
    "    if(i == -1): i = len(lst) - 1\n",
    "    if(j == -1): j = len(lst) - 1\n",
    "    # \n",
    "    if(i >= len(lst) or i < 0 or j>= len(lst) or j<0):\n",
    "        return None\n",
    "    tmp = lst[i]\n",
    "    lst[i] = lst[j]\n",
    "    lst[j] = tmp\n",
    "    return lst\n",
    "\n",
    "test_values = ((0,-1), (1,2), (-2,-2), (1,4),  (8,3), (20, 50))\n",
    "for i,j in test_values:\n",
    "    lst = [*range(10)]\n",
    "    print(f'({i}, {j}): {swap_element(lst, i, j)}')"
   ]
  },
  {
   "cell_type": "code",
   "execution_count": 116,
   "id": "b509a992",
   "metadata": {},
   "outputs": [
    {
     "name": "stdout",
     "output_type": "stream",
     "text": [
      "Number of postive: 3\n",
      "Number of negative: 4\n"
     ]
    }
   ],
   "source": [
    "# 9.Python program to count positive and negative numbers in a list\n",
    "def count_signs(lst:list):\n",
    "    pos = 0\n",
    "    neg = 0\n",
    "    for ele in lst:\n",
    "        try:\n",
    "            if(ele > 0): pos += 1\n",
    "            if(ele < 0): neg += 1\n",
    "        except TypeError:\n",
    "            continue\n",
    "    return (pos, neg)\n",
    "\n",
    "lst = [*range(-4, 4)]\n",
    "lst.append(\"ASDSAD\")\n",
    "\n",
    "ans = count_signs(lst)\n",
    "print(f'Number of postive: {ans[0]}\\n' +\n",
    "        f'Number of negative: {ans[1]}')"
   ]
  },
  {
   "cell_type": "code",
   "execution_count": 132,
   "id": "9de7493d",
   "metadata": {},
   "outputs": [
    {
     "name": "stdout",
     "output_type": "stream",
     "text": [
      "[(), 4, (2, 12), (), (4, 14), (5, 15), (6, 16), (7, 17), (8, 18), ()]\n"
     ]
    },
    {
     "data": {
      "text/plain": [
       "[4, (2, 12), (4, 14), (5, 15), (6, 16), (7, 17), (8, 18)]"
      ]
     },
     "execution_count": 132,
     "metadata": {},
     "output_type": "execute_result"
    }
   ],
   "source": [
    "# 10.Python Program to remove empty tuples from a list\n",
    "lst = [(e, e+10) for e in range(10)]\n",
    "lst[0] = ()\n",
    "lst[3] = ()\n",
    "lst[-1] = ()\n",
    "lst[1] = 4\n",
    "\n",
    "def remove_empty_tuples(lst:list):\n",
    "    print(lst)\n",
    "    for e in list(lst):\n",
    "        if(type(e) is tuple and not e):\n",
    "             lst.remove(e)  \n",
    "    return lst\n",
    "\n",
    "remove_empty_tuples(lst)"
   ]
  },
  {
   "cell_type": "code",
   "execution_count": 144,
   "id": "42723062",
   "metadata": {},
   "outputs": [
    {
     "data": {
      "text/plain": [
       "[1, 5]"
      ]
     },
     "execution_count": 144,
     "metadata": {},
     "output_type": "execute_result"
    }
   ],
   "source": [
    "# 11.Program to print duplicates from a list of integers\n",
    "lst = [1, 154, 123, 5, 1, 2, 54, 12, 4, 5]\n",
    "\n",
    "dd = {}\n",
    "\n",
    "def count_occurences(lst:list):\n",
    "    for ele in lst:\n",
    "        if(ele in dd):\n",
    "            dd[ele] += 1\n",
    "        else:\n",
    "            dd[ele] = 1\n",
    "    return dd\n",
    "\n",
    "occ = count_occurences(lst)\n",
    "[k for k,v in occ.items() if v > 1]"
   ]
  },
  {
   "cell_type": "code",
   "execution_count": 6,
   "id": "07207d46",
   "metadata": {},
   "outputs": [
    {
     "name": "stdout",
     "output_type": "stream",
     "text": [
      "[154, 123, 5, 2, 54, 12, 4, 5]\n"
     ]
    },
    {
     "data": {
      "text/plain": [
       "[154, 123, 2, 54, 12, 4]"
      ]
     },
     "execution_count": 6,
     "metadata": {},
     "output_type": "execute_result"
    }
   ],
   "source": [
    "# 12.Program to count unique values inside a list\n",
    "lst = [1, 154, 123, 5, 1, 2, 54, 12, 4, 5]\n",
    "lst2 = [2, 154, 123, 5, 2, 54, 12, 4, 5]\n",
    "\n",
    "print([v for v in lst if v in lst2])\n",
    "dd = {}\n",
    "\n",
    "def count_occurences(lst:list):\n",
    "    for ele in lst:\n",
    "        if(ele in dd):\n",
    "            dd[ele] += 1\n",
    "        else:\n",
    "            dd[ele] = 1\n",
    "    return dd\n",
    "\n",
    "occ = count_occurences(lst)\n",
    "[k for k,v in occ.items() if v == 1]"
   ]
  },
  {
   "cell_type": "code",
   "execution_count": 93,
   "id": "fbc0cfcc",
   "metadata": {},
   "outputs": [
    {
     "data": {
      "text/plain": [
       "[2, 2, 44, 44]"
      ]
     },
     "execution_count": 93,
     "metadata": {},
     "output_type": "execute_result"
    }
   ],
   "source": [
    "# 13.Python Program to Retain records with N occurrences of K\n",
    "lst = [1,2,3,44,44,2,435,345,345,345]\n",
    "d = {}\n",
    "\n",
    "def retainNK(lst : list, n):\n",
    "    ret = []\n",
    "    for e in lst:\n",
    "        if e in d:\n",
    "            d[e] += 1\n",
    "        else: d[e] = 1\n",
    "\n",
    "    for k,v in d.items():\n",
    "        if v == n:\n",
    "            for i in range(v):\n",
    "                ret.append(k)\n",
    "    return ret\n",
    "\n",
    "retainNK(lst, 2)"
   ]
  },
  {
   "cell_type": "code",
   "execution_count": 156,
   "id": "e5e54d33",
   "metadata": {},
   "outputs": [
    {
     "name": "stdout",
     "output_type": "stream",
     "text": [
      "len: 8\n",
      "getsizeof: 360 bytes\n"
     ]
    }
   ],
   "source": [
    "# 14.Find the size of a Dictionary in Python\n",
    "lst = [*range(-4, 4)]\n",
    "d = dict(enumerate(lst))\n",
    "print(f'len: {len(d)}')\n",
    "print(f'getsizeof: {sys.getsizeof(d)} bytes')"
   ]
  },
  {
   "cell_type": "code",
   "execution_count": 1,
   "id": "b8857cbb",
   "metadata": {},
   "outputs": [
    {
     "name": "stdout",
     "output_type": "stream",
     "text": [
      "{0: 2, 1: 3, 2: 4, 3: 5, 4: 6, 5: 7, 6: 8, 7: 9, -4: 2, -3: 3, -2: 4, -1: 5}\n"
     ]
    }
   ],
   "source": [
    "# 15.Python Program to Merge two Dictionaries\n",
    "lst = [*range(2, 10)]\n",
    "d1 = dict(enumerate(lst))\n",
    "d2 = {-4: 2, -3: 3, -2: 4, -1: 5, 4: 6, 5: 7, 6: 8, 7: 9}\n",
    "\n",
    "d = d1.copy()\n",
    "d.update(d2)\n",
    "print(d)"
   ]
  },
  {
   "cell_type": "code",
   "execution_count": 8,
   "id": "884cfbf7",
   "metadata": {},
   "outputs": [
    {
     "data": {
      "text/plain": [
       "{'a': ['a', 'a', 'a', 'a', 'a'],\n",
       " 'b': ['b', 'b', 'b', 'b'],\n",
       " 'c': ['c'],\n",
       " 'd': ['d'],\n",
       " 'e': ['e'],\n",
       " 'f': ['f'],\n",
       " 'g': ['g'],\n",
       " 'h': ['h'],\n",
       " 'u': ['u'],\n",
       " 1: [1, 1],\n",
       " 2: [2]}"
      ]
     },
     "execution_count": 8,
     "metadata": {},
     "output_type": "execute_result"
    }
   ],
   "source": [
    "# 16.Program to Group Similar items to Dictionary Values List\n",
    "def group_occurences(lst:list):\n",
    "    for ele in lst:\n",
    "        if(ele in dd):\n",
    "            dd[ele].append(ele)\n",
    "        else: dd[ele] = [ele]\n",
    "    return dd\n",
    "\n",
    "lst = ['a','a','b','a','b','a','b','a','b','c','d','e','f','g','h','u', 1, 2, 1]\n",
    "group_occurences(lst)"
   ]
  },
  {
   "cell_type": "code",
   "execution_count": null,
   "id": "5581abf1",
   "metadata": {},
   "outputs": [],
   "source": [
    "# 17.Program Extract values of Particular Key in Nested Values\n"
   ]
  },
  {
   "cell_type": "code",
   "execution_count": 180,
   "id": "ff87f39c",
   "metadata": {},
   "outputs": [
    {
     "data": {
      "text/plain": [
       "{7: 9, 6: 8, 5: 7, 4: 6, -1: 5, -2: 4, -3: 3, -4: 2}"
      ]
     },
     "execution_count": 180,
     "metadata": {},
     "output_type": "execute_result"
    }
   ],
   "source": [
    "# 18.Program to Reverse Dictionary Keys Order\n",
    "# question: do dictionaries have an order? \n",
    "def reverse_dict(d : dict):\n",
    "    return dict(reversed(list(d.items())))\n",
    "\n",
    "d = {-4: 2, -3: 3, -2: 4, -1: 5, 4: 6, 5: 7, 6: 8, 7: 9}\n",
    "reverse_dict(d)"
   ]
  },
  {
   "cell_type": "code",
   "execution_count": null,
   "id": "848a76fe",
   "metadata": {},
   "outputs": [],
   "source": [
    "# 19.Program to Sort Nested keys by Value\n"
   ]
  },
  {
   "cell_type": "code",
   "execution_count": 1,
   "id": "80b6b83f",
   "metadata": {},
   "outputs": [
    {
     "data": {
      "text/plain": [
       "True"
      ]
     },
     "execution_count": 1,
     "metadata": {},
     "output_type": "execute_result"
    }
   ],
   "source": [
    "# 20.Python program to check if a given number is an Armstrong number\n",
    "# using strings (expensive)\n",
    "def is_armstrong(n : int):\n",
    "    st = str(n)\n",
    "    sum = 0\n",
    "    for d in st:\n",
    "        sum += int(d)**3\n",
    "    if(sum == n):\n",
    "        return True\n",
    "    else: return False\n",
    "\n",
    "is_armstrong(371)\n",
    "\n",
    "\n",
    "# using math (faster)\n",
    "def is_armstrong(n : int):\n",
    "    sum = 0\n",
    "    x = n\n",
    "    while n: \n",
    "        d = n % 10 # gets last digit\n",
    "        n //= 10 \n",
    "        sum += int(d)**3\n",
    "    if(sum == x):\n",
    "        return True\n",
    "    else: return False\n",
    "   \n",
    "\n",
    "is_armstrong(371)"
   ]
  },
  {
   "cell_type": "code",
   "execution_count": 3,
   "id": "c082ff1f",
   "metadata": {},
   "outputs": [
    {
     "data": {
      "text/plain": [
       "120"
      ]
     },
     "execution_count": 3,
     "metadata": {},
     "output_type": "execute_result"
    }
   ],
   "source": [
    "# 21.Write a program in Python to display the Factorial of a number.\n",
    "def fact(n : int):\n",
    "    if n<= 0: return None\n",
    "    if(n==1): return 1\n",
    "    return n * fact(n-1)\n",
    "\n",
    "fact(5)"
   ]
  },
  {
   "cell_type": "code",
   "execution_count": 19,
   "id": "a9f08524",
   "metadata": {},
   "outputs": [
    {
     "data": {
      "text/plain": [
       "'drow'"
      ]
     },
     "execution_count": 19,
     "metadata": {},
     "output_type": "execute_result"
    }
   ],
   "source": [
    "# 22.Write a program in Python to reverse a word using loop.\n",
    "def reverse_str(str1 : str):\n",
    "    rev = ''\n",
    "    for i in range(len(str1))[::-1]:\n",
    "        rev += str1[i]\n",
    "    return rev\n",
    "\n",
    "str1 = 'word'\n",
    "str2=''\n",
    "\n",
    "reverse_str(str1)"
   ]
  },
  {
   "cell_type": "code",
   "execution_count": 22,
   "id": "49e17074",
   "metadata": {},
   "outputs": [
    {
     "data": {
      "text/plain": [
       "['2', '4', '6']"
      ]
     },
     "execution_count": 22,
     "metadata": {},
     "output_type": "execute_result"
    }
   ],
   "source": [
    "# 23.Write a program to fetch only even values from a dictionary using loop.\n",
    "def fetch_evens(d : dict):\n",
    "    ret = []\n",
    "    for k, v in d.items():\n",
    "        if(int(v) % 2 == 0):\n",
    "            ret.append(v)\n",
    "    return ret\n",
    "\n",
    "str1 = 'abcdefg'\n",
    "str2 = '1234567'\n",
    "d = dict(zip(str1, str2))\n",
    "fetch_evens(d)"
   ]
  },
  {
   "cell_type": "code",
   "execution_count": 21,
   "id": "296ed85b",
   "metadata": {},
   "outputs": [
    {
     "name": "stdout",
     "output_type": "stream",
     "text": [
      "1\n",
      "0\n",
      "-3125\n",
      "243\n",
      "None\n",
      "1\n"
     ]
    }
   ],
   "source": [
    "# 24.Python program to find the power of a number using recursion.\n",
    "def power(x,n):\n",
    "    if n < 0: return None\n",
    "    if n == 0: return 1\n",
    "    power_rec = lambda x, n: x if(n==1) else x * power_rec(x,n-1)\n",
    "    return power_rec(x,n)\n",
    "\n",
    "    \n",
    "print(power(1,5))\n",
    "print(power(0,5))\n",
    "print(power(-5,5))\n",
    "print(power(3,5))\n",
    "print(power(2,-5))\n",
    "print(power(234,0))"
   ]
  },
  {
   "cell_type": "code",
   "execution_count": 33,
   "id": "52c8c8a8",
   "metadata": {},
   "outputs": [
    {
     "data": {
      "text/plain": [
       "[(1, 3),\n",
       " (3, 5),\n",
       " (5, 7),\n",
       " (11, 13),\n",
       " (17, 19),\n",
       " (29, 31),\n",
       " (41, 43),\n",
       " (59, 61),\n",
       " (71, 73),\n",
       " (101, 103),\n",
       " (107, 109),\n",
       " (137, 139),\n",
       " (149, 151),\n",
       " (179, 181),\n",
       " (191, 193),\n",
       " (197, 199),\n",
       " (227, 229),\n",
       " (239, 241),\n",
       " (269, 271),\n",
       " (281, 283),\n",
       " (311, 313),\n",
       " (347, 349),\n",
       " (419, 421),\n",
       " (431, 433),\n",
       " (461, 463),\n",
       " (521, 523),\n",
       " (569, 571),\n",
       " (599, 601),\n",
       " (617, 619),\n",
       " (641, 643),\n",
       " (659, 661),\n",
       " (809, 811),\n",
       " (821, 823),\n",
       " (827, 829),\n",
       " (857, 859),\n",
       " (881, 883)]"
      ]
     },
     "execution_count": 33,
     "metadata": {},
     "output_type": "execute_result"
    }
   ],
   "source": [
    "# 25.Write a program to print twin primes less than 1000. If two consecutive odd numbers are both prime then they are known as twin primes\n",
    "def is_prime(n : int):\n",
    "    for i in range(2,n):\n",
    "        if(n%i==0):\n",
    "            return False\n",
    "    return True\n",
    "\n",
    "twin_primes = []\n",
    "prev = [0, False]\n",
    "for i in range(1, 1000, 2):\n",
    "    if is_prime(i):\n",
    "        if prev[1]:\n",
    "            twin_primes.append((prev[0], i))\n",
    "        prev[0] = i\n",
    "        prev[1] = True\n",
    "    else: prev[1] = False\n",
    "\n",
    "twin_primes"
   ]
  },
  {
   "cell_type": "code",
   "execution_count": 47,
   "id": "eafbf3f8",
   "metadata": {},
   "outputs": [
    {
     "data": {
      "text/plain": [
       "24"
      ]
     },
     "execution_count": 47,
     "metadata": {},
     "output_type": "execute_result"
    }
   ],
   "source": [
    "# 26.Write a function that inputs a number and returns the product of digits of that number.\n",
    "# using strings (expensive)\n",
    "def digit_product(n : int):\n",
    "    st = str(n)\n",
    "    product = 1\n",
    "    for d in st:\n",
    "        product *= int(d)\n",
    "    return product\n",
    "\n",
    "digit_product(423)\n",
    "\n",
    "\n",
    "# using math (faster)\n",
    "def digit_product(n : int):\n",
    "    product = 1\n",
    "    while n: \n",
    "        d = n % 10 # gets last digit\n",
    "        n //= 10 \n",
    "        product *= d\n",
    "    return product\n",
    "\n",
    "digit_product(423)"
   ]
  },
  {
   "cell_type": "code",
   "execution_count": 5,
   "id": "7a07a129",
   "metadata": {},
   "outputs": [
    {
     "name": "stdout",
     "output_type": "stream",
     "text": [
      "[64]\n",
      "[5, 64]\n",
      "[1, 2, 4, 5, 64]\n",
      "[]\n",
      "[1, 2, 4, 5, 64]\n",
      "[]\n"
     ]
    }
   ],
   "source": [
    "# 27.Get last N elements from given list in Python\n",
    "def getLastNElements(lst : list, i : int):\n",
    "    return lst[len(lst)-i : len(lst)]\n",
    "\n",
    "lst = [1,2,4,5,64]\n",
    "print(getLastNElements(lst, 1))\n",
    "print(getLastNElements(lst, 2))\n",
    "print(getLastNElements(lst, 5))\n",
    "print(getLastNElements(lst, 0))\n",
    "print(getLastNElements(lst, 511))\n",
    "print(getLastNElements([],4))"
   ]
  },
  {
   "cell_type": "code",
   "execution_count": null,
   "id": "824d1d29",
   "metadata": {},
   "outputs": [],
   "source": [
    "# 28.Check if two given Strings are Isomorphic to each other\n"
   ]
  },
  {
   "cell_type": "code",
   "execution_count": 37,
   "id": "6abae304",
   "metadata": {},
   "outputs": [
    {
     "name": "stdout",
     "output_type": "stream",
     "text": [
      "ASDASD\n"
     ]
    }
   ],
   "source": [
    "# 29.Python Program to Remove Consecutive K element records\n",
    "\n",
    "lst = [12,1,1,2,4,5,6,1,3,6,6,12,54,12]\n",
    "\n",
    "def removeConsecutive(lst : list, k : int):    \n",
    "    count = 1\n",
    "    ret = list(lst)\n",
    "    for i in range(len(lst)-1):\n",
    "        if lst[i] == lst[i+1]:\n",
    "            count+=1\n",
    "        else: count = 1\n",
    "        if count == k:\n",
    "            for k in range(i-count+1, i):\n",
    "                print(k)\n",
    "            print(\"match\")\n",
    "            count = 0\n",
    "    return lst\n",
    "        \n",
    "\n",
    "removeConsecutive(lst,2)\n"
   ]
  },
  {
   "cell_type": "code",
   "execution_count": null,
   "id": "1d9c72f9",
   "metadata": {},
   "outputs": [],
   "source": [
    "# 30.Python program to find the Strongest Neighbour\n"
   ]
  },
  {
   "cell_type": "code",
   "execution_count": 23,
   "id": "fe52741b",
   "metadata": {},
   "outputs": [
    {
     "data": {
      "text/plain": [
       "16"
      ]
     },
     "execution_count": 23,
     "metadata": {},
     "output_type": "execute_result"
    }
   ],
   "source": [
    "def divisible(n : int):\n",
    "    if(n % 2 == 0):\n",
    "        return n\n",
    "    else: return None\n",
    "\n",
    "\n",
    "def square(x : int):\n",
    "    if(divisible(x)):\n",
    "        return x * x\n",
    "\n",
    "square(4)"
   ]
  },
  {
   "cell_type": "code",
   "execution_count": null,
   "id": "0f489ae8",
   "metadata": {},
   "outputs": [],
   "source": [
    "# 13, 29\n",
    "\n",
    "\n",
    "# 2, 2, 2, 2 -- only 3 times"
   ]
  },
  {
   "cell_type": "code",
   "execution_count": null,
   "id": "d6254c92",
   "metadata": {},
   "outputs": [],
   "source": [
    "# PROJECT QUESTION DO IN PYTHON NOT SQL FOR NULL STUFF\n",
    "# create another table with sql or python\n",
    "# # load data to new table ... compare record count etc\n",
    "\n",
    "# null check write function(column) check if null value\n",
    "\n",
    " \n",
    "# fetch data, create data frame\n",
    "\n",
    "\n",
    "# can use pandas if wanted\n",
    "# import pandas as pd\n",
    "# index data column = data frame\n",
    "\n",
    "# import numpy as np\n",
    "\n",
    "\n",
    "\n",
    "# this i called sourcing the data, once igested do transformation\n",
    "\n",
    "# ETL = extract, transform, load\n",
    "# \n",
    "\n",
    "# can create table iwht python or in workbench, one python to laod from table 1 to table 2\n",
    "\n",
    "\n",
    "\n",
    "# https://realpython.com/pandas-dataframe/"
   ]
  },
  {
   "cell_type": "code",
   "execution_count": 27,
   "id": "555d3a47",
   "metadata": {},
   "outputs": [],
   "source": [
    "lst=['mike','ram','mike','bro','ram','mike']\n",
    "d1 = {}\n",
    "for i in lst:\n",
    "    if i not in d1:\n",
    "        d1[i] = 1\n",
    "    else:\n",
    "        d1[i] += 1"
   ]
  },
  {
   "cell_type": "code",
   "execution_count": 19,
   "id": "e497e3c2",
   "metadata": {},
   "outputs": [
    {
     "name": "stdout",
     "output_type": "stream",
     "text": [
      "1\n"
     ]
    }
   ],
   "source": [
    "def exists(lst : list, v):\n",
    "    if(v in lst):\n",
    "        return v\n",
    "    else: return None\n",
    "\n",
    "\n",
    "def listIsEmpty(lst : list):\n",
    "    if(lst):\n",
    "        return len(lst)\n",
    "    else: return None\n",
    "\n",
    "print(listIsEmpty([1]))\n"
   ]
  },
  {
   "cell_type": "code",
   "execution_count": 14,
   "id": "0288ee6c",
   "metadata": {},
   "outputs": [
    {
     "name": "stdout",
     "output_type": "stream",
     "text": [
      "{40, 20, 30}\n"
     ]
    },
    {
     "data": {
      "text/plain": [
       "{20, 30, 40}"
      ]
     },
     "execution_count": 14,
     "metadata": {},
     "output_type": "execute_result"
    }
   ],
   "source": [
    "lst=[10,20,40,50,40,40,20,30,50,10,10,20]\n",
    "lst1=[30,40,60,60,40,20,30,20,30,30]\n",
    " \n",
    "# create dictionary -- faster \n",
    "d = dict(zip(lst, lst))\n",
    "d1 = dict(zip(lst1, lst1))\n",
    "\n",
    "print(d.keys() & d1.keys())\n",
    "\n",
    "\n",
    "# or just use sets\n",
    "s = set(lst)\n",
    "s1 = set(lst1)\n",
    "\n",
    "s & s1"
   ]
  },
  {
   "cell_type": "markdown",
   "metadata": {},
   "source": []
  }
 ],
 "metadata": {
  "kernelspec": {
   "display_name": "Python 3",
   "language": "python",
   "name": "python3"
  },
  "language_info": {
   "codemirror_mode": {
    "name": "ipython",
    "version": 3
   },
   "file_extension": ".py",
   "mimetype": "text/x-python",
   "name": "python",
   "nbconvert_exporter": "python",
   "pygments_lexer": "ipython3",
   "version": "3.9.12 (tags/v3.9.12:b28265d, Mar 23 2022, 23:52:46) [MSC v.1929 64 bit (AMD64)]"
  },
  "vscode": {
   "interpreter": {
    "hash": "30cf0e1abb529a22bc607410d8585599c1f1527cc04e9da2f800037aa994db87"
   }
  }
 },
 "nbformat": 4,
 "nbformat_minor": 5
}
