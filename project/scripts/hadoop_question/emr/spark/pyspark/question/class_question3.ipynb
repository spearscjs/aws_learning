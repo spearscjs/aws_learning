{
 "cells": [
  {
   "cell_type": "code",
   "execution_count": 6,
   "metadata": {},
   "outputs": [],
   "source": [
    "# Task 1:\n",
    "# 1. copy a parquet file to a s3 folder . [[ s3://zyd/abc/a.parquet    >> s3://zyd/abc/shreays/a.parquet ] using aws s3 cp\n",
    "# 2. create a crawler\n",
    "# 3. Run the crawler.\n",
    "\n",
    "\n",
    "# Task 2:\n",
    "# 1. copy a parquet file to a s3 folder . [[ s3://zyd/abc/a.parquet    >>\n",
    "# s3://zyd/abc/shreays_partiton/dataset_date=2022-01-01/.parquet ] using aws s3 cp\n",
    "# 2. create a crawler\n",
    "# 3. Run the crawler.\n"
   ]
  }
 ],
 "metadata": {
  "kernelspec": {
   "display_name": "Python 3",
   "language": "python",
   "name": "python3"
  },
  "language_info": {
   "codemirror_mode": {
    "name": "ipython",
    "version": 3
   },
   "file_extension": ".py",
   "mimetype": "text/x-python",
   "name": "python",
   "nbconvert_exporter": "python",
   "pygments_lexer": "ipython3",
   "version": "3.9.12"
  },
  "orig_nbformat": 4,
  "vscode": {
   "interpreter": {
    "hash": "30cf0e1abb529a22bc607410d8585599c1f1527cc04e9da2f800037aa994db87"
   }
  }
 },
 "nbformat": 4,
 "nbformat_minor": 2
}
