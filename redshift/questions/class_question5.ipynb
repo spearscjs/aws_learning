{
 "cells": [
  {
   "cell_type": "code",
   "execution_count": null,
   "metadata": {},
   "outputs": [],
   "source": [
    "# 1. Create a sql file (.sql extension). Put a create table statement.\n",
    "'''\n",
    "see sql/create\n",
    "'''\n",
    "\n",
    "# 2. Use a python script to call this module to create table.\n",
    "'''\n",
    "see project/project_question2.ipynb\n",
    "\n",
    "# 3. Use python module written in utils (connection set up to database) as pass the three sql file to create table for you.\n",
    "# Note- Before that drop the tables.\n",
    "'''\n",
    "\n",
    "tables = ['cards_ingest.tran_fact', 'cards_ingest.cust_dim_details', 'lkp_data.lkp_state_details']\n",
    "paths = ['sql/create/ct_lkp_state_details.sql','sql/create/ct_cust_dim_details.sql', 'sql/create/ct_tran_fact.sql'] \n",
    "''' \n",
    "# for local\n",
    "paths = ['sql/create/local/ct_lkp_state_details.sql','sql/create/local/ct_cust_dim_details.sql', 'sql/create/local/ct_tran_fact.sql'] \n",
    "'''\n",
    "print('drop tables')\n",
    "for t in tables:\n",
    "    print(t)\n",
    "    db.do_query(f\"DROP TABLE IF EXISTS {t}\", []) \n",
    "\n",
    "print('\\ncreate tables')\n",
    "for p in paths:\n",
    "    db.do_query_file( p )\n",
    "\n",
    "\n"
   ]
  }
 ],
 "metadata": {
  "kernelspec": {
   "display_name": "Python 3",
   "language": "python",
   "name": "python3"
  },
  "language_info": {
   "name": "python",
   "version": "3.9.12 (tags/v3.9.12:b28265d, Mar 23 2022, 23:52:46) [MSC v.1929 64 bit (AMD64)]"
  },
  "orig_nbformat": 4,
  "vscode": {
   "interpreter": {
    "hash": "30cf0e1abb529a22bc607410d8585599c1f1527cc04e9da2f800037aa994db87"
   }
  }
 },
 "nbformat": 4,
 "nbformat_minor": 2
}
