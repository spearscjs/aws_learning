{
 "cells": [
  {
   "cell_type": "code",
   "execution_count": 6,
   "metadata": {},
   "outputs": [],
   "source": [
    "from utils import db\n",
    "from utils import s3"
   ]
  },
  {
   "cell_type": "code",
   "execution_count": 16,
   "metadata": {},
   "outputs": [],
   "source": [
    "# 1. Create a a file:\n",
    "# col:\n",
    "# product_name varchar(20),\n",
    "# manufacturingcost decimal(5,2)\n",
    "# For each product build record using python script.\n",
    "# 'iphon11','iphone12','iphone13','iphoneSE','IpadMax','IpadMini','laptop256','Macbook512'],\n",
    "# 'Samsung':['galaxy10','galaxy11','galaxy12','galaxy13','watch320','watch340'\n",
    "\n",
    "import random\n",
    "\n",
    "product_costs = {}\n",
    "\n",
    "product_names = ['iphon11','iphone12','iphone13','iphoneSE','IpadMax','IpadMini','laptop256','Macbook512', \n",
    "    'galaxy10','galaxy11','galaxy12','galaxy13','watch320','watch340', 'Nk320','Nk400','Nk500']\n",
    "\n",
    "f = open('data/cards_ingest/product_cost.csv', 'w')\n",
    "f.write('product_name' + ',' + 'manufacturing_cost\\n')\n",
    "for p in product_names:\n",
    "    f.write(p + ',' + str(round(random.uniform(100.00, 999.99),2)) + '\\n')\n",
    "f.close()\n",
    "\n"
   ]
  },
  {
   "cell_type": "code",
   "execution_count": 7,
   "metadata": {},
   "outputs": [
    {
     "name": "stdout",
     "output_type": "stream",
     "text": [
      "sql/create/ct_order.sql done.\n",
      "sql/create/ct_product_cost.sql done.\n"
     ]
    },
    {
     "data": {
      "text/plain": [
       "'\\ndone in AWS CLI\\n'"
      ]
     },
     "execution_count": 7,
     "metadata": {},
     "output_type": "execute_result"
    }
   ],
   "source": [
    "# 2. Load data into s3 in separate folder (order data must be created earlier in class project 3).\n",
    "'''\n",
    "done in AWS CLI\n",
    "'''\n"
   ]
  },
  {
   "cell_type": "code",
   "execution_count": 13,
   "metadata": {},
   "outputs": [
    {
     "name": "stdout",
     "output_type": "stream",
     "text": [
      "sql/create/ct_order.sql done.\n",
      "sql/create/ct_product_cost.sql done.\n"
     ]
    }
   ],
   "source": [
    "# 3. Use copy command  to load data into redshift by.\n",
    "db.do_query_file('sql/create/ct_order.sql')\n",
    "db.do_query_file('sql/create/ct_product_cost.sql')\n",
    "# db.do_query_file('sql/s3/copy_order.sql')"
   ]
  },
  {
   "cell_type": "code",
   "execution_count": 9,
   "metadata": {},
   "outputs": [],
   "source": [
    "# 4  create a view by joining order and product_cost.\n",
    "query = \"\"\" \n",
    "    CREATE SCHEMA IF NOT EXISTS vw; \n",
    "\"\"\"\n",
    "db.do_query(query, [])\n",
    "\n",
    "query = \"\"\" \n",
    "CREATE OR REPLACE VIEW vw.order_product_cost AS \n",
    "    SELECT o.*, c.manufacturing_cost FROM cards_ingest.order o\n",
    "    JOIN cards_ingest.product_cost c\n",
    "    ON o.product_name = c.product_name;\n",
    "\"\"\"\n",
    "db.do_query(query, [])"
   ]
  },
  {
   "cell_type": "code",
   "execution_count": 10,
   "metadata": {},
   "outputs": [
    {
     "name": "stdout",
     "output_type": "stream",
     "text": [
      "{'ResponseMetadata': {'RequestId': 'EBKJ44T22TPSEC69', 'HostId': 'qShJnl9bVc7Bw+H0HWCBDKP9GQJ48Xui5LHW83qVnDOFhwJLyCFutbu7x67B3jPab9J5xB9rAHQ=', 'HTTPStatusCode': 200, 'HTTPHeaders': {'x-amz-id-2': 'qShJnl9bVc7Bw+H0HWCBDKP9GQJ48Xui5LHW83qVnDOFhwJLyCFutbu7x67B3jPab9J5xB9rAHQ=', 'x-amz-request-id': 'EBKJ44T22TPSEC69', 'date': 'Thu, 12 Jan 2023 21:48:20 GMT', 'content-type': 'application/xml', 'transfer-encoding': 'chunked', 'server': 'AmazonS3'}, 'RetryAttempts': 0}, 'Buckets': [{'Name': 'quintrix-spearscjs', 'CreationDate': datetime.datetime(2023, 1, 9, 19, 37, 25, tzinfo=tzutc())}, {'Name': 'test-spearscjs', 'CreationDate': datetime.datetime(2023, 1, 12, 21, 39, 7, tzinfo=tzutc())}, {'Name': 'views-quintrix-spearscjs', 'CreationDate': datetime.datetime(2023, 1, 12, 19, 14, 27, tzinfo=tzutc())}], 'Owner': {'DisplayName': 'spearscjs', 'ID': '1b7f5da4c80f4cc0884c213769d24009e307959bece34048a82e0db6e42d1d19'}} \n",
      "\n",
      "SUCCESS\n"
     ]
    }
   ],
   "source": [
    "# 5. Use boto3 to create bucket then list the buckets\n",
    "s3.client.create_bucket(Bucket = 'views-quintrix-spearscjs')\n",
    "\n",
    "print(s3.client.list_buckets(), '\\n')\n",
    "\n",
    "if(s3.bucket_exists('views-quintrix-spearscjs')):\n",
    "    print(\"SUCCESS\")\n",
    "else:\n",
    "    print(\"FAILURE\")\n"
   ]
  },
  {
   "cell_type": "code",
   "execution_count": 14,
   "metadata": {},
   "outputs": [],
   "source": [
    "# 6. Unload data from view into s3 bucket (this has to be separate bucket then created earlier) (not doing yet)\n",
    "\n",
    "# csv, header, allow overwrite, optinal? (null as)\n",
    "\n",
    "s3.empty_bucket('views-quintrix-spearscjs')\n",
    "\n",
    "query = \"\"\"\n",
    "    UNLOAD ('select * from vw.order_product_cost') \n",
    "    TO 's3://views-quintrix-spearscjs/vw_order_product_cost.csv'\n",
    "    IAM_ROLE 'arn:aws:iam::775856445594:role/service-role/AmazonRedshift-CommandsAccessRole-20230109T135507'\n",
    "    PARALLEL OFF\n",
    "    ALLOWOVERWRITE \n",
    "    FORMAT CSV;\n",
    "\"\"\"\n",
    "res = db.do_query(query, [])"
   ]
  }
 ],
 "metadata": {
  "kernelspec": {
   "display_name": "Python 3",
   "language": "python",
   "name": "python3"
  },
  "language_info": {
   "codemirror_mode": {
    "name": "ipython",
    "version": 3
   },
   "file_extension": ".py",
   "mimetype": "text/x-python",
   "name": "python",
   "nbconvert_exporter": "python",
   "pygments_lexer": "ipython3",
   "version": "3.9.12"
  },
  "orig_nbformat": 4,
  "vscode": {
   "interpreter": {
    "hash": "30cf0e1abb529a22bc607410d8585599c1f1527cc04e9da2f800037aa994db87"
   }
  }
 },
 "nbformat": 4,
 "nbformat_minor": 2
}
