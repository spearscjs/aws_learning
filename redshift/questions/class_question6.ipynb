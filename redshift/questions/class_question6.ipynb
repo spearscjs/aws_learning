{
 "cells": [
  {
   "cell_type": "code",
   "execution_count": 2,
   "metadata": {},
   "outputs": [],
   "source": [
    "import db"
   ]
  },
  {
   "cell_type": "code",
   "execution_count": 44,
   "metadata": {},
   "outputs": [],
   "source": [
    "# 1. Create a a file:\n",
    "# col:\n",
    "# product_name varchar(20),\n",
    "# manufacturingcost decimal(5,2)\n",
    "import random\n",
    "\n",
    "product_costs = {}\n",
    "\n",
    "product_names = ['iphon11','iphone12','iphone13','iphoneSE','IpadMax','IpadMini','laptop256','Macbook512', \n",
    "    'galaxy10','galaxy11','galaxy12','galaxy13','watch320','watch340', 'Nk320','Nk400','Nk500']\n",
    "\n",
    "f = open('product_costs.csv', 'w')\n",
    "f.write('product_name' + ',' + 'manufacturing_cost\\n')\n",
    "for p in product_names:\n",
    "    f.write(p + ',' + str(round(random.uniform(100.00, 999.99),2)) + '\\n')\n",
    "f.close()\n"
   ]
  },
  {
   "cell_type": "code",
   "execution_count": 16,
   "metadata": {},
   "outputs": [],
   "source": [
    "# For each product build record using python script.\n",
    "# 'iphon11','iphone12','iphone13','iphoneSE','IpadMax','IpadMini','laptop256','Macbook512'],\n",
    "# 'Samsung':['galaxy10','galaxy11','galaxy12','galaxy13','watch320','watch340'\n",
    " \n",
    "# create a table in redshift also.-- table name product_cost\n",
    " \n",
    "# 2. Load data into s3 in separate folder (order data must be created earlier in class project 3).\n",
    "'''\n",
    "done in AWS CLI\n",
    "'''"
   ]
  },
  {
   "cell_type": "code",
   "execution_count": null,
   "metadata": {},
   "outputs": [],
   "source": [
    "# 3. Use copy command  to load data into redshift by.\n",
    "query = \"\"\" \n",
    "    COPY cards_ingest.order\n",
    "    FROM -- \n",
    "    credentials --\n",
    "    csv IGNOREHEADER 1;\n",
    "\"\"\"\n",
    "\n",
    "db.do_query(query, [])\n",
    "\n"
   ]
  },
  {
   "cell_type": "code",
   "execution_count": 5,
   "metadata": {},
   "outputs": [],
   "source": [
    "# 4  create a view by joining order and product_cost.\n",
    "query = \"\"\" \n",
    "    CREATE SCHEMA IF NOT EXISTS vw; \n",
    "\"\"\"\n",
    "db.do_query(query, [])\n",
    "\n",
    "query = \"\"\" \n",
    "CREATE OR REPLACE VIEW vw.order_product_cost AS \n",
    "    SELECT o.*, c.manufacturing_cost FROM cards_ingest.order o\n",
    "    JOIN cards_ingest.product_cost c\n",
    "    ON o.product_name = c.product_name;\n",
    "\"\"\"\n",
    "db.do_query(query, [])\n"
   ]
  },
  {
   "cell_type": "code",
   "execution_count": null,
   "metadata": {},
   "outputs": [],
   "source": [
    "\n",
    "# 5. Unload data from view into s3 bucket (this has to be separate bucket then created earlier) (not doing yet)"
   ]
  },
  {
   "cell_type": "code",
   "execution_count": null,
   "metadata": {},
   "outputs": [],
   "source": []
  }
 ],
 "metadata": {
  "kernelspec": {
   "display_name": "Python 3",
   "language": "python",
   "name": "python3"
  },
  "language_info": {
   "codemirror_mode": {
    "name": "ipython",
    "version": 3
   },
   "file_extension": ".py",
   "mimetype": "text/x-python",
   "name": "python",
   "nbconvert_exporter": "python",
   "pygments_lexer": "ipython3",
   "version": "3.9.12"
  },
  "orig_nbformat": 4,
  "vscode": {
   "interpreter": {
    "hash": "30cf0e1abb529a22bc607410d8585599c1f1527cc04e9da2f800037aa994db87"
   }
  }
 },
 "nbformat": 4,
 "nbformat_minor": 2
}
