{
 "cells": [
  {
   "cell_type": "code",
   "execution_count": 1,
   "metadata": {},
   "outputs": [],
   "source": [
    "from utils import db\n",
    "from utils import s3"
   ]
  },
  {
   "cell_type": "code",
   "execution_count": 4,
   "metadata": {},
   "outputs": [],
   "source": [
    "# 1. Create a a file:\n",
    "# col:\n",
    "# product_name varchar(20),\n",
    "# manufacturingcost decimal(5,2)\n",
    "# For each product build record using python script.\n",
    "# 'iphon11','iphone12','iphone13','iphoneSE','IpadMax','IpadMini','laptop256','Macbook512'],\n",
    "# 'Samsung': ['galaxy10','galaxy11','galaxy12','galaxy13','watch320','watch340'\n",
    "\n",
    "import random\n",
    "\n",
    "product_costs = {}\n",
    "\n",
    "product_names = ['iphon11','iphone12','iphone13','iphoneSE','IpadMax','IpadMini','laptop256','Macbook512', \n",
    "    'galaxy10','galaxy11','galaxy12','galaxy13','watch320','watch340', 'Nk320','Nk400','Nk500']\n",
    "\n",
    "f = open('data/cards_ingest/product_cost.csv', 'w')\n",
    "f.write('product_name' + ',' + 'manufacturing_cost\\n')\n",
    "for p in product_names:\n",
    "    f.write(p + ',' + str(round(random.uniform(100.00, 500.00),2)) + '\\n')\n",
    "f.close()"
   ]
  },
  {
   "cell_type": "code",
   "execution_count": 1,
   "metadata": {},
   "outputs": [],
   "source": [
    "# 2. Load data into s3 in separate folder (order data must be created earlier in class project 3).\n",
    "s3.upload_file('data/cards_ingest/product_cost.csv', 'quintrix-spearscjs', 'cards_ingest/product_cost.csv')\n",
    "s3.upload_file('data/cards_ingest/order_data_20230401.csv', 'quintrix-spearscjs', 'cards_ingest/order_data/order_data_20230401.csv')"
   ]
  },
  {
   "cell_type": "code",
   "execution_count": 5,
   "metadata": {},
   "outputs": [
    {
     "name": "stdout",
     "output_type": "stream",
     "text": [
      "sql/create/ct_order.sql done.\n",
      "sql/create/ct_product_cost.sql done.\n"
     ]
    }
   ],
   "source": [
    "# 3. Use copy command  to load data into redshift by.\n",
    "db.do_query_file('sql/create/ct_order.sql', [])\n",
    "db.do_query_file('sql/create/ct_product_cost.sql', [])\n",
    "\n",
    "args = ['vw.order_product_cost', 's3://views-quintrix-spearscjs/order/vw_order_product_cost.csv',\n",
    "    db.redshift_iam, ',']\n",
    "res = db.do_query_file('sql/query_templates/copy.sql', args)\n"
   ]
  },
  {
   "cell_type": "code",
   "execution_count": 13,
   "metadata": {},
   "outputs": [
    {
     "name": "stdout",
     "output_type": "stream",
     "text": [
      "sql/create/view/ct_order_product_cost.sql done.\n"
     ]
    }
   ],
   "source": [
    "# 4  create a view by joining order and product_cost.\n",
    "query = \"\"\" \n",
    "    CREATE SCHEMA IF NOT EXISTS vw; \n",
    "\"\"\"\n",
    "db.do_query(query, [])\n",
    "\n",
    "db.do_query_file('sql/create/view/ct_order_product_cost.sql', [])"
   ]
  },
  {
   "cell_type": "code",
   "execution_count": 7,
   "metadata": {},
   "outputs": [
    {
     "name": "stdout",
     "output_type": "stream",
     "text": [
      "{'ResponseMetadata': {'RequestId': 'YX0EG4BD5EBWF10R', 'HostId': '4aDgYVa779SkIcwOgiEE3DUy47LlhCM3ntA2W7RWv6PPQeseLsWVfY7io/jjR4UL9+lwxBGf2sg=', 'HTTPStatusCode': 200, 'HTTPHeaders': {'x-amz-id-2': '4aDgYVa779SkIcwOgiEE3DUy47LlhCM3ntA2W7RWv6PPQeseLsWVfY7io/jjR4UL9+lwxBGf2sg=', 'x-amz-request-id': 'YX0EG4BD5EBWF10R', 'date': 'Tue, 17 Jan 2023 18:45:29 GMT', 'content-type': 'application/xml', 'transfer-encoding': 'chunked', 'server': 'AmazonS3'}, 'RetryAttempts': 0}, 'Buckets': [{'Name': 'quintrix-spearscjs', 'CreationDate': datetime.datetime(2023, 1, 9, 19, 37, 25, tzinfo=tzutc())}, {'Name': 'test-spearscjs', 'CreationDate': datetime.datetime(2023, 1, 12, 21, 39, 7, tzinfo=tzutc())}, {'Name': 'views-quintrix-spearscjs', 'CreationDate': datetime.datetime(2023, 1, 12, 19, 14, 27, tzinfo=tzutc())}, {'Name': 'views-quintrix-test1', 'CreationDate': datetime.datetime(2023, 1, 17, 18, 8, 9, tzinfo=tzutc())}], 'Owner': {'DisplayName': 'spearscjs', 'ID': '1b7f5da4c80f4cc0884c213769d24009e307959bece34048a82e0db6e42d1d19'}} \n",
      "\n",
      "SUCCESS\n"
     ]
    }
   ],
   "source": [
    "# 5. Use boto3 to create bucket then list the buckets\n",
    "s3.create_bucket('views-quintrix-spearscjs')\n",
    "\n",
    "print(s3.client.list_buckets(), '\\n')\n",
    "\n",
    "if(s3.bucket_exists('views-quintrix-spearscjs')):\n",
    "    print(\"SUCCESS\")\n",
    "else:\n",
    "    print(\"FAILURE\")"
   ]
  },
  {
   "cell_type": "code",
   "execution_count": 6,
   "metadata": {},
   "outputs": [
    {
     "name": "stdout",
     "output_type": "stream",
     "text": [
      "sql/query_templates/unload.sql done.\n"
     ]
    }
   ],
   "source": [
    "# 6. Unload data from view into s3 bucket (this has to be separate bucket then created earlier) (not doing yet)\n",
    "\n",
    "# csv, header, allow overwrite, optinal? (null as)\n",
    "\n",
    "s3.empty_bucket('views-quintrix-spearscjs')\n",
    "query = 'select * from vw.order_product_cost'\n",
    "args = [query, 's3://views-quintrix-spearscjs/order/vw_order_product_cost.csv',\n",
    "    db.redshift_iam, ',']\n",
    "\n",
    "res = db.do_query_file('sql/query_templates/unload.sql', args)"
   ]
  },
  {
   "cell_type": "markdown",
   "metadata": {},
   "source": []
  },
  {
   "cell_type": "code",
   "execution_count": 1,
   "metadata": {},
   "outputs": [
    {
     "name": "stdout",
     "output_type": "stream",
     "text": [
      "sql/create/view/ct_order_profit.sql done.\n"
     ]
    }
   ],
   "source": [
    "# 7. Create a new view by taking all the records where you have profit. Profit is sales amount -manufacturingcost. So add all the fields from order table\n",
    "# and cost from product_cost.\n",
    "db.do_query_file('sql/create/view/ct_order_profit.sql', [])"
   ]
  },
  {
   "cell_type": "code",
   "execution_count": 4,
   "metadata": {},
   "outputs": [
    {
     "name": "stdout",
     "output_type": "stream",
     "text": [
      "sql/create/view/ct_order_profit.sql done.\n"
     ]
    }
   ],
   "source": [
    "# 8. Create col as profit_group the values are [ if profit percenatge is more 10% the \"Bumper profit\", it is 0 to 10% then \"Marginal profit\"\n",
    "# if it is -5% to 0% then \"Loss making\" else \"Bumper Loss\"\n",
    "\n",
    "query = \"\"\" \n",
    "DROP VIEW IF EXISTS vw.order_profit;\n",
    "\"\"\"\n",
    "db.do_query(query, [])\n",
    "\n",
    "db.do_query_file('sql/create/view/ct_order_profit.sql', [])"
   ]
  },
  {
   "cell_type": "code",
   "execution_count": 5,
   "metadata": {},
   "outputs": [
    {
     "name": "stdout",
     "output_type": "stream",
     "text": [
      "sql/query_templates/unload.sql done.\n"
     ]
    }
   ],
   "source": [
    "# 9. Unload the view into a s3 file.\n",
    "query = 'select * from vw.order_profit'\n",
    "args = [query, 's3://views-quintrix-spearscjs/view/vw_order_profit.csv',\n",
    "    db.redshift_iam, ',']\n",
    "\n",
    "db.do_query_file('sql/query_templates/unload.sql', args)"
   ]
  },
  {
   "cell_type": "code",
   "execution_count": 7,
   "metadata": {},
   "outputs": [
    {
     "name": "stdout",
     "output_type": "stream",
     "text": [
      "sql/create/view/ct_profit_rank.sql done.\n"
     ]
    }
   ],
   "source": [
    "# 10. Create another view to show total profit by each brand_name,year-mth cd (ex:202201,202203). Do a rank by the total profit (desc) and\n",
    "# amount of product sold (Asc)\n",
    "query = \"\"\" \n",
    "    DROP VIEW IF EXISTS vw.order_total_profit;\n",
    "\"\"\"\n",
    "db.do_query(query, [])\n",
    "db.do_query_file('sql/create/view/ct_profit_rank.sql', [])"
   ]
  },
  {
   "cell_type": "code",
   "execution_count": 15,
   "metadata": {},
   "outputs": [
    {
     "data": {
      "text/html": [
       "<div>\n",
       "<style scoped>\n",
       "    .dataframe tbody tr th:only-of-type {\n",
       "        vertical-align: middle;\n",
       "    }\n",
       "\n",
       "    .dataframe tbody tr th {\n",
       "        vertical-align: top;\n",
       "    }\n",
       "\n",
       "    .dataframe thead th {\n",
       "        text-align: right;\n",
       "    }\n",
       "</style>\n",
       "<table border=\"1\" class=\"dataframe\">\n",
       "  <thead>\n",
       "    <tr style=\"text-align: right;\">\n",
       "      <th></th>\n",
       "      <th>brand_name</th>\n",
       "      <th>year_month</th>\n",
       "      <th>total_profit</th>\n",
       "      <th>num_sold</th>\n",
       "      <th>profit_rank</th>\n",
       "      <th>num_sold_rank</th>\n",
       "    </tr>\n",
       "  </thead>\n",
       "  <tbody>\n",
       "    <tr>\n",
       "      <th>0</th>\n",
       "      <td>Samsung</td>\n",
       "      <td>2018-5</td>\n",
       "      <td>189063.14</td>\n",
       "      <td>721</td>\n",
       "      <td>1</td>\n",
       "      <td>3</td>\n",
       "    </tr>\n",
       "    <tr>\n",
       "      <th>1</th>\n",
       "      <td>Apple</td>\n",
       "      <td>2018-5</td>\n",
       "      <td>188758.19</td>\n",
       "      <td>743</td>\n",
       "      <td>2</td>\n",
       "      <td>2</td>\n",
       "    </tr>\n",
       "    <tr>\n",
       "      <th>2</th>\n",
       "      <td>Nokia</td>\n",
       "      <td>2018-5</td>\n",
       "      <td>134938.57</td>\n",
       "      <td>734</td>\n",
       "      <td>3</td>\n",
       "      <td>1</td>\n",
       "    </tr>\n",
       "    <tr>\n",
       "      <th>3</th>\n",
       "      <td>Apple</td>\n",
       "      <td>2018-6</td>\n",
       "      <td>193124.29</td>\n",
       "      <td>670</td>\n",
       "      <td>1</td>\n",
       "      <td>3</td>\n",
       "    </tr>\n",
       "    <tr>\n",
       "      <th>4</th>\n",
       "      <td>Samsung</td>\n",
       "      <td>2018-6</td>\n",
       "      <td>169570.16</td>\n",
       "      <td>662</td>\n",
       "      <td>2</td>\n",
       "      <td>2</td>\n",
       "    </tr>\n",
       "    <tr>\n",
       "      <th>...</th>\n",
       "      <td>...</td>\n",
       "      <td>...</td>\n",
       "      <td>...</td>\n",
       "      <td>...</td>\n",
       "      <td>...</td>\n",
       "      <td>...</td>\n",
       "    </tr>\n",
       "    <tr>\n",
       "      <th>67</th>\n",
       "      <td>Apple</td>\n",
       "      <td>2020-3</td>\n",
       "      <td>178996.55</td>\n",
       "      <td>682</td>\n",
       "      <td>2</td>\n",
       "      <td>2</td>\n",
       "    </tr>\n",
       "    <tr>\n",
       "      <th>68</th>\n",
       "      <td>Nokia</td>\n",
       "      <td>2020-3</td>\n",
       "      <td>136177.53</td>\n",
       "      <td>706</td>\n",
       "      <td>3</td>\n",
       "      <td>1</td>\n",
       "    </tr>\n",
       "    <tr>\n",
       "      <th>69</th>\n",
       "      <td>Samsung</td>\n",
       "      <td>2020-4</td>\n",
       "      <td>191462.48</td>\n",
       "      <td>704</td>\n",
       "      <td>1</td>\n",
       "      <td>3</td>\n",
       "    </tr>\n",
       "    <tr>\n",
       "      <th>70</th>\n",
       "      <td>Apple</td>\n",
       "      <td>2020-4</td>\n",
       "      <td>179230.93</td>\n",
       "      <td>673</td>\n",
       "      <td>2</td>\n",
       "      <td>2</td>\n",
       "    </tr>\n",
       "    <tr>\n",
       "      <th>71</th>\n",
       "      <td>Nokia</td>\n",
       "      <td>2020-4</td>\n",
       "      <td>137631.39</td>\n",
       "      <td>652</td>\n",
       "      <td>3</td>\n",
       "      <td>1</td>\n",
       "    </tr>\n",
       "  </tbody>\n",
       "</table>\n",
       "<p>72 rows × 6 columns</p>\n",
       "</div>"
      ],
      "text/plain": [
       "   brand_name year_month total_profit  num_sold  profit_rank  num_sold_rank\n",
       "0     Samsung     2018-5    189063.14       721            1              3\n",
       "1       Apple     2018-5    188758.19       743            2              2\n",
       "2       Nokia     2018-5    134938.57       734            3              1\n",
       "3       Apple     2018-6    193124.29       670            1              3\n",
       "4     Samsung     2018-6    169570.16       662            2              2\n",
       "..        ...        ...          ...       ...          ...            ...\n",
       "67      Apple     2020-3    178996.55       682            2              2\n",
       "68      Nokia     2020-3    136177.53       706            3              1\n",
       "69    Samsung     2020-4    191462.48       704            1              3\n",
       "70      Apple     2020-4    179230.93       673            2              2\n",
       "71      Nokia     2020-4    137631.39       652            3              1\n",
       "\n",
       "[72 rows x 6 columns]"
      ]
     },
     "execution_count": 15,
     "metadata": {},
     "output_type": "execute_result"
    }
   ],
   "source": [
    "# 11. unload data to a CSV file wtih header and pipe delimited\n",
    "query = 'select * from vw.profit_rank'\n",
    "args = [query, 's3://views-quintrix-spearscjs/order/vw_profit_rank.csv',\n",
    "    db.redshift_iam, '|']\n",
    "\n",
    "db.do_query_file('sql/query_templates/unload.sql', args)"
   ]
  }
 ],
 "metadata": {
  "kernelspec": {
   "display_name": "Python 3",
   "language": "python",
   "name": "python3"
  },
  "language_info": {
   "codemirror_mode": {
    "name": "ipython",
    "version": 3
   },
   "file_extension": ".py",
   "mimetype": "text/x-python",
   "name": "python",
   "nbconvert_exporter": "python",
   "pygments_lexer": "ipython3",
   "version": "3.9.12 (tags/v3.9.12:b28265d, Mar 23 2022, 23:52:46) [MSC v.1929 64 bit (AMD64)]"
  },
  "orig_nbformat": 4,
  "vscode": {
   "interpreter": {
    "hash": "30cf0e1abb529a22bc607410d8585599c1f1527cc04e9da2f800037aa994db87"
   }
  }
 },
 "nbformat": 4,
 "nbformat_minor": 2
}
