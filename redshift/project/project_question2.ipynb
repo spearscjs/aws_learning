{
 "cells": [
  {
   "cell_type": "code",
   "execution_count": 13,
   "metadata": {},
   "outputs": [
    {
     "name": "stdout",
     "output_type": "stream",
     "text": [
      "50000\n"
     ]
    }
   ],
   "source": [
    "#1. Use the python script to generate data as discussed in friday class.\n",
    "'''\n",
    "see:\n",
    "     data/cards_ingest/order_data.csv\n",
    "     questions/class_question3.ipynb\n",
    "'''\n",
    "\n",
    "import pandas as pd\n",
    "import random\n",
    "import datetime\n",
    "def random_date(start : datetime, end : datetime):\n",
    "    diff = datetime.timedelta(days=(end - start).days)\n",
    "    rae = random.random() * diff\n",
    "    return start + datetime.timedelta(days = rae.days)\n",
    "\n",
    "\n",
    "def generate_dummy_info(record_count):\n",
    "    print(record_count)\n",
    "    ran_data = []\n",
    "    start_date = datetime.datetime(2018, 5, 1)\n",
    "    end_date = datetime.datetime(2020, 5, 1)\n",
    "\n",
    "    for i in range(0, record_count):\n",
    "        id_start = f\"{i+1:07}\"\n",
    "        brand=random.choice(['Apple','Samsung','Nokia'])\n",
    "        if brand=='Apple':\n",
    "            product=random.choice(['iphon11','iphone12','iphone13','iphoneSE','IpadMax','IpadMini','laptop256','Macbook512'])\n",
    "        elif brand=='Samsung':\n",
    "            product=random.choice(['galaxy10','galaxy11','galaxy12','galaxy13','watch320','watch340'])\n",
    "        else:\n",
    "            product=random.choice(['Nk320','Nk400','Nk500'])\n",
    "        sales_ammt = (random.randint(0, 9999999))/100\n",
    "        sales_date = random_date(start_date,end_date)\n",
    "        ran_data.append((id_start, brand, product, sales_ammt, sales_date))\n",
    "\n",
    "    return ran_data\n",
    "\n",
    "\n",
    "record_num_request = 50000\n",
    "df = pd.DataFrame(generate_dummy_info(record_num_request), columns=['orderid', 'brand_name', 'product_name', 'sales_ammount', 'sales_date'])\n",
    "df.to_csv('data/cards_ingest/order_data_20230401.csv', index= False)"
   ]
  },
  {
   "cell_type": "code",
   "execution_count": 16,
   "metadata": {},
   "outputs": [
    {
     "name": "stdout",
     "output_type": "stream",
     "text": [
      "sql/create/local/ct_local_big_data.sql done.\n"
     ]
    }
   ],
   "source": [
    "#2. Create a python script to load data to table in your local instance.\n",
    "#3. When you create the script make sure you use the project folder as discussed (\n",
    "#utils :  Module to connect to database\n",
    "#Config : Store database details.\n",
    "#scripts : Final code which will invoke both module and load data into the table. T\n",
    "\n",
    "#Note: Table structure you can create using ur sql workbench.\n",
    "\n",
    "#Good luck !!!\n",
    "\n",
    "\n",
    "'''\n",
    "BEFORE RUNNING THIS COMMAND MAKE SURE TO CHANGE REDSHIFT VARIABLE IN config file\n",
    "    'config/database_connection.py': is_redshift = False  \n",
    "'''\n",
    "from utils import db\n",
    "import pandas as pd\n",
    "import random\n",
    "import datetime\n",
    "\n",
    "db.do_query('DROP TABLE IF EXISTS cards_ingest.big_data', [])\n",
    "db.do_query_file('sql/create/local/ct_local_big_data.sql')\n",
    "\n",
    "query = r\"\"\" \n",
    "    COPY cards_ingest.big_data\n",
    "    FROM 'C:\\Users\\dust\\Desktop\\quintrix\\git\\redshift\\project\\data\\cards_ingest\\order_data_20230401.csv'\n",
    "    DELIMITER ','\n",
    "    CSV HEADER;\n",
    "\"\"\"\n",
    "db.do_query(query, [])"
   ]
  }
 ],
 "metadata": {
  "kernelspec": {
   "display_name": "Python 3",
   "language": "python",
   "name": "python3"
  },
  "language_info": {
   "codemirror_mode": {
    "name": "ipython",
    "version": 3
   },
   "file_extension": ".py",
   "mimetype": "text/x-python",
   "name": "python",
   "nbconvert_exporter": "python",
   "pygments_lexer": "ipython3",
   "version": "3.9.12"
  },
  "orig_nbformat": 4,
  "vscode": {
   "interpreter": {
    "hash": "30cf0e1abb529a22bc607410d8585599c1f1527cc04e9da2f800037aa994db87"
   }
  }
 },
 "nbformat": 4,
 "nbformat_minor": 2
}
