{
 "cells": [
  {
   "cell_type": "code",
   "execution_count": 1,
   "metadata": {},
   "outputs": [
    {
     "data": {
      "text/plain": [
       "' see redshift_diagram.jpg '"
      ]
     },
     "execution_count": 1,
     "metadata": {},
     "output_type": "execute_result"
    }
   ],
   "source": [
    "# 1. Build a document show casing the redshift architecture using diagram. (No copy Paste- Use diagram)\n",
    "''' see redshift_diagram.jpg ''' "
   ]
  },
  {
   "cell_type": "code",
   "execution_count": 2,
   "metadata": {},
   "outputs": [
    {
     "data": {
      "text/plain": [
       "' see sql folder '"
      ]
     },
     "execution_count": 2,
     "metadata": {},
     "output_type": "execute_result"
    }
   ],
   "source": [
    "# 2. Create table sql (for 3 table create 3 files and store them in sql folder -- file name as ct_transaction.sql  then put the create table script)\n",
    "''' see sql folder '''"
   ]
  },
  {
   "cell_type": "code",
   "execution_count": 3,
   "metadata": {},
   "outputs": [],
   "source": [
    "# 3. Use python module written in utils (connection set up to database) as pass the three sql file to create table for you.\n",
    "# Note- Before that drop the tables.\n",
    "\n",
    "from utils import db "
   ]
  },
  {
   "cell_type": "code",
   "execution_count": 4,
   "metadata": {},
   "outputs": [
    {
     "name": "stdout",
     "output_type": "stream",
     "text": [
      "drop tables\n",
      "cards_ingest.tran_fact\n",
      "cards_ingest.cust_dim_details\n",
      "lkp_data.lkp_state_details\n",
      "\n",
      "create tables\n"
     ]
    },
    {
     "ename": "FileNotFoundError",
     "evalue": "[Errno 2] No such file or directory: 'sql/ct_lkp_state_details.sql'",
     "output_type": "error",
     "traceback": [
      "\u001b[1;31m---------------------------------------------------------------------------\u001b[0m",
      "\u001b[1;31mFileNotFoundError\u001b[0m                         Traceback (most recent call last)",
      "Cell \u001b[1;32mIn[4], line 12\u001b[0m\n\u001b[0;32m     10\u001b[0m \u001b[39mprint\u001b[39m(\u001b[39m'\u001b[39m\u001b[39m\\n\u001b[39;00m\u001b[39mcreate tables\u001b[39m\u001b[39m'\u001b[39m)\n\u001b[0;32m     11\u001b[0m \u001b[39mfor\u001b[39;00m p \u001b[39min\u001b[39;00m paths:\n\u001b[1;32m---> 12\u001b[0m     db\u001b[39m.\u001b[39;49mdo_query_file( p )\n",
      "File \u001b[1;32mc:\\Users\\dust\\Desktop\\quintrix\\git\\redshift\\project\\utils\\db.py:74\u001b[0m, in \u001b[0;36mdo_query_file\u001b[1;34m(filePathname)\u001b[0m\n\u001b[0;32m     72\u001b[0m cur \u001b[39m=\u001b[39m conn\u001b[39m.\u001b[39mcursor()\n\u001b[0;32m     73\u001b[0m ret \u001b[39m=\u001b[39m \u001b[39mNone\u001b[39;00m\n\u001b[1;32m---> 74\u001b[0m \u001b[39mwith\u001b[39;00m \u001b[39mopen\u001b[39;49m(filePathname, encoding \u001b[39m=\u001b[39;49m \u001b[39m'\u001b[39;49m\u001b[39mutf8\u001b[39;49m\u001b[39m'\u001b[39;49m) \u001b[39mas\u001b[39;00m f:\n\u001b[0;32m     75\u001b[0m     ret \u001b[39m=\u001b[39m cur\u001b[39m.\u001b[39mexecute(f\u001b[39m.\u001b[39mread())\n\u001b[0;32m     76\u001b[0m     \u001b[39mprint\u001b[39m(filePathname \u001b[39m+\u001b[39m \u001b[39m'\u001b[39m\u001b[39m done.\u001b[39m\u001b[39m'\u001b[39m)\n",
      "\u001b[1;31mFileNotFoundError\u001b[0m: [Errno 2] No such file or directory: 'sql/ct_lkp_state_details.sql'"
     ]
    }
   ],
   "source": [
    "tables = ['cards_ingest.tran_fact', 'cards_ingest.cust_dim_details', 'lkp_data.lkp_state_details']\n",
    "paths = ['sql/create/ct_lkp_state_details.sql','sql/create/ct_cust_dim_details.sql', 'sql/create/ct_tran_fact.sql'] \n",
    "'sql/create/ct_lkp_state_details.sql'\n",
    "\n",
    "print('drop tables')\n",
    "for t in tables:\n",
    "    print(t)\n",
    "    db.do_query(f\"DROP TABLE IF EXISTS {t}\", []) \n",
    "\n",
    "print('\\ncreate tables')\n",
    "for p in paths:\n",
    "    db.do_query_file( p )"
   ]
  },
  {
   "cell_type": "code",
   "execution_count": null,
   "metadata": {},
   "outputs": [],
   "source": [
    "# 3. Use python module written in utils (connection set up to database) as pass the three sql file to create table for you.\n",
    "# Note- Before that drop the tables.\n",
    "\n",
    "tables = ['cards_ingest.tran_fact', 'cards_ingest.cust_dim_details', 'lkp_data.lkp_state_details']\n",
    "paths = ['sql/create/ct_lkp_state_details.sql','sql/create/ct_cust_dim_details.sql', 'sql/create/ct_tran_fact.sql'] \n",
    "\n",
    "print('drop tables')\n",
    "for t in tables:\n",
    "    print(t)\n",
    "    db.do_query(f\"DROP TABLE IF EXISTS {t}\", []) \n",
    "\n",
    "print('\\ncreate tables')\n",
    "for p in paths:\n",
    "    db.do_query_file( p )"
   ]
  },
  {
   "cell_type": "code",
   "execution_count": null,
   "metadata": {},
   "outputs": [],
   "source": [
    "# 4.Put values in 3 csv file and use python to load data into the tables.\n",
    "# schema, tablename, filepathname\n",
    "tableInfo = [\n",
    "        ('data/cards_ingest/tran_fact.csv', 'tran_fact', 'cards_ingest'), \n",
    "        ('data/cards_ingest/cust_dim_details.csv', 'cust_dim_details', 'cards_ingest'), \n",
    "        ('data/lkp_data/lkp_state_details.csv', 'lkp_state_details', 'lkp_data')]\n",
    "\n",
    "for t in tableInfo:\n",
    "    db.loadFromCSV(t[0], t[1], t[2])"
   ]
  },
  {
   "cell_type": "code",
   "execution_count": null,
   "metadata": {},
   "outputs": [],
   "source": [
    "# 5. once all the tables are loaded create 2 more sql file and keep the below sql [Question from Class] written earlier\n",
    "# and use python script call the sql file and store the output into 2 csv file.\n",
    "\n",
    "# Question from Class \n",
    "# 3. Same as question 1. But the number of customer from transaction table is total number of unique customer till that date .\n",
    "# (Hint use window function)\n",
    "# 4. Same as question 2. If state cd is NULL  and cust_id is cust_109 then make sure to change to TX  else CA and calculate states where\n",
    "# company has to spend 2nd lowest $ amount from .\n",
    "# 5. Show me the total number of customer company has , total population and potential_customer_cnt across all the states\n",
    "'''queryInfo = [(queryFilepath, outputFilepath)] '''\n",
    "queryInfo = [('sql/select/sum_new_cust_per_day.sql', 'data/query/sum_new_cust_per_day.csv'),\n",
    "    ('sql/select/promotion_cost_rank.sql', 'data/query/promotion_cost_rank.csv'),    \n",
    "    ('sql/select/potential_cust_by_state.sql', 'data/query/potential_cust_by_state.csv')]\n",
    "for q in queryInfo:\n",
    "    t = db.do_query_file(q[0])\n",
    "    t.to_csv(q[1] ,index = False)"
   ]
  }
 ],
 "metadata": {
  "kernelspec": {
   "display_name": "Python 3",
   "language": "python",
   "name": "python3"
  },
  "language_info": {
   "codemirror_mode": {
    "name": "ipython",
    "version": 3
   },
   "file_extension": ".py",
   "mimetype": "text/x-python",
   "name": "python",
   "nbconvert_exporter": "python",
   "pygments_lexer": "ipython3",
   "version": "3.9.12"
  },
  "orig_nbformat": 4,
  "vscode": {
   "interpreter": {
    "hash": "30cf0e1abb529a22bc607410d8585599c1f1527cc04e9da2f800037aa994db87"
   }
  }
 },
 "nbformat": 4,
 "nbformat_minor": 2
}
