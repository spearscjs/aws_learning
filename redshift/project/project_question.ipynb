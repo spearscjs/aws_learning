{
 "cells": [
  {
   "cell_type": "code",
   "execution_count": null,
   "metadata": {},
   "outputs": [],
   "source": [
    "# 1. Build a document show casing the redshift architecture using diagram. (No copy Paste- Use diagram)\n",
    "\n",
    "# see redshift_diagram.jpg"
   ]
  },
  {
   "cell_type": "code",
   "execution_count": null,
   "metadata": {},
   "outputs": [],
   "source": [
    "# 2. Create table sql (for 3 table create 3 files and store them in sql folder -- file name as ct_transaction.sql  then put the create table script)\n",
    "\n"
   ]
  },
  {
   "cell_type": "code",
   "execution_count": null,
   "metadata": {},
   "outputs": [],
   "source": [
    "# 3. Use python module written in utils (connection set up to database) as pass the three sql file to create table for you.\n",
    "# Note- Before that drop the tables.\n"
   ]
  },
  {
   "cell_type": "code",
   "execution_count": null,
   "metadata": {},
   "outputs": [],
   "source": [
    "# 4.Put values in 3 csv file and use python to load data into the tables.\n",
    "# create .csv file in s3 load in redshift "
   ]
  },
  {
   "cell_type": "code",
   "execution_count": null,
   "metadata": {},
   "outputs": [],
   "source": [
    "# 5. once all the tables are loaded create 2 more sql file and keep the below sql [Question from Class] written earlier\n",
    "# and use python script call the sql file and store the output into 2 csv file.\n",
    "\n",
    "\n",
    "\n"
   ]
  },
  {
   "cell_type": "code",
   "execution_count": null,
   "metadata": {},
   "outputs": [],
   "source": [
    "# Question from Class \n",
    "# 3. Same as question 1. But the number of customer from transaction table is total number of unique customer till that date .\n",
    "# (Hint use window function)\n",
    "# 4. Same as question 2. If state cd is NULL  and cust_id is cust_109 then make sure to change to TX  else CA and calculate states where\n",
    "# company has to spend 2nd lowest $ amount from .\n",
    "# 5. Show me the total number of customer company has , total population and potential_customer_cnt across all the states\n"
   ]
  }
 ],
 "metadata": {
  "kernelspec": {
   "display_name": "Python 3",
   "language": "python",
   "name": "python3"
  },
  "language_info": {
   "name": "python",
   "version": "3.9.12 (tags/v3.9.12:b28265d, Mar 23 2022, 23:52:46) [MSC v.1929 64 bit (AMD64)]"
  },
  "orig_nbformat": 4,
  "vscode": {
   "interpreter": {
    "hash": "30cf0e1abb529a22bc607410d8585599c1f1527cc04e9da2f800037aa994db87"
   }
  }
 },
 "nbformat": 4,
 "nbformat_minor": 2
}
